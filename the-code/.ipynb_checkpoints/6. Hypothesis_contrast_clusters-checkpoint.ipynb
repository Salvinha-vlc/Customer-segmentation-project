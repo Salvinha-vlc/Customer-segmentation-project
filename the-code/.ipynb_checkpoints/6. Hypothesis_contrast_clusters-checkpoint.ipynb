{
 "cells": [
  {
   "cell_type": "markdown",
   "metadata": {},
   "source": [
    "# Hypothesis contrast per clusters.\n",
    "\n",
    "In this step, we want to perfom the same hypothesis contrast from previous steps in order to detect differences in average visits and average expenditures when customers are subject of a marketing campaign and when they are not.\n",
    "\n",
    "As we know, there is statistical evidence to claim that the marketing efforts are making a difference in the purchase behavior of customers but now, we wanted to take a closer look to see if this behavior is present or not in the macro clusters."
   ]
  },
  {
   "cell_type": "markdown",
   "metadata": {},
   "source": [
    "### Importing the libraries"
   ]
  },
  {
   "cell_type": "code",
   "execution_count": 1,
   "metadata": {},
   "outputs": [],
   "source": [
    "import pandas as pd\n",
    "pd.set_option('display.max_columns', 50)\n",
    "import numpy as np\n",
    "import matplotlib.pyplot as plt\n",
    "import seaborn as sns\n",
    "from sqlalchemy import create_engine\n",
    "import scipy\n",
    "from scipy import stats\n",
    "import math as m"
   ]
  },
  {
   "cell_type": "markdown",
   "metadata": {},
   "source": [
    "### Importing the datasets of interest for this analysis.\n",
    "\n",
    "The transactions_clean data contains all the transactions' information of the household, and the macro_cluster dataset contains the information regarding the cluster they belong to. The idea is to merge them and then perform the hypothesis testing.\n",
    "\n",
    "- H0: There are no differences in avg number of trips and avg expenditures when applying maketing campaigns. \n",
    "- HA: There are differences in avg number of trips and avg expenditures when the supermarket performs marketing campaigns."
   ]
  },
  {
   "cell_type": "code",
   "execution_count": 2,
   "metadata": {},
   "outputs": [],
   "source": [
    "transactions = pd.read_csv(\"../../data_final_project/transactions_clean.csv\")"
   ]
  },
  {
   "cell_type": "code",
   "execution_count": 3,
   "metadata": {},
   "outputs": [],
   "source": [
    "macro_cluster_df = pd.read_csv(\"../../data_final_project/macro_cluster_df.csv\")"
   ]
  },
  {
   "cell_type": "code",
   "execution_count": 4,
   "metadata": {},
   "outputs": [
    {
     "data": {
      "text/html": [
       "<div>\n",
       "<style scoped>\n",
       "    .dataframe tbody tr th:only-of-type {\n",
       "        vertical-align: middle;\n",
       "    }\n",
       "\n",
       "    .dataframe tbody tr th {\n",
       "        vertical-align: top;\n",
       "    }\n",
       "\n",
       "    .dataframe thead th {\n",
       "        text-align: right;\n",
       "    }\n",
       "</style>\n",
       "<table border=\"1\" class=\"dataframe\">\n",
       "  <thead>\n",
       "    <tr style=\"text-align: right;\">\n",
       "      <th></th>\n",
       "      <th>HOUSEHOLD_KEY</th>\n",
       "      <th>baskets</th>\n",
       "      <th>avg_unit_price</th>\n",
       "      <th>avg_qty_per_basket</th>\n",
       "      <th>total_expenditure</th>\n",
       "      <th>cluster</th>\n",
       "      <th>AGE_DESC</th>\n",
       "      <th>INCOME_DESC</th>\n",
       "      <th>ADULTS_NUM</th>\n",
       "      <th>KIDS_NUM</th>\n",
       "      <th>NUMEROUS_FAM</th>\n",
       "      <th>SINGLE_GENDER</th>\n",
       "      <th>AGE_MED</th>\n",
       "      <th>INCOME_LEVEL</th>\n",
       "      <th>GENDER_CAT</th>\n",
       "    </tr>\n",
       "  </thead>\n",
       "  <tbody>\n",
       "    <tr>\n",
       "      <th>0</th>\n",
       "      <td>1</td>\n",
       "      <td>14</td>\n",
       "      <td>2.782795</td>\n",
       "      <td>24.7857</td>\n",
       "      <td>805.58</td>\n",
       "      <td>3</td>\n",
       "      <td>65+</td>\n",
       "      <td>35-49K</td>\n",
       "      <td>2</td>\n",
       "      <td>0</td>\n",
       "      <td>0</td>\n",
       "      <td>NaN</td>\n",
       "      <td>60.0</td>\n",
       "      <td>2.0</td>\n",
       "      <td>NaN</td>\n",
       "    </tr>\n",
       "    <tr>\n",
       "      <th>1</th>\n",
       "      <td>7</td>\n",
       "      <td>6</td>\n",
       "      <td>2.873263</td>\n",
       "      <td>15.8333</td>\n",
       "      <td>228.18</td>\n",
       "      <td>2</td>\n",
       "      <td>45-54</td>\n",
       "      <td>50-74K</td>\n",
       "      <td>2</td>\n",
       "      <td>0</td>\n",
       "      <td>0</td>\n",
       "      <td>NaN</td>\n",
       "      <td>50.0</td>\n",
       "      <td>3.0</td>\n",
       "      <td>NaN</td>\n",
       "    </tr>\n",
       "    <tr>\n",
       "      <th>2</th>\n",
       "      <td>20</td>\n",
       "      <td>5</td>\n",
       "      <td>2.400513</td>\n",
       "      <td>7.8000</td>\n",
       "      <td>75.95</td>\n",
       "      <td>2</td>\n",
       "      <td>25-34</td>\n",
       "      <td>75-99K</td>\n",
       "      <td>2</td>\n",
       "      <td>0</td>\n",
       "      <td>0</td>\n",
       "      <td>NaN</td>\n",
       "      <td>30.0</td>\n",
       "      <td>4.0</td>\n",
       "      <td>NaN</td>\n",
       "    </tr>\n",
       "    <tr>\n",
       "      <th>3</th>\n",
       "      <td>25</td>\n",
       "      <td>17</td>\n",
       "      <td>2.854803</td>\n",
       "      <td>13.4706</td>\n",
       "      <td>534.20</td>\n",
       "      <td>2</td>\n",
       "      <td>35-44</td>\n",
       "      <td>50-74K</td>\n",
       "      <td>1</td>\n",
       "      <td>0</td>\n",
       "      <td>0</td>\n",
       "      <td>NaN</td>\n",
       "      <td>40.0</td>\n",
       "      <td>3.0</td>\n",
       "      <td>NaN</td>\n",
       "    </tr>\n",
       "    <tr>\n",
       "      <th>4</th>\n",
       "      <td>27</td>\n",
       "      <td>41</td>\n",
       "      <td>2.335259</td>\n",
       "      <td>2.8293</td>\n",
       "      <td>260.80</td>\n",
       "      <td>4</td>\n",
       "      <td>45-54</td>\n",
       "      <td>25-34K</td>\n",
       "      <td>1</td>\n",
       "      <td>0</td>\n",
       "      <td>0</td>\n",
       "      <td>Single Female</td>\n",
       "      <td>50.0</td>\n",
       "      <td>2.0</td>\n",
       "      <td>1.0</td>\n",
       "    </tr>\n",
       "  </tbody>\n",
       "</table>\n",
       "</div>"
      ],
      "text/plain": [
       "   HOUSEHOLD_KEY  baskets  avg_unit_price  avg_qty_per_basket  \\\n",
       "0              1       14        2.782795             24.7857   \n",
       "1              7        6        2.873263             15.8333   \n",
       "2             20        5        2.400513              7.8000   \n",
       "3             25       17        2.854803             13.4706   \n",
       "4             27       41        2.335259              2.8293   \n",
       "\n",
       "   total_expenditure  cluster AGE_DESC INCOME_DESC  ADULTS_NUM  KIDS_NUM  \\\n",
       "0             805.58        3      65+      35-49K           2         0   \n",
       "1             228.18        2    45-54      50-74K           2         0   \n",
       "2              75.95        2    25-34      75-99K           2         0   \n",
       "3             534.20        2    35-44      50-74K           1         0   \n",
       "4             260.80        4    45-54      25-34K           1         0   \n",
       "\n",
       "   NUMEROUS_FAM  SINGLE_GENDER  AGE_MED  INCOME_LEVEL  GENDER_CAT  \n",
       "0             0            NaN     60.0           2.0         NaN  \n",
       "1             0            NaN     50.0           3.0         NaN  \n",
       "2             0            NaN     30.0           4.0         NaN  \n",
       "3             0            NaN     40.0           3.0         NaN  \n",
       "4             0  Single Female     50.0           2.0         1.0  "
      ]
     },
     "execution_count": 4,
     "metadata": {},
     "output_type": "execute_result"
    }
   ],
   "source": [
    "macro_cluster_df.head()"
   ]
  },
  {
   "cell_type": "markdown",
   "metadata": {},
   "source": [
    "### Slicing the dataframe to get only the relevant information"
   ]
  },
  {
   "cell_type": "code",
   "execution_count": 5,
   "metadata": {},
   "outputs": [],
   "source": [
    "macro_cluster_df_red = macro_cluster_df.iloc[:,0:1]"
   ]
  },
  {
   "cell_type": "code",
   "execution_count": 6,
   "metadata": {},
   "outputs": [],
   "source": [
    "macro_cluster_df_red[\"cluster\"]=macro_cluster_df[\"cluster\"]"
   ]
  },
  {
   "cell_type": "code",
   "execution_count": 7,
   "metadata": {},
   "outputs": [
    {
     "data": {
      "text/html": [
       "<div>\n",
       "<style scoped>\n",
       "    .dataframe tbody tr th:only-of-type {\n",
       "        vertical-align: middle;\n",
       "    }\n",
       "\n",
       "    .dataframe tbody tr th {\n",
       "        vertical-align: top;\n",
       "    }\n",
       "\n",
       "    .dataframe thead th {\n",
       "        text-align: right;\n",
       "    }\n",
       "</style>\n",
       "<table border=\"1\" class=\"dataframe\">\n",
       "  <thead>\n",
       "    <tr style=\"text-align: right;\">\n",
       "      <th></th>\n",
       "      <th>HOUSEHOLD_KEY</th>\n",
       "      <th>cluster</th>\n",
       "    </tr>\n",
       "  </thead>\n",
       "  <tbody>\n",
       "    <tr>\n",
       "      <th>0</th>\n",
       "      <td>1</td>\n",
       "      <td>3</td>\n",
       "    </tr>\n",
       "    <tr>\n",
       "      <th>1</th>\n",
       "      <td>7</td>\n",
       "      <td>2</td>\n",
       "    </tr>\n",
       "    <tr>\n",
       "      <th>2</th>\n",
       "      <td>20</td>\n",
       "      <td>2</td>\n",
       "    </tr>\n",
       "    <tr>\n",
       "      <th>3</th>\n",
       "      <td>25</td>\n",
       "      <td>2</td>\n",
       "    </tr>\n",
       "    <tr>\n",
       "      <th>4</th>\n",
       "      <td>27</td>\n",
       "      <td>4</td>\n",
       "    </tr>\n",
       "  </tbody>\n",
       "</table>\n",
       "</div>"
      ],
      "text/plain": [
       "   HOUSEHOLD_KEY  cluster\n",
       "0              1        3\n",
       "1              7        2\n",
       "2             20        2\n",
       "3             25        2\n",
       "4             27        4"
      ]
     },
     "execution_count": 7,
     "metadata": {},
     "output_type": "execute_result"
    }
   ],
   "source": [
    "macro_cluster_df_red.head()"
   ]
  },
  {
   "cell_type": "markdown",
   "metadata": {},
   "source": [
    "#### The query below is just informative. We ran the query in SEQUEL PRO and saved the results into a csv called mk_effect (called below)"
   ]
  },
  {
   "cell_type": "code",
   "execution_count": null,
   "metadata": {},
   "outputs": [],
   "source": [
    "query_mk_effect = \"\"\"\n",
    "-- statistics before campaign; \n",
    "\n",
    "create table ai.b_1 as\n",
    "select distinct a.household_key, count(distinct a.basket_id) as total_trips,\n",
    "sum(a.sales_value) as total_spend\n",
    "from ai.transactions_data a, ai.aa b\n",
    "where a.household_key = b.household_key and a.day < b.first_start_day\n",
    "group by b.household_key; \n",
    "\n",
    "create table ai.b_2 as\n",
    "select distinct a.household_key, a.total_trips/b.first_start_week as avg_trips,\n",
    "a.total_spend/b.first_start_week as avg_spend\n",
    "from ai.b_1 a, ai.aa b\n",
    "where a.household_key = b.household_key\n",
    "order by a.household_key; \n",
    "\n",
    "-- statistics after campaign;\n",
    "create table ai.c_1 as\n",
    "select distinct a.household_key, count(distinct a.basket_id) as total_trips,\n",
    "sum(a.sales_value) as total_spend\n",
    "from ai.transactions_data a, ai.aa b\n",
    "where a.household_key = b.household_key and a.day >= b.first_start_day\n",
    "group by a.household_key;\n",
    "\n",
    "-- 1581 households have data after campaign dates\n",
    "\n",
    "create table ai.c_11 as\n",
    "select a.household_key, a.total_trips, a.total_spend, b.campaigns, b.first_start_week \n",
    "from ai.c_1 a\n",
    "join ai.aa b\n",
    "USING(household_key);\n",
    "\n",
    "create table ai.c_2 as\n",
    "select distinct household_key, total_trips/(104 - first_start_week) as avg_trips,\n",
    "total_spend/(104 - first_start_week) as avg_spend, campaigns\n",
    "from ai.c_11\n",
    "order by household_key; \n",
    "\n",
    "-- combining data for differences in stats;\n",
    "\n",
    "create table ai.mk_effect as ### The result of this query is the one that we are going to use to perform the analysis.\n",
    "select distinct a.household_key, b.avg_trips - a.avg_trips as diff_avg_trips,\n",
    "b.avg_spend - a.avg_spend as diff_avg_spend, b.campaigns\n",
    "from ai.b_2 a, ai.c_2 b\n",
    "where a.household_key = b.household_key\n",
    "order by a.household_key; \n",
    "\"\"\"\n",
    "\n",
    "mk_effect = pd.read_sql(query_mk_effect, engine)"
   ]
  },
  {
   "cell_type": "markdown",
   "metadata": {},
   "source": [
    "### We then exported the resulting query into the mk_effect table and imported as a csv."
   ]
  },
  {
   "cell_type": "code",
   "execution_count": 16,
   "metadata": {},
   "outputs": [],
   "source": [
    "mk_effect = pd.read_csv(\"../../data_final_project/mk_effect.csv\")"
   ]
  },
  {
   "cell_type": "code",
   "execution_count": 18,
   "metadata": {},
   "outputs": [
    {
     "data": {
      "text/html": [
       "<div>\n",
       "<style scoped>\n",
       "    .dataframe tbody tr th:only-of-type {\n",
       "        vertical-align: middle;\n",
       "    }\n",
       "\n",
       "    .dataframe tbody tr th {\n",
       "        vertical-align: top;\n",
       "    }\n",
       "\n",
       "    .dataframe thead th {\n",
       "        text-align: right;\n",
       "    }\n",
       "</style>\n",
       "<table border=\"1\" class=\"dataframe\">\n",
       "  <thead>\n",
       "    <tr style=\"text-align: right;\">\n",
       "      <th></th>\n",
       "      <th>household_key</th>\n",
       "      <th>diff_avg_trips</th>\n",
       "      <th>diff_avg_spend</th>\n",
       "      <th>campaigns</th>\n",
       "    </tr>\n",
       "  </thead>\n",
       "  <tbody>\n",
       "    <tr>\n",
       "      <th>0</th>\n",
       "      <td>1</td>\n",
       "      <td>0.2749</td>\n",
       "      <td>9.829216</td>\n",
       "      <td>8</td>\n",
       "    </tr>\n",
       "    <tr>\n",
       "      <th>1</th>\n",
       "      <td>2</td>\n",
       "      <td>-0.1663</td>\n",
       "      <td>-2.743128</td>\n",
       "      <td>1</td>\n",
       "    </tr>\n",
       "    <tr>\n",
       "      <th>2</th>\n",
       "      <td>3</td>\n",
       "      <td>-0.2499</td>\n",
       "      <td>-25.708983</td>\n",
       "      <td>3</td>\n",
       "    </tr>\n",
       "    <tr>\n",
       "      <th>3</th>\n",
       "      <td>4</td>\n",
       "      <td>-0.2353</td>\n",
       "      <td>-12.156438</td>\n",
       "      <td>1</td>\n",
       "    </tr>\n",
       "    <tr>\n",
       "      <th>4</th>\n",
       "      <td>6</td>\n",
       "      <td>0.6687</td>\n",
       "      <td>0.972535</td>\n",
       "      <td>4</td>\n",
       "    </tr>\n",
       "  </tbody>\n",
       "</table>\n",
       "</div>"
      ],
      "text/plain": [
       "   household_key  diff_avg_trips  diff_avg_spend  campaigns\n",
       "0              1          0.2749        9.829216          8\n",
       "1              2         -0.1663       -2.743128          1\n",
       "2              3         -0.2499      -25.708983          3\n",
       "3              4         -0.2353      -12.156438          1\n",
       "4              6          0.6687        0.972535          4"
      ]
     },
     "execution_count": 18,
     "metadata": {},
     "output_type": "execute_result"
    }
   ],
   "source": [
    "mk_effect.head()"
   ]
  },
  {
   "cell_type": "markdown",
   "metadata": {},
   "source": [
    "### Renaming the household_key column"
   ]
  },
  {
   "cell_type": "code",
   "execution_count": 19,
   "metadata": {},
   "outputs": [],
   "source": [
    "mk_effect = mk_effect.rename(columns={\"household_key\":\"HOUSEHOLD_KEY\"})"
   ]
  },
  {
   "cell_type": "code",
   "execution_count": 20,
   "metadata": {},
   "outputs": [],
   "source": [
    "mk_effect_df = macro_cluster_df_red.merge(mk_effect, how=\"inner\", on=\"HOUSEHOLD_KEY\")"
   ]
  },
  {
   "cell_type": "code",
   "execution_count": 21,
   "metadata": {},
   "outputs": [
    {
     "data": {
      "text/html": [
       "<div>\n",
       "<style scoped>\n",
       "    .dataframe tbody tr th:only-of-type {\n",
       "        vertical-align: middle;\n",
       "    }\n",
       "\n",
       "    .dataframe tbody tr th {\n",
       "        vertical-align: top;\n",
       "    }\n",
       "\n",
       "    .dataframe thead th {\n",
       "        text-align: right;\n",
       "    }\n",
       "</style>\n",
       "<table border=\"1\" class=\"dataframe\">\n",
       "  <thead>\n",
       "    <tr style=\"text-align: right;\">\n",
       "      <th></th>\n",
       "      <th>HOUSEHOLD_KEY</th>\n",
       "      <th>cluster</th>\n",
       "      <th>diff_avg_trips</th>\n",
       "      <th>diff_avg_spend</th>\n",
       "      <th>campaigns</th>\n",
       "    </tr>\n",
       "  </thead>\n",
       "  <tbody>\n",
       "    <tr>\n",
       "      <th>0</th>\n",
       "      <td>1</td>\n",
       "      <td>3</td>\n",
       "      <td>0.2749</td>\n",
       "      <td>9.829216</td>\n",
       "      <td>8</td>\n",
       "    </tr>\n",
       "    <tr>\n",
       "      <th>1</th>\n",
       "      <td>7</td>\n",
       "      <td>2</td>\n",
       "      <td>0.3289</td>\n",
       "      <td>22.730689</td>\n",
       "      <td>4</td>\n",
       "    </tr>\n",
       "    <tr>\n",
       "      <th>2</th>\n",
       "      <td>20</td>\n",
       "      <td>2</td>\n",
       "      <td>2.3246</td>\n",
       "      <td>49.374415</td>\n",
       "      <td>7</td>\n",
       "    </tr>\n",
       "    <tr>\n",
       "      <th>3</th>\n",
       "      <td>25</td>\n",
       "      <td>2</td>\n",
       "      <td>0.3377</td>\n",
       "      <td>10.511198</td>\n",
       "      <td>4</td>\n",
       "    </tr>\n",
       "    <tr>\n",
       "      <th>4</th>\n",
       "      <td>27</td>\n",
       "      <td>4</td>\n",
       "      <td>3.6840</td>\n",
       "      <td>66.776076</td>\n",
       "      <td>7</td>\n",
       "    </tr>\n",
       "  </tbody>\n",
       "</table>\n",
       "</div>"
      ],
      "text/plain": [
       "   HOUSEHOLD_KEY  cluster  diff_avg_trips  diff_avg_spend  campaigns\n",
       "0              1        3          0.2749        9.829216          8\n",
       "1              7        2          0.3289       22.730689          4\n",
       "2             20        2          2.3246       49.374415          7\n",
       "3             25        2          0.3377       10.511198          4\n",
       "4             27        4          3.6840       66.776076          7"
      ]
     },
     "execution_count": 21,
     "metadata": {},
     "output_type": "execute_result"
    }
   ],
   "source": [
    "mk_effect_df.head()"
   ]
  },
  {
   "cell_type": "markdown",
   "metadata": {},
   "source": [
    "### Slicing the datagrame into the different 5 cluster to perform individual contrast hypothesis analysis."
   ]
  },
  {
   "cell_type": "code",
   "execution_count": 22,
   "metadata": {},
   "outputs": [],
   "source": [
    "mk_effect_df_c0 = mk_effect_df[mk_effect_df[\"cluster\"]==0]\n",
    "mk_effect_df_c1 = mk_effect_df[mk_effect_df[\"cluster\"]==1]\n",
    "mk_effect_df_c2 = mk_effect_df[mk_effect_df[\"cluster\"]==2]\n",
    "mk_effect_df_c3 = mk_effect_df[mk_effect_df[\"cluster\"]==3]\n",
    "mk_effect_df_c4 = mk_effect_df[mk_effect_df[\"cluster\"]==4]"
   ]
  },
  {
   "cell_type": "code",
   "execution_count": 23,
   "metadata": {},
   "outputs": [
    {
     "data": {
      "text/html": [
       "<div>\n",
       "<style scoped>\n",
       "    .dataframe tbody tr th:only-of-type {\n",
       "        vertical-align: middle;\n",
       "    }\n",
       "\n",
       "    .dataframe tbody tr th {\n",
       "        vertical-align: top;\n",
       "    }\n",
       "\n",
       "    .dataframe thead th {\n",
       "        text-align: right;\n",
       "    }\n",
       "</style>\n",
       "<table border=\"1\" class=\"dataframe\">\n",
       "  <thead>\n",
       "    <tr style=\"text-align: right;\">\n",
       "      <th></th>\n",
       "      <th>HOUSEHOLD_KEY</th>\n",
       "      <th>cluster</th>\n",
       "      <th>diff_avg_trips</th>\n",
       "      <th>diff_avg_spend</th>\n",
       "      <th>campaigns</th>\n",
       "    </tr>\n",
       "  </thead>\n",
       "  <tbody>\n",
       "    <tr>\n",
       "      <th>11</th>\n",
       "      <td>67</td>\n",
       "      <td>1</td>\n",
       "      <td>1.6441</td>\n",
       "      <td>57.986248</td>\n",
       "      <td>8</td>\n",
       "    </tr>\n",
       "    <tr>\n",
       "      <th>13</th>\n",
       "      <td>77</td>\n",
       "      <td>1</td>\n",
       "      <td>-0.1123</td>\n",
       "      <td>6.973535</td>\n",
       "      <td>2</td>\n",
       "    </tr>\n",
       "    <tr>\n",
       "      <th>16</th>\n",
       "      <td>97</td>\n",
       "      <td>1</td>\n",
       "      <td>0.9582</td>\n",
       "      <td>11.828601</td>\n",
       "      <td>4</td>\n",
       "    </tr>\n",
       "    <tr>\n",
       "      <th>37</th>\n",
       "      <td>219</td>\n",
       "      <td>1</td>\n",
       "      <td>1.2708</td>\n",
       "      <td>60.281285</td>\n",
       "      <td>7</td>\n",
       "    </tr>\n",
       "    <tr>\n",
       "      <th>40</th>\n",
       "      <td>242</td>\n",
       "      <td>1</td>\n",
       "      <td>0.1281</td>\n",
       "      <td>13.148032</td>\n",
       "      <td>5</td>\n",
       "    </tr>\n",
       "  </tbody>\n",
       "</table>\n",
       "</div>"
      ],
      "text/plain": [
       "    HOUSEHOLD_KEY  cluster  diff_avg_trips  diff_avg_spend  campaigns\n",
       "11             67        1          1.6441       57.986248          8\n",
       "13             77        1         -0.1123        6.973535          2\n",
       "16             97        1          0.9582       11.828601          4\n",
       "37            219        1          1.2708       60.281285          7\n",
       "40            242        1          0.1281       13.148032          5"
      ]
     },
     "execution_count": 23,
     "metadata": {},
     "output_type": "execute_result"
    }
   ],
   "source": [
    "mk_effect_df_c1.head()"
   ]
  },
  {
   "cell_type": "markdown",
   "metadata": {},
   "source": [
    "### Creating lists with the relevant information:\n",
    "\n",
    "- Lists per cluster with the differences in avg. trips and avg. expenditures"
   ]
  },
  {
   "cell_type": "markdown",
   "metadata": {},
   "source": [
    "#### Differences between the number of trips during campaigns and off campaigns."
   ]
  },
  {
   "cell_type": "code",
   "execution_count": 24,
   "metadata": {},
   "outputs": [],
   "source": [
    "diff_avg_trips_c0 = list(mk_effect_df_c0[\"diff_avg_trips\"])"
   ]
  },
  {
   "cell_type": "code",
   "execution_count": 25,
   "metadata": {},
   "outputs": [],
   "source": [
    "diff_avg_trips_c1 = list(mk_effect_df_c1[\"diff_avg_trips\"])"
   ]
  },
  {
   "cell_type": "code",
   "execution_count": 26,
   "metadata": {},
   "outputs": [],
   "source": [
    "diff_avg_trips_c2 = list(mk_effect_df_c2[\"diff_avg_trips\"])"
   ]
  },
  {
   "cell_type": "code",
   "execution_count": 27,
   "metadata": {},
   "outputs": [],
   "source": [
    "diff_avg_trips_c3 = list(mk_effect_df_c3[\"diff_avg_trips\"])"
   ]
  },
  {
   "cell_type": "code",
   "execution_count": 28,
   "metadata": {},
   "outputs": [],
   "source": [
    "diff_avg_trips_c4 = list(mk_effect_df_c4[\"diff_avg_trips\"])"
   ]
  },
  {
   "cell_type": "markdown",
   "metadata": {},
   "source": [
    "#### Differences between the total_expendites during campaigns and off campaigns."
   ]
  },
  {
   "cell_type": "code",
   "execution_count": 29,
   "metadata": {},
   "outputs": [],
   "source": [
    "diff_avg_spend_c0 = list(mk_effect_df_c0[\"diff_avg_spend\"])"
   ]
  },
  {
   "cell_type": "code",
   "execution_count": 30,
   "metadata": {},
   "outputs": [],
   "source": [
    "diff_avg_spend_c1 = list(mk_effect_df_c1[\"diff_avg_spend\"])"
   ]
  },
  {
   "cell_type": "code",
   "execution_count": 31,
   "metadata": {},
   "outputs": [],
   "source": [
    "diff_avg_spend_c2 = list(mk_effect_df_c2[\"diff_avg_spend\"])"
   ]
  },
  {
   "cell_type": "code",
   "execution_count": 32,
   "metadata": {},
   "outputs": [],
   "source": [
    "diff_avg_spend_c3 = list(mk_effect_df_c3[\"diff_avg_spend\"])"
   ]
  },
  {
   "cell_type": "code",
   "execution_count": 33,
   "metadata": {},
   "outputs": [],
   "source": [
    "diff_avg_spend_c4 = list(mk_effect_df_c4[\"diff_avg_spend\"])"
   ]
  },
  {
   "cell_type": "markdown",
   "metadata": {},
   "source": [
    "### Performing the hypothesis contrasts per cluster and per variable."
   ]
  },
  {
   "cell_type": "markdown",
   "metadata": {},
   "source": [
    "#### Cluster 0: Trips"
   ]
  },
  {
   "cell_type": "code",
   "execution_count": 34,
   "metadata": {},
   "outputs": [
    {
     "name": "stdout",
     "output_type": "stream",
     "text": [
      "We are 95% confident that the population mean lies between (0.34749054438373084, 0.654241323748137)\n"
     ]
    }
   ],
   "source": [
    "n=len(diff_avg_trips_c0)\n",
    "ci = 0.95 \n",
    "sample_std = np.std(diff_avg_trips_c0)\n",
    "quasi_std = sample_std*(m.sqrt(n/(n-1)))\n",
    "sample_meam = np.mean(diff_avg_trips_c0)\n",
    "\n",
    "scipy.stats.t.interval(ci, n-1, loc=sample_meam, scale=quasi_std/m.sqrt(n))\n",
    "\n",
    "print(f\"We are 95% confident that the population mean lies between \\\n",
    "{scipy.stats.t.interval(ci, n-1, loc=sample_meam, scale=quasi_std/m.sqrt(n))}\")"
   ]
  },
  {
   "cell_type": "markdown",
   "metadata": {},
   "source": [
    "#### Cluster 0: Total expeditures"
   ]
  },
  {
   "cell_type": "code",
   "execution_count": 35,
   "metadata": {},
   "outputs": [
    {
     "name": "stdout",
     "output_type": "stream",
     "text": [
      "We are 95% confident that the population mean lies between (13.590162192905268, 23.712769413153346)\n"
     ]
    }
   ],
   "source": [
    "n=len(diff_avg_spend_c0)\n",
    "ci = 0.95 \n",
    "sample_std = np.std(diff_avg_spend_c0)\n",
    "quasi_std = sample_std*(m.sqrt(n/(n-1)))\n",
    "sample_meam = np.mean(diff_avg_spend_c0)\n",
    "\n",
    "scipy.stats.t.interval(ci, n-1, loc=sample_meam, scale=quasi_std/m.sqrt(n))\n",
    "\n",
    "print(f\"We are 95% confident that the population mean lies between \\\n",
    "{scipy.stats.t.interval(ci, n-1, loc=sample_meam, scale=quasi_std/m.sqrt(n))}\")"
   ]
  },
  {
   "cell_type": "markdown",
   "metadata": {},
   "source": [
    "#### Cluster 1: Trips"
   ]
  },
  {
   "cell_type": "code",
   "execution_count": 36,
   "metadata": {},
   "outputs": [
    {
     "name": "stdout",
     "output_type": "stream",
     "text": [
      "We are 95% confident that the population mean lies between (0.1987147123025118, 0.8393411016509765)\n"
     ]
    }
   ],
   "source": [
    "n=len(diff_avg_trips_c1)\n",
    "ci = 0.95 \n",
    "sample_std = np.std(diff_avg_trips_c1)\n",
    "quasi_std = sample_std*(m.sqrt(n/(n-1)))\n",
    "sample_meam = np.mean(diff_avg_trips_c1)\n",
    "\n",
    "scipy.stats.t.interval(ci, n-1, loc=sample_meam, scale=quasi_std/m.sqrt(n))\n",
    "\n",
    "print(f\"We are 95% confident that the population mean lies between \\\n",
    "{scipy.stats.t.interval(ci, n-1, loc=sample_meam, scale=quasi_std/m.sqrt(n))}\")"
   ]
  },
  {
   "cell_type": "markdown",
   "metadata": {},
   "source": [
    "#### Cluster 1: Total expeditures"
   ]
  },
  {
   "cell_type": "code",
   "execution_count": 37,
   "metadata": {},
   "outputs": [
    {
     "name": "stdout",
     "output_type": "stream",
     "text": [
      "We are 95% confident that the population mean lies between (5.6346048401624795, 23.068980249463856)\n"
     ]
    }
   ],
   "source": [
    "n=len(diff_avg_spend_c1)\n",
    "ci = 0.95 \n",
    "sample_std = np.std(diff_avg_spend_c1)\n",
    "quasi_std = sample_std*(m.sqrt(n/(n-1)))\n",
    "sample_meam = np.mean(diff_avg_spend_c1)\n",
    "\n",
    "scipy.stats.t.interval(ci, n-1, loc=sample_meam, scale=quasi_std/m.sqrt(n))\n",
    "\n",
    "print(f\"We are 95% confident that the population mean lies between \\\n",
    "{scipy.stats.t.interval(ci, n-1, loc=sample_meam, scale=quasi_std/m.sqrt(n))}\")"
   ]
  },
  {
   "cell_type": "markdown",
   "metadata": {},
   "source": [
    "#### Cluster 2: Trips"
   ]
  },
  {
   "cell_type": "code",
   "execution_count": 38,
   "metadata": {},
   "outputs": [
    {
     "name": "stdout",
     "output_type": "stream",
     "text": [
      "We are 95% confident that the population mean lies between (0.37138978552384994, 0.6399983723708869)\n"
     ]
    }
   ],
   "source": [
    "n=len(diff_avg_trips_c2)\n",
    "ci = 0.95 \n",
    "sample_std = np.std(diff_avg_trips_c2)\n",
    "quasi_std = sample_std*(m.sqrt(n/(n-1)))\n",
    "sample_meam = np.mean(diff_avg_trips_c2)\n",
    "\n",
    "scipy.stats.t.interval(ci, n-1, loc=sample_meam, scale=quasi_std/m.sqrt(n))\n",
    "\n",
    "print(f\"We are 95% confident that the population mean lies between \\\n",
    "{scipy.stats.t.interval(ci, n-1, loc=sample_meam, scale=quasi_std/m.sqrt(n))}\")"
   ]
  },
  {
   "cell_type": "markdown",
   "metadata": {},
   "source": [
    "#### Cluster 2: Total expeditures"
   ]
  },
  {
   "cell_type": "code",
   "execution_count": 39,
   "metadata": {},
   "outputs": [
    {
     "name": "stdout",
     "output_type": "stream",
     "text": [
      "We are 95% confident that the population mean lies between (9.749711799082826, 15.995067479807668)\n"
     ]
    }
   ],
   "source": [
    "n=len(diff_avg_spend_c2)\n",
    "ci = 0.95 \n",
    "sample_std = np.std(diff_avg_spend_c2)\n",
    "quasi_std = sample_std*(m.sqrt(n/(n-1)))\n",
    "sample_meam = np.mean(diff_avg_spend_c2)\n",
    "\n",
    "scipy.stats.t.interval(ci, n-1, loc=sample_meam, scale=quasi_std/m.sqrt(n))\n",
    "\n",
    "print(f\"We are 95% confident that the population mean lies between \\\n",
    "{scipy.stats.t.interval(ci, n-1, loc=sample_meam, scale=quasi_std/m.sqrt(n))}\")"
   ]
  },
  {
   "cell_type": "markdown",
   "metadata": {},
   "source": [
    "#### Cluster 3: Trips"
   ]
  },
  {
   "cell_type": "code",
   "execution_count": 40,
   "metadata": {},
   "outputs": [
    {
     "name": "stdout",
     "output_type": "stream",
     "text": [
      "We are 95% confident that the population mean lies between (0.20085059193627056, 0.6455298958686075)\n"
     ]
    }
   ],
   "source": [
    "n=len(diff_avg_trips_c3)\n",
    "ci = 0.95 \n",
    "sample_std = np.std(diff_avg_trips_c3)\n",
    "quasi_std = sample_std*(m.sqrt(n/(n-1)))\n",
    "sample_meam = np.mean(diff_avg_trips_c3)\n",
    "\n",
    "scipy.stats.t.interval(ci, n-1, loc=sample_meam, scale=quasi_std/m.sqrt(n))\n",
    "\n",
    "print(f\"We are 95% confident that the population mean lies between \\\n",
    "{scipy.stats.t.interval(ci, n-1, loc=sample_meam, scale=quasi_std/m.sqrt(n))}\")"
   ]
  },
  {
   "cell_type": "markdown",
   "metadata": {},
   "source": [
    "#### Cluster 3: Total expeditures"
   ]
  },
  {
   "cell_type": "code",
   "execution_count": 41,
   "metadata": {},
   "outputs": [
    {
     "name": "stdout",
     "output_type": "stream",
     "text": [
      "We are 95% confident that the population mean lies between (13.326024627285538, 28.656609569187804)\n"
     ]
    }
   ],
   "source": [
    "n=len(diff_avg_spend_c3)\n",
    "ci = 0.95 \n",
    "sample_std = np.std(diff_avg_spend_c3)\n",
    "quasi_std = sample_std*(m.sqrt(n/(n-1)))\n",
    "sample_meam = np.mean(diff_avg_spend_c3)\n",
    "\n",
    "scipy.stats.t.interval(ci, n-1, loc=sample_meam, scale=quasi_std/m.sqrt(n))\n",
    "\n",
    "print(f\"We are 95% confident that the population mean lies between \\\n",
    "{scipy.stats.t.interval(ci, n-1, loc=sample_meam, scale=quasi_std/m.sqrt(n))}\")"
   ]
  },
  {
   "cell_type": "markdown",
   "metadata": {},
   "source": [
    "#### Cluster 4: Trips"
   ]
  },
  {
   "cell_type": "code",
   "execution_count": 42,
   "metadata": {},
   "outputs": [
    {
     "name": "stdout",
     "output_type": "stream",
     "text": [
      "We are 95% confident that the population mean lies between (-0.29236246662659987, 0.3456568062492414)\n"
     ]
    }
   ],
   "source": [
    "n=len(diff_avg_trips_c4)\n",
    "ci = 0.95 \n",
    "sample_std = np.std(diff_avg_trips_c4)\n",
    "quasi_std = sample_std*(m.sqrt(n/(n-1)))\n",
    "sample_meam = np.mean(diff_avg_trips_c4)\n",
    "\n",
    "scipy.stats.t.interval(ci, n-1, loc=sample_meam, scale=quasi_std/m.sqrt(n))\n",
    "\n",
    "print(f\"We are 95% confident that the population mean lies between \\\n",
    "{scipy.stats.t.interval(ci, n-1, loc=sample_meam, scale=quasi_std/m.sqrt(n))}\")"
   ]
  },
  {
   "cell_type": "markdown",
   "metadata": {},
   "source": [
    "#### Cluster 4: Total expeditures"
   ]
  },
  {
   "cell_type": "code",
   "execution_count": 43,
   "metadata": {
    "scrolled": true
   },
   "outputs": [
    {
     "name": "stdout",
     "output_type": "stream",
     "text": [
      "We are 95% confident that the population mean lies between (2.7896424204597023, 15.156276788045599)\n"
     ]
    }
   ],
   "source": [
    "n=len(diff_avg_spend_c4)\n",
    "ci = 0.95 \n",
    "sample_std = np.std(diff_avg_spend_c4)\n",
    "quasi_std = sample_std*(m.sqrt(n/(n-1)))\n",
    "sample_meam = np.mean(diff_avg_spend_c4)\n",
    "\n",
    "scipy.stats.t.interval(ci, n-1, loc=sample_meam, scale=quasi_std/m.sqrt(n))\n",
    "\n",
    "print(f\"We are 95% confident that the population mean lies between \\\n",
    "{scipy.stats.t.interval(ci, n-1, loc=sample_meam, scale=quasi_std/m.sqrt(n))}\")"
   ]
  },
  {
   "cell_type": "markdown",
   "metadata": {},
   "source": [
    "### Commenting the results:\n",
    "\n",
    "As it seems from the results, there are clusters where their confidence intervals are further from 0 which gives us information regarding the sensitivity to the campaigns per cluster. In all the clusters we could reject the null hypothesis and claim that there is evidencee to suggest that there is an effect in the marketing efforts in terms of avg number of trips and avg expenditure. The only cluster where we could not reject the null hypothesis was in cluster 4 regarding the number of trips but we have seen that this group does not visit the supermarket very often (we could assume that it is because they are not loyal yet) but when they do, they tend to buy many products. "
   ]
  },
  {
   "cell_type": "markdown",
   "metadata": {},
   "source": [
    "### For further steps, we want to see the effects on discounts per quater"
   ]
  },
  {
   "cell_type": "markdown",
   "metadata": {},
   "source": [
    "### Performing an inner join between left: transactions and right the info from the macro_cluster data."
   ]
  },
  {
   "cell_type": "code",
   "execution_count": 8,
   "metadata": {},
   "outputs": [],
   "source": [
    "mk = transactions.merge(macro_cluster_df_red, how=\"inner\", on=\"HOUSEHOLD_KEY\")"
   ]
  },
  {
   "cell_type": "code",
   "execution_count": 9,
   "metadata": {},
   "outputs": [
    {
     "data": {
      "text/plain": [
       "(614066, 19)"
      ]
     },
     "execution_count": 9,
     "metadata": {},
     "output_type": "execute_result"
    }
   ],
   "source": [
    "mk.shape"
   ]
  },
  {
   "cell_type": "code",
   "execution_count": 10,
   "metadata": {},
   "outputs": [
    {
     "data": {
      "text/html": [
       "<div>\n",
       "<style scoped>\n",
       "    .dataframe tbody tr th:only-of-type {\n",
       "        vertical-align: middle;\n",
       "    }\n",
       "\n",
       "    .dataframe tbody tr th {\n",
       "        vertical-align: top;\n",
       "    }\n",
       "\n",
       "    .dataframe thead th {\n",
       "        text-align: right;\n",
       "    }\n",
       "</style>\n",
       "<table border=\"1\" class=\"dataframe\">\n",
       "  <thead>\n",
       "    <tr style=\"text-align: right;\">\n",
       "      <th></th>\n",
       "      <th>Unnamed: 0</th>\n",
       "      <th>HOUSEHOLD_KEY</th>\n",
       "      <th>BASKET_ID</th>\n",
       "      <th>WEEK_NO</th>\n",
       "      <th>DAY</th>\n",
       "      <th>TRANS_TIME</th>\n",
       "      <th>STORE_ID</th>\n",
       "      <th>PRODUCT_ID</th>\n",
       "      <th>QUANTITY</th>\n",
       "      <th>SALES_VALUE</th>\n",
       "      <th>RETAIL_DISC</th>\n",
       "      <th>COUPON_DISC</th>\n",
       "      <th>COUPON_MATCH_DISC</th>\n",
       "      <th>SHELF_PRICE</th>\n",
       "      <th>CLIENT_PRICE</th>\n",
       "      <th>%_TOTAL_DISCOUNT</th>\n",
       "      <th>%_LOYALTY_DISCOUNT</th>\n",
       "      <th>%_COUPON_DISCOUNT</th>\n",
       "      <th>cluster</th>\n",
       "    </tr>\n",
       "  </thead>\n",
       "  <tbody>\n",
       "    <tr>\n",
       "      <th>0</th>\n",
       "      <td>11</td>\n",
       "      <td>1364</td>\n",
       "      <td>26984896261</td>\n",
       "      <td>1</td>\n",
       "      <td>1</td>\n",
       "      <td>1520</td>\n",
       "      <td>31742</td>\n",
       "      <td>842930</td>\n",
       "      <td>1</td>\n",
       "      <td>2.19</td>\n",
       "      <td>0.0</td>\n",
       "      <td>0.0</td>\n",
       "      <td>0.0</td>\n",
       "      <td>2.19</td>\n",
       "      <td>2.19</td>\n",
       "      <td>0.000000</td>\n",
       "      <td>0.000000</td>\n",
       "      <td>0.0</td>\n",
       "      <td>4</td>\n",
       "    </tr>\n",
       "    <tr>\n",
       "      <th>1</th>\n",
       "      <td>12</td>\n",
       "      <td>1364</td>\n",
       "      <td>26984896261</td>\n",
       "      <td>1</td>\n",
       "      <td>1</td>\n",
       "      <td>1520</td>\n",
       "      <td>31742</td>\n",
       "      <td>897044</td>\n",
       "      <td>1</td>\n",
       "      <td>2.99</td>\n",
       "      <td>-0.4</td>\n",
       "      <td>0.0</td>\n",
       "      <td>0.0</td>\n",
       "      <td>3.39</td>\n",
       "      <td>2.99</td>\n",
       "      <td>0.117994</td>\n",
       "      <td>0.117994</td>\n",
       "      <td>0.0</td>\n",
       "      <td>4</td>\n",
       "    </tr>\n",
       "  </tbody>\n",
       "</table>\n",
       "</div>"
      ],
      "text/plain": [
       "   Unnamed: 0  HOUSEHOLD_KEY    BASKET_ID  WEEK_NO  DAY  TRANS_TIME  STORE_ID  \\\n",
       "0          11           1364  26984896261        1    1        1520     31742   \n",
       "1          12           1364  26984896261        1    1        1520     31742   \n",
       "\n",
       "   PRODUCT_ID  QUANTITY  SALES_VALUE  RETAIL_DISC  COUPON_DISC  \\\n",
       "0      842930         1         2.19          0.0          0.0   \n",
       "1      897044         1         2.99         -0.4          0.0   \n",
       "\n",
       "   COUPON_MATCH_DISC  SHELF_PRICE  CLIENT_PRICE  %_TOTAL_DISCOUNT  \\\n",
       "0                0.0         2.19          2.19          0.000000   \n",
       "1                0.0         3.39          2.99          0.117994   \n",
       "\n",
       "   %_LOYALTY_DISCOUNT  %_COUPON_DISCOUNT  cluster  \n",
       "0            0.000000                0.0        4  \n",
       "1            0.117994                0.0        4  "
      ]
     },
     "execution_count": 10,
     "metadata": {},
     "output_type": "execute_result"
    }
   ],
   "source": [
    "mk.head(2)"
   ]
  },
  {
   "cell_type": "code",
   "execution_count": 12,
   "metadata": {},
   "outputs": [],
   "source": [
    "mk = mk.drop(\"Unnamed: 0\", axis=1)"
   ]
  },
  {
   "cell_type": "code",
   "execution_count": 13,
   "metadata": {},
   "outputs": [],
   "source": [
    "mk[\"DISCOUNT_APPLIED\"] = mk[\"COUPON_DISC\"].apply(lambda x: 1 if x<0 else 0)"
   ]
  },
  {
   "cell_type": "code",
   "execution_count": 14,
   "metadata": {},
   "outputs": [],
   "source": [
    "col = 'WEEK_NO'\n",
    "conditions = [mk[col] <= 13, (mk[col] >13) & (mk[col]<=26), (mk[col] >26) & (mk[col]<=39),\n",
    "              (mk[col] >39) & (mk[col]<=52), (mk[col] >52) & (mk[col]<=65), (mk[col] >65) & (mk[col]<=78),\n",
    "              (mk[col] >78) & (mk[col]<=91), mk[col] >91]  \n",
    "choices = [1,2,3,4,5,6,7,8]\n",
    "\n",
    "mk[\"QUARTER\"] = np.select(conditions, choices, default=np.nan)"
   ]
  }
 ],
 "metadata": {
  "kernelspec": {
   "display_name": "Python 3",
   "language": "python",
   "name": "python3"
  },
  "language_info": {
   "codemirror_mode": {
    "name": "ipython",
    "version": 3
   },
   "file_extension": ".py",
   "mimetype": "text/x-python",
   "name": "python",
   "nbconvert_exporter": "python",
   "pygments_lexer": "ipython3",
   "version": "3.7.3"
  }
 },
 "nbformat": 4,
 "nbformat_minor": 2
}
