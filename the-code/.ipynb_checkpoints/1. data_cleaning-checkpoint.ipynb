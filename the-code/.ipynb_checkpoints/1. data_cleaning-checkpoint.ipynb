{
 "cells": [
  {
   "cell_type": "code",
   "execution_count": 1,
   "metadata": {},
   "outputs": [],
   "source": [
    "import pandas as pd\n",
    "pd.set_option('display.max_columns', 50)\n",
    "pd.set_option('display.max_rows', 1000)\n",
    "import numpy as np\n",
    "import matplotlib.pyplot as plt\n",
    "import seaborn as sns\n",
    "from sqlalchemy import create_engine\n"
   ]
  },
  {
   "cell_type": "code",
   "execution_count": 6,
   "metadata": {},
   "outputs": [],
   "source": [
    "driver = 'mysql+pymysql:'\n",
    "user = ''\n",
    "password = ''\n",
    "ip = '104.155.143.225'\n",
    "database = 'final_project'"
   ]
  },
  {
   "cell_type": "code",
   "execution_count": 7,
   "metadata": {},
   "outputs": [],
   "source": [
    "connection_string = f'{driver}//{user}:{password}@{ip}/{database}'\n",
    "engine = create_engine(connection_string)"
   ]
  },
  {
   "cell_type": "markdown",
   "metadata": {},
   "source": [
    "# <font color='blue'>Cleaning Demographic table</font>\n",
    "\n",
    "This table contains demographic information for a portion of households. Due to nature of the\n",
    "data, the demographic information is not available for all households."
   ]
  },
  {
   "cell_type": "markdown",
   "metadata": {},
   "source": [
    "### Importing the dataset"
   ]
  },
  {
   "cell_type": "code",
   "execution_count": 74,
   "metadata": {},
   "outputs": [],
   "source": [
    "demo = pd.read_csv('../../data_final_project/hh_demographic.csv')"
   ]
  },
  {
   "cell_type": "code",
   "execution_count": 75,
   "metadata": {},
   "outputs": [
    {
     "data": {
      "text/html": [
       "<div>\n",
       "<style scoped>\n",
       "    .dataframe tbody tr th:only-of-type {\n",
       "        vertical-align: middle;\n",
       "    }\n",
       "\n",
       "    .dataframe tbody tr th {\n",
       "        vertical-align: top;\n",
       "    }\n",
       "\n",
       "    .dataframe thead th {\n",
       "        text-align: right;\n",
       "    }\n",
       "</style>\n",
       "<table border=\"1\" class=\"dataframe\">\n",
       "  <thead>\n",
       "    <tr style=\"text-align: right;\">\n",
       "      <th></th>\n",
       "      <th>AGE_DESC</th>\n",
       "      <th>MARITAL_STATUS_CODE</th>\n",
       "      <th>INCOME_DESC</th>\n",
       "      <th>HOMEOWNER_DESC</th>\n",
       "      <th>HH_COMP_DESC</th>\n",
       "      <th>HOUSEHOLD_SIZE_DESC</th>\n",
       "      <th>KID_CATEGORY_DESC</th>\n",
       "      <th>household_key</th>\n",
       "    </tr>\n",
       "  </thead>\n",
       "  <tbody>\n",
       "    <tr>\n",
       "      <th>0</th>\n",
       "      <td>65+</td>\n",
       "      <td>A</td>\n",
       "      <td>35-49K</td>\n",
       "      <td>Homeowner</td>\n",
       "      <td>2 Adults No Kids</td>\n",
       "      <td>2</td>\n",
       "      <td>None/Unknown</td>\n",
       "      <td>1</td>\n",
       "    </tr>\n",
       "    <tr>\n",
       "      <th>1</th>\n",
       "      <td>45-54</td>\n",
       "      <td>A</td>\n",
       "      <td>50-74K</td>\n",
       "      <td>Homeowner</td>\n",
       "      <td>2 Adults No Kids</td>\n",
       "      <td>2</td>\n",
       "      <td>None/Unknown</td>\n",
       "      <td>7</td>\n",
       "    </tr>\n",
       "    <tr>\n",
       "      <th>2</th>\n",
       "      <td>25-34</td>\n",
       "      <td>U</td>\n",
       "      <td>25-34K</td>\n",
       "      <td>Unknown</td>\n",
       "      <td>2 Adults Kids</td>\n",
       "      <td>3</td>\n",
       "      <td>1</td>\n",
       "      <td>8</td>\n",
       "    </tr>\n",
       "    <tr>\n",
       "      <th>3</th>\n",
       "      <td>25-34</td>\n",
       "      <td>U</td>\n",
       "      <td>75-99K</td>\n",
       "      <td>Homeowner</td>\n",
       "      <td>2 Adults Kids</td>\n",
       "      <td>4</td>\n",
       "      <td>2</td>\n",
       "      <td>13</td>\n",
       "    </tr>\n",
       "    <tr>\n",
       "      <th>4</th>\n",
       "      <td>45-54</td>\n",
       "      <td>B</td>\n",
       "      <td>50-74K</td>\n",
       "      <td>Homeowner</td>\n",
       "      <td>Single Female</td>\n",
       "      <td>1</td>\n",
       "      <td>None/Unknown</td>\n",
       "      <td>16</td>\n",
       "    </tr>\n",
       "  </tbody>\n",
       "</table>\n",
       "</div>"
      ],
      "text/plain": [
       "  AGE_DESC MARITAL_STATUS_CODE INCOME_DESC HOMEOWNER_DESC      HH_COMP_DESC  \\\n",
       "0      65+                   A      35-49K      Homeowner  2 Adults No Kids   \n",
       "1    45-54                   A      50-74K      Homeowner  2 Adults No Kids   \n",
       "2    25-34                   U      25-34K        Unknown     2 Adults Kids   \n",
       "3    25-34                   U      75-99K      Homeowner     2 Adults Kids   \n",
       "4    45-54                   B      50-74K      Homeowner     Single Female   \n",
       "\n",
       "  HOUSEHOLD_SIZE_DESC KID_CATEGORY_DESC  household_key  \n",
       "0                   2      None/Unknown              1  \n",
       "1                   2      None/Unknown              7  \n",
       "2                   3                 1              8  \n",
       "3                   4                 2             13  \n",
       "4                   1      None/Unknown             16  "
      ]
     },
     "execution_count": 75,
     "metadata": {},
     "output_type": "execute_result"
    }
   ],
   "source": [
    "demo.head()"
   ]
  },
  {
   "cell_type": "markdown",
   "metadata": {},
   "source": [
    "### Changing the order of the columns"
   ]
  },
  {
   "cell_type": "code",
   "execution_count": 76,
   "metadata": {},
   "outputs": [
    {
     "data": {
      "text/plain": [
       "Index(['AGE_DESC', 'MARITAL_STATUS_CODE', 'INCOME_DESC', 'HOMEOWNER_DESC',\n",
       "       'HH_COMP_DESC', 'HOUSEHOLD_SIZE_DESC', 'KID_CATEGORY_DESC',\n",
       "       'household_key'],\n",
       "      dtype='object')"
      ]
     },
     "execution_count": 76,
     "metadata": {},
     "output_type": "execute_result"
    }
   ],
   "source": [
    "demo.columns"
   ]
  },
  {
   "cell_type": "code",
   "execution_count": 77,
   "metadata": {},
   "outputs": [],
   "source": [
    "demo = demo[['household_key','AGE_DESC', 'MARITAL_STATUS_CODE', 'INCOME_DESC', 'HOMEOWNER_DESC',\n",
    "       'HH_COMP_DESC', 'HOUSEHOLD_SIZE_DESC', 'KID_CATEGORY_DESC']]"
   ]
  },
  {
   "cell_type": "markdown",
   "metadata": {},
   "source": [
    "### Chaning the household_key column to upper case"
   ]
  },
  {
   "cell_type": "code",
   "execution_count": 78,
   "metadata": {},
   "outputs": [],
   "source": [
    "demo.rename(columns={'household_key':'HOUSEHOLD_KEY'}, inplace=True)"
   ]
  },
  {
   "cell_type": "markdown",
   "metadata": {},
   "source": [
    "### Deleating the column 'MARITAL_STATUS_CODE' since it is not relevant to our objective"
   ]
  },
  {
   "cell_type": "code",
   "execution_count": 79,
   "metadata": {},
   "outputs": [],
   "source": [
    "demo.drop(['MARITAL_STATUS_CODE', 'HOMEOWNER_DESC'], axis=1, inplace=True)"
   ]
  },
  {
   "cell_type": "markdown",
   "metadata": {},
   "source": [
    "### Filling 'KID_CATEGORY_DESC' columns with 0 for None/Unknown values as it means that the household does not have kids."
   ]
  },
  {
   "cell_type": "markdown",
   "metadata": {},
   "source": [
    "#### Checking if the column 'HH_COMP_DESC' has \"No Kids\" then the 'KID_CATEGORY_DESC' equal to None/Unknown"
   ]
  },
  {
   "cell_type": "code",
   "execution_count": 80,
   "metadata": {},
   "outputs": [
    {
     "data": {
      "text/plain": [
       "None/Unknown    255\n",
       "Name: KID_CATEGORY_DESC, dtype: int64"
      ]
     },
     "execution_count": 80,
     "metadata": {},
     "output_type": "execute_result"
    }
   ],
   "source": [
    "demo[demo['HH_COMP_DESC'].str.contains('No Kids')]['KID_CATEGORY_DESC'].value_counts()"
   ]
  },
  {
   "cell_type": "markdown",
   "metadata": {},
   "source": [
    "In this step, we check if having No Kids corresponds to having None/Unknown values in the KID_CATEGORY_DESC column were we were able to confirm it. "
   ]
  },
  {
   "cell_type": "code",
   "execution_count": 81,
   "metadata": {},
   "outputs": [],
   "source": [
    "demo.KID_CATEGORY_DESC = demo.KID_CATEGORY_DESC.apply(lambda x: np.where(x == 'None/Unknown', 0, x))"
   ]
  },
  {
   "cell_type": "code",
   "execution_count": 82,
   "metadata": {},
   "outputs": [
    {
     "data": {
      "text/html": [
       "<div>\n",
       "<style scoped>\n",
       "    .dataframe tbody tr th:only-of-type {\n",
       "        vertical-align: middle;\n",
       "    }\n",
       "\n",
       "    .dataframe tbody tr th {\n",
       "        vertical-align: top;\n",
       "    }\n",
       "\n",
       "    .dataframe thead th {\n",
       "        text-align: right;\n",
       "    }\n",
       "</style>\n",
       "<table border=\"1\" class=\"dataframe\">\n",
       "  <thead>\n",
       "    <tr style=\"text-align: right;\">\n",
       "      <th></th>\n",
       "      <th>HOUSEHOLD_KEY</th>\n",
       "      <th>AGE_DESC</th>\n",
       "      <th>INCOME_DESC</th>\n",
       "      <th>HH_COMP_DESC</th>\n",
       "      <th>HOUSEHOLD_SIZE_DESC</th>\n",
       "      <th>KID_CATEGORY_DESC</th>\n",
       "    </tr>\n",
       "  </thead>\n",
       "  <tbody>\n",
       "    <tr>\n",
       "      <th>0</th>\n",
       "      <td>1</td>\n",
       "      <td>65+</td>\n",
       "      <td>35-49K</td>\n",
       "      <td>2 Adults No Kids</td>\n",
       "      <td>2</td>\n",
       "      <td>0</td>\n",
       "    </tr>\n",
       "    <tr>\n",
       "      <th>1</th>\n",
       "      <td>7</td>\n",
       "      <td>45-54</td>\n",
       "      <td>50-74K</td>\n",
       "      <td>2 Adults No Kids</td>\n",
       "      <td>2</td>\n",
       "      <td>0</td>\n",
       "    </tr>\n",
       "    <tr>\n",
       "      <th>2</th>\n",
       "      <td>8</td>\n",
       "      <td>25-34</td>\n",
       "      <td>25-34K</td>\n",
       "      <td>2 Adults Kids</td>\n",
       "      <td>3</td>\n",
       "      <td>1</td>\n",
       "    </tr>\n",
       "    <tr>\n",
       "      <th>3</th>\n",
       "      <td>13</td>\n",
       "      <td>25-34</td>\n",
       "      <td>75-99K</td>\n",
       "      <td>2 Adults Kids</td>\n",
       "      <td>4</td>\n",
       "      <td>2</td>\n",
       "    </tr>\n",
       "    <tr>\n",
       "      <th>4</th>\n",
       "      <td>16</td>\n",
       "      <td>45-54</td>\n",
       "      <td>50-74K</td>\n",
       "      <td>Single Female</td>\n",
       "      <td>1</td>\n",
       "      <td>0</td>\n",
       "    </tr>\n",
       "  </tbody>\n",
       "</table>\n",
       "</div>"
      ],
      "text/plain": [
       "   HOUSEHOLD_KEY AGE_DESC INCOME_DESC      HH_COMP_DESC HOUSEHOLD_SIZE_DESC  \\\n",
       "0              1      65+      35-49K  2 Adults No Kids                   2   \n",
       "1              7    45-54      50-74K  2 Adults No Kids                   2   \n",
       "2              8    25-34      25-34K     2 Adults Kids                   3   \n",
       "3             13    25-34      75-99K     2 Adults Kids                   4   \n",
       "4             16    45-54      50-74K     Single Female                   1   \n",
       "\n",
       "  KID_CATEGORY_DESC  \n",
       "0                 0  \n",
       "1                 0  \n",
       "2                 1  \n",
       "3                 2  \n",
       "4                 0  "
      ]
     },
     "execution_count": 82,
     "metadata": {},
     "output_type": "execute_result"
    }
   ],
   "source": [
    "demo.head()"
   ]
  },
  {
   "cell_type": "markdown",
   "metadata": {},
   "source": [
    "### Creating a new column called 'NUMEROUS_FAM' if the amount of kids is larger than +3"
   ]
  },
  {
   "cell_type": "code",
   "execution_count": 83,
   "metadata": {},
   "outputs": [
    {
     "data": {
      "text/plain": [
       "array(['0', '1', '2', '3+'], dtype=object)"
      ]
     },
     "execution_count": 83,
     "metadata": {},
     "output_type": "execute_result"
    }
   ],
   "source": [
    "demo.KID_CATEGORY_DESC.unique()"
   ]
  },
  {
   "cell_type": "code",
   "execution_count": 84,
   "metadata": {},
   "outputs": [],
   "source": [
    "demo['NUMEROUS_FAM'] = demo.KID_CATEGORY_DESC.apply(lambda x: np.where(x=='3+', 1, 0))"
   ]
  },
  {
   "cell_type": "markdown",
   "metadata": {},
   "source": [
    "### Fixing the column KID_CATEGORY_DESC to be able to change the data type to int. Now the columns has a value '3+', so the solution is to removed the plus sign."
   ]
  },
  {
   "cell_type": "code",
   "execution_count": 85,
   "metadata": {},
   "outputs": [],
   "source": [
    "demo.KID_CATEGORY_DESC = demo.KID_CATEGORY_DESC.replace('3+', 3)"
   ]
  },
  {
   "cell_type": "markdown",
   "metadata": {},
   "source": [
    "### Fixing the column HOUSEHOLD_SIZE_DESC to be able to change the data type to int. Now the columns has a value '5+', so the solution is to removed the plus sign."
   ]
  },
  {
   "cell_type": "code",
   "execution_count": 86,
   "metadata": {},
   "outputs": [],
   "source": [
    "demo.HOUSEHOLD_SIZE_DESC = demo.HOUSEHOLD_SIZE_DESC.replace('5+', 5)"
   ]
  },
  {
   "cell_type": "code",
   "execution_count": 87,
   "metadata": {},
   "outputs": [
    {
     "data": {
      "text/html": [
       "<div>\n",
       "<style scoped>\n",
       "    .dataframe tbody tr th:only-of-type {\n",
       "        vertical-align: middle;\n",
       "    }\n",
       "\n",
       "    .dataframe tbody tr th {\n",
       "        vertical-align: top;\n",
       "    }\n",
       "\n",
       "    .dataframe thead th {\n",
       "        text-align: right;\n",
       "    }\n",
       "</style>\n",
       "<table border=\"1\" class=\"dataframe\">\n",
       "  <thead>\n",
       "    <tr style=\"text-align: right;\">\n",
       "      <th></th>\n",
       "      <th>HOUSEHOLD_KEY</th>\n",
       "      <th>AGE_DESC</th>\n",
       "      <th>INCOME_DESC</th>\n",
       "      <th>HH_COMP_DESC</th>\n",
       "      <th>HOUSEHOLD_SIZE_DESC</th>\n",
       "      <th>KID_CATEGORY_DESC</th>\n",
       "      <th>NUMEROUS_FAM</th>\n",
       "    </tr>\n",
       "  </thead>\n",
       "  <tbody>\n",
       "    <tr>\n",
       "      <th>0</th>\n",
       "      <td>1</td>\n",
       "      <td>65+</td>\n",
       "      <td>35-49K</td>\n",
       "      <td>2 Adults No Kids</td>\n",
       "      <td>2</td>\n",
       "      <td>0</td>\n",
       "      <td>0</td>\n",
       "    </tr>\n",
       "    <tr>\n",
       "      <th>1</th>\n",
       "      <td>7</td>\n",
       "      <td>45-54</td>\n",
       "      <td>50-74K</td>\n",
       "      <td>2 Adults No Kids</td>\n",
       "      <td>2</td>\n",
       "      <td>0</td>\n",
       "      <td>0</td>\n",
       "    </tr>\n",
       "    <tr>\n",
       "      <th>2</th>\n",
       "      <td>8</td>\n",
       "      <td>25-34</td>\n",
       "      <td>25-34K</td>\n",
       "      <td>2 Adults Kids</td>\n",
       "      <td>3</td>\n",
       "      <td>1</td>\n",
       "      <td>0</td>\n",
       "    </tr>\n",
       "    <tr>\n",
       "      <th>3</th>\n",
       "      <td>13</td>\n",
       "      <td>25-34</td>\n",
       "      <td>75-99K</td>\n",
       "      <td>2 Adults Kids</td>\n",
       "      <td>4</td>\n",
       "      <td>2</td>\n",
       "      <td>0</td>\n",
       "    </tr>\n",
       "    <tr>\n",
       "      <th>4</th>\n",
       "      <td>16</td>\n",
       "      <td>45-54</td>\n",
       "      <td>50-74K</td>\n",
       "      <td>Single Female</td>\n",
       "      <td>1</td>\n",
       "      <td>0</td>\n",
       "      <td>0</td>\n",
       "    </tr>\n",
       "  </tbody>\n",
       "</table>\n",
       "</div>"
      ],
      "text/plain": [
       "   HOUSEHOLD_KEY AGE_DESC INCOME_DESC      HH_COMP_DESC HOUSEHOLD_SIZE_DESC  \\\n",
       "0              1      65+      35-49K  2 Adults No Kids                   2   \n",
       "1              7    45-54      50-74K  2 Adults No Kids                   2   \n",
       "2              8    25-34      25-34K     2 Adults Kids                   3   \n",
       "3             13    25-34      75-99K     2 Adults Kids                   4   \n",
       "4             16    45-54      50-74K     Single Female                   1   \n",
       "\n",
       "  KID_CATEGORY_DESC  NUMEROUS_FAM  \n",
       "0                 0             0  \n",
       "1                 0             0  \n",
       "2                 1             0  \n",
       "3                 2             0  \n",
       "4                 0             0  "
      ]
     },
     "execution_count": 87,
     "metadata": {},
     "output_type": "execute_result"
    }
   ],
   "source": [
    "demo.head()"
   ]
  },
  {
   "cell_type": "markdown",
   "metadata": {},
   "source": [
    "### Changing the dtypes of HOUSEHOLD_SIZE_DESC and KID_CATEGORY_DESC to intergers to perform operations."
   ]
  },
  {
   "cell_type": "code",
   "execution_count": 88,
   "metadata": {},
   "outputs": [
    {
     "data": {
      "text/plain": [
       "HOUSEHOLD_KEY           int64\n",
       "AGE_DESC               object\n",
       "INCOME_DESC            object\n",
       "HH_COMP_DESC           object\n",
       "HOUSEHOLD_SIZE_DESC    object\n",
       "KID_CATEGORY_DESC      object\n",
       "NUMEROUS_FAM            int64\n",
       "dtype: object"
      ]
     },
     "execution_count": 88,
     "metadata": {},
     "output_type": "execute_result"
    }
   ],
   "source": [
    "demo.dtypes"
   ]
  },
  {
   "cell_type": "code",
   "execution_count": 89,
   "metadata": {},
   "outputs": [],
   "source": [
    "cols = ['HOUSEHOLD_SIZE_DESC', 'KID_CATEGORY_DESC']\n",
    "demo[cols] = demo[cols].apply(pd.to_numeric, errors='coerce', axis=1)"
   ]
  },
  {
   "cell_type": "markdown",
   "metadata": {},
   "source": [
    "### Creating a new columns called 'ADULTS_NUM' indicating the amount of adults per nuclear family."
   ]
  },
  {
   "cell_type": "code",
   "execution_count": 90,
   "metadata": {},
   "outputs": [],
   "source": [
    "demo['ADULTS_NUM'] = demo['HOUSEHOLD_SIZE_DESC'] - demo['KID_CATEGORY_DESC']"
   ]
  },
  {
   "cell_type": "markdown",
   "metadata": {},
   "source": [
    "### Creating a new column called SINGLE_GENDER\n",
    "\n",
    "In this column, we want to specify the gender of a single adult with no kids to later do comparisons among this two clases"
   ]
  },
  {
   "cell_type": "code",
   "execution_count": 91,
   "metadata": {},
   "outputs": [
    {
     "data": {
      "text/plain": [
       "2 Adults No Kids    255\n",
       "2 Adults Kids       187\n",
       "Single Female       144\n",
       "Single Male          95\n",
       "Unknown              73\n",
       "1 Adult Kids         47\n",
       "Name: HH_COMP_DESC, dtype: int64"
      ]
     },
     "execution_count": 91,
     "metadata": {},
     "output_type": "execute_result"
    }
   ],
   "source": [
    "demo.HH_COMP_DESC.value_counts()"
   ]
  },
  {
   "cell_type": "code",
   "execution_count": 92,
   "metadata": {},
   "outputs": [],
   "source": [
    "demo.HH_COMP_DESC = demo.HH_COMP_DESC.apply(lambda x: x if (x == 'Single Female' or x == 'Single Male') else 'N/A')"
   ]
  },
  {
   "cell_type": "markdown",
   "metadata": {},
   "source": [
    "### Renaming the column HH_COMP_DESC to SINGLE_GENDER \n",
    "\n",
    "As this column only contain information regarding the gender of a single adult to make comparison later on the analysis between single females and males."
   ]
  },
  {
   "cell_type": "code",
   "execution_count": 93,
   "metadata": {},
   "outputs": [],
   "source": [
    "demo.rename(columns={'HH_COMP_DESC':'SINGLE_GENDER'}, inplace=True)"
   ]
  },
  {
   "cell_type": "code",
   "execution_count": 94,
   "metadata": {},
   "outputs": [
    {
     "data": {
      "text/html": [
       "<div>\n",
       "<style scoped>\n",
       "    .dataframe tbody tr th:only-of-type {\n",
       "        vertical-align: middle;\n",
       "    }\n",
       "\n",
       "    .dataframe tbody tr th {\n",
       "        vertical-align: top;\n",
       "    }\n",
       "\n",
       "    .dataframe thead th {\n",
       "        text-align: right;\n",
       "    }\n",
       "</style>\n",
       "<table border=\"1\" class=\"dataframe\">\n",
       "  <thead>\n",
       "    <tr style=\"text-align: right;\">\n",
       "      <th></th>\n",
       "      <th>HOUSEHOLD_KEY</th>\n",
       "      <th>AGE_DESC</th>\n",
       "      <th>INCOME_DESC</th>\n",
       "      <th>SINGLE_GENDER</th>\n",
       "      <th>HOUSEHOLD_SIZE_DESC</th>\n",
       "      <th>KID_CATEGORY_DESC</th>\n",
       "      <th>NUMEROUS_FAM</th>\n",
       "      <th>ADULTS_NUM</th>\n",
       "    </tr>\n",
       "  </thead>\n",
       "  <tbody>\n",
       "    <tr>\n",
       "      <th>0</th>\n",
       "      <td>1</td>\n",
       "      <td>65+</td>\n",
       "      <td>35-49K</td>\n",
       "      <td>N/A</td>\n",
       "      <td>2</td>\n",
       "      <td>0</td>\n",
       "      <td>0</td>\n",
       "      <td>2</td>\n",
       "    </tr>\n",
       "    <tr>\n",
       "      <th>1</th>\n",
       "      <td>7</td>\n",
       "      <td>45-54</td>\n",
       "      <td>50-74K</td>\n",
       "      <td>N/A</td>\n",
       "      <td>2</td>\n",
       "      <td>0</td>\n",
       "      <td>0</td>\n",
       "      <td>2</td>\n",
       "    </tr>\n",
       "    <tr>\n",
       "      <th>2</th>\n",
       "      <td>8</td>\n",
       "      <td>25-34</td>\n",
       "      <td>25-34K</td>\n",
       "      <td>N/A</td>\n",
       "      <td>3</td>\n",
       "      <td>1</td>\n",
       "      <td>0</td>\n",
       "      <td>2</td>\n",
       "    </tr>\n",
       "    <tr>\n",
       "      <th>3</th>\n",
       "      <td>13</td>\n",
       "      <td>25-34</td>\n",
       "      <td>75-99K</td>\n",
       "      <td>N/A</td>\n",
       "      <td>4</td>\n",
       "      <td>2</td>\n",
       "      <td>0</td>\n",
       "      <td>2</td>\n",
       "    </tr>\n",
       "    <tr>\n",
       "      <th>4</th>\n",
       "      <td>16</td>\n",
       "      <td>45-54</td>\n",
       "      <td>50-74K</td>\n",
       "      <td>Single Female</td>\n",
       "      <td>1</td>\n",
       "      <td>0</td>\n",
       "      <td>0</td>\n",
       "      <td>1</td>\n",
       "    </tr>\n",
       "  </tbody>\n",
       "</table>\n",
       "</div>"
      ],
      "text/plain": [
       "   HOUSEHOLD_KEY AGE_DESC INCOME_DESC  SINGLE_GENDER  HOUSEHOLD_SIZE_DESC  \\\n",
       "0              1      65+      35-49K            N/A                    2   \n",
       "1              7    45-54      50-74K            N/A                    2   \n",
       "2              8    25-34      25-34K            N/A                    3   \n",
       "3             13    25-34      75-99K            N/A                    4   \n",
       "4             16    45-54      50-74K  Single Female                    1   \n",
       "\n",
       "   KID_CATEGORY_DESC  NUMEROUS_FAM  ADULTS_NUM  \n",
       "0                  0             0           2  \n",
       "1                  0             0           2  \n",
       "2                  1             0           2  \n",
       "3                  2             0           2  \n",
       "4                  0             0           1  "
      ]
     },
     "execution_count": 94,
     "metadata": {},
     "output_type": "execute_result"
    }
   ],
   "source": [
    "demo.head()"
   ]
  },
  {
   "cell_type": "markdown",
   "metadata": {},
   "source": [
    "### Droping the column 'HOUSEHOLD_SIZE_DESC' \n",
    "\n",
    "As this information is contain in the ADULTS_NUM and KID_CATEGORY_DESC columns."
   ]
  },
  {
   "cell_type": "code",
   "execution_count": 95,
   "metadata": {},
   "outputs": [],
   "source": [
    "demo.drop('HOUSEHOLD_SIZE_DESC', axis =1, inplace=True)"
   ]
  },
  {
   "cell_type": "markdown",
   "metadata": {},
   "source": [
    "### Reordering the order of the columns to make it more readable "
   ]
  },
  {
   "cell_type": "code",
   "execution_count": 96,
   "metadata": {},
   "outputs": [
    {
     "data": {
      "text/plain": [
       "Index(['HOUSEHOLD_KEY', 'AGE_DESC', 'INCOME_DESC', 'SINGLE_GENDER',\n",
       "       'KID_CATEGORY_DESC', 'NUMEROUS_FAM', 'ADULTS_NUM'],\n",
       "      dtype='object')"
      ]
     },
     "execution_count": 96,
     "metadata": {},
     "output_type": "execute_result"
    }
   ],
   "source": [
    "demo.columns"
   ]
  },
  {
   "cell_type": "code",
   "execution_count": 97,
   "metadata": {},
   "outputs": [],
   "source": [
    "demo = demo[['HOUSEHOLD_KEY', 'AGE_DESC', 'INCOME_DESC','ADULTS_NUM','KID_CATEGORY_DESC','NUMEROUS_FAM',\\\n",
    "             'SINGLE_GENDER']]"
   ]
  },
  {
   "cell_type": "markdown",
   "metadata": {},
   "source": [
    "### Renaming the columns"
   ]
  },
  {
   "cell_type": "code",
   "execution_count": 98,
   "metadata": {},
   "outputs": [],
   "source": [
    "demo.columns = ['HOUSEHOLD_KEY', 'AGE_DESC', 'INCOME_DESC','ADULTS_NUM','KIDS_NUM','NUMEROUS_FAM',\\\n",
    "             'SINGLE_GENDER']"
   ]
  },
  {
   "cell_type": "markdown",
   "metadata": {},
   "source": [
    "### Checking missing values"
   ]
  },
  {
   "cell_type": "code",
   "execution_count": 99,
   "metadata": {},
   "outputs": [
    {
     "data": {
      "text/plain": [
       "HOUSEHOLD_KEY    0\n",
       "AGE_DESC         0\n",
       "INCOME_DESC      0\n",
       "ADULTS_NUM       0\n",
       "KIDS_NUM         0\n",
       "NUMEROUS_FAM     0\n",
       "SINGLE_GENDER    0\n",
       "dtype: int64"
      ]
     },
     "execution_count": 99,
     "metadata": {},
     "output_type": "execute_result"
    }
   ],
   "source": [
    "demo.isna().sum()"
   ]
  },
  {
   "cell_type": "markdown",
   "metadata": {},
   "source": [
    "### <font color='red'>Final table</font>"
   ]
  },
  {
   "cell_type": "code",
   "execution_count": 100,
   "metadata": {},
   "outputs": [
    {
     "data": {
      "text/html": [
       "<div>\n",
       "<style scoped>\n",
       "    .dataframe tbody tr th:only-of-type {\n",
       "        vertical-align: middle;\n",
       "    }\n",
       "\n",
       "    .dataframe tbody tr th {\n",
       "        vertical-align: top;\n",
       "    }\n",
       "\n",
       "    .dataframe thead th {\n",
       "        text-align: right;\n",
       "    }\n",
       "</style>\n",
       "<table border=\"1\" class=\"dataframe\">\n",
       "  <thead>\n",
       "    <tr style=\"text-align: right;\">\n",
       "      <th></th>\n",
       "      <th>HOUSEHOLD_KEY</th>\n",
       "      <th>AGE_DESC</th>\n",
       "      <th>INCOME_DESC</th>\n",
       "      <th>ADULTS_NUM</th>\n",
       "      <th>KIDS_NUM</th>\n",
       "      <th>NUMEROUS_FAM</th>\n",
       "      <th>SINGLE_GENDER</th>\n",
       "    </tr>\n",
       "  </thead>\n",
       "  <tbody>\n",
       "    <tr>\n",
       "      <th>0</th>\n",
       "      <td>1</td>\n",
       "      <td>65+</td>\n",
       "      <td>35-49K</td>\n",
       "      <td>2</td>\n",
       "      <td>0</td>\n",
       "      <td>0</td>\n",
       "      <td>N/A</td>\n",
       "    </tr>\n",
       "    <tr>\n",
       "      <th>1</th>\n",
       "      <td>7</td>\n",
       "      <td>45-54</td>\n",
       "      <td>50-74K</td>\n",
       "      <td>2</td>\n",
       "      <td>0</td>\n",
       "      <td>0</td>\n",
       "      <td>N/A</td>\n",
       "    </tr>\n",
       "    <tr>\n",
       "      <th>2</th>\n",
       "      <td>8</td>\n",
       "      <td>25-34</td>\n",
       "      <td>25-34K</td>\n",
       "      <td>2</td>\n",
       "      <td>1</td>\n",
       "      <td>0</td>\n",
       "      <td>N/A</td>\n",
       "    </tr>\n",
       "    <tr>\n",
       "      <th>3</th>\n",
       "      <td>13</td>\n",
       "      <td>25-34</td>\n",
       "      <td>75-99K</td>\n",
       "      <td>2</td>\n",
       "      <td>2</td>\n",
       "      <td>0</td>\n",
       "      <td>N/A</td>\n",
       "    </tr>\n",
       "    <tr>\n",
       "      <th>4</th>\n",
       "      <td>16</td>\n",
       "      <td>45-54</td>\n",
       "      <td>50-74K</td>\n",
       "      <td>1</td>\n",
       "      <td>0</td>\n",
       "      <td>0</td>\n",
       "      <td>Single Female</td>\n",
       "    </tr>\n",
       "  </tbody>\n",
       "</table>\n",
       "</div>"
      ],
      "text/plain": [
       "   HOUSEHOLD_KEY AGE_DESC INCOME_DESC  ADULTS_NUM  KIDS_NUM  NUMEROUS_FAM  \\\n",
       "0              1      65+      35-49K           2         0             0   \n",
       "1              7    45-54      50-74K           2         0             0   \n",
       "2              8    25-34      25-34K           2         1             0   \n",
       "3             13    25-34      75-99K           2         2             0   \n",
       "4             16    45-54      50-74K           1         0             0   \n",
       "\n",
       "   SINGLE_GENDER  \n",
       "0            N/A  \n",
       "1            N/A  \n",
       "2            N/A  \n",
       "3            N/A  \n",
       "4  Single Female  "
      ]
     },
     "execution_count": 100,
     "metadata": {},
     "output_type": "execute_result"
    }
   ],
   "source": [
    "demo.head()"
   ]
  },
  {
   "cell_type": "code",
   "execution_count": 103,
   "metadata": {},
   "outputs": [],
   "source": [
    "demo.to_csv('../../data_final_project/hh_demographic_data.csv', index=False)"
   ]
  },
  {
   "cell_type": "markdown",
   "metadata": {},
   "source": [
    "## Table exploration"
   ]
  },
  {
   "cell_type": "markdown",
   "metadata": {},
   "source": [
    "### Age bins"
   ]
  },
  {
   "cell_type": "code",
   "execution_count": 402,
   "metadata": {},
   "outputs": [
    {
     "data": {
      "text/plain": [
       "45-54    35.955056\n",
       "35-44    24.219725\n",
       "25-34    17.727840\n",
       "65+       8.988764\n",
       "55-64     7.365793\n",
       "19-24     5.742821\n",
       "Name: AGE_DESC, dtype: float64"
      ]
     },
     "execution_count": 402,
     "metadata": {},
     "output_type": "execute_result"
    }
   ],
   "source": [
    "demo.AGE_DESC.value_counts() / demo.shape[0] * 100"
   ]
  },
  {
   "cell_type": "code",
   "execution_count": 313,
   "metadata": {},
   "outputs": [
    {
     "data": {
      "image/png": "[encoded data removed]",
      "text/plain": [
       "<Figure size 432x432 with 1 Axes>"
      ]
     },
     "metadata": {},
     "output_type": "display_data"
    }
   ],
   "source": [
    "plt.figure(figsize=(6,6))\n",
    "plt.title('Age bins proportions')\n",
    "(demo.AGE_DESC.value_counts() / demo.shape[0] * 100).plot(kind='pie',autopct='%.2f')\n",
    "plt.show()"
   ]
  },
  {
   "cell_type": "markdown",
   "metadata": {},
   "source": [
    "As we can see, the majority class is households from ages 45 to 54, representing 35% of our customer base followed by household between 35 to 44 (25%). This result indicates that a big proportion, aprox 60%, of our customers are in their middle adulthood."
   ]
  },
  {
   "cell_type": "markdown",
   "metadata": {},
   "source": [
    "### Income bins"
   ]
  },
  {
   "cell_type": "code",
   "execution_count": 314,
   "metadata": {},
   "outputs": [
    {
     "data": {
      "text/plain": [
       "50-74K       23.970037\n",
       "35-49K       21.473159\n",
       "75-99K       11.985019\n",
       "25-34K        9.612984\n",
       "15-24K        9.238452\n",
       "Under 15K     7.615481\n",
       "125-149K      4.744070\n",
       "100-124K      4.244694\n",
       "150-174K      3.745318\n",
       "250K+         1.373283\n",
       "175-199K      1.373283\n",
       "200-249K      0.624220\n",
       "Name: INCOME_DESC, dtype: float64"
      ]
     },
     "execution_count": 314,
     "metadata": {},
     "output_type": "execute_result"
    }
   ],
   "source": [
    "demo.INCOME_DESC.value_counts() / demo.shape[0] * 100"
   ]
  },
  {
   "cell_type": "code",
   "execution_count": 322,
   "metadata": {},
   "outputs": [
    {
     "data": {
      "image/png": "[encoded data removed]",
      "text/plain": [
       "<Figure size 720x720 with 1 Axes>"
      ]
     },
     "metadata": {},
     "output_type": "display_data"
    }
   ],
   "source": [
    "plt.figure(figsize=(10,10))\n",
    "(demo.INCOME_DESC.value_counts() / demo.shape[0] * 100).plot(kind='pie', autopct='%.2f')\n",
    "plt.title('Income bins proportions')\n",
    "plt.show()"
   ]
  },
  {
   "cell_type": "markdown",
   "metadata": {},
   "source": [
    "### Single gender"
   ]
  },
  {
   "cell_type": "code",
   "execution_count": 164,
   "metadata": {},
   "outputs": [
    {
     "data": {
      "text/plain": [
       "N/A              70.162297\n",
       "Single Female    17.977528\n",
       "Single Male      11.860175\n",
       "Name: SINGLE_GENDER, dtype: float64"
      ]
     },
     "execution_count": 164,
     "metadata": {},
     "output_type": "execute_result"
    }
   ],
   "source": [
    "demo.SINGLE_GENDER.value_counts() / demo.shape[0] * 100"
   ]
  },
  {
   "cell_type": "code",
   "execution_count": 316,
   "metadata": {},
   "outputs": [
    {
     "data": {
      "image/png": "[encoded data removed]",
      "text/plain": [
       "<Figure size 360x360 with 1 Axes>"
      ]
     },
     "metadata": {},
     "output_type": "display_data"
    }
   ],
   "source": [
    "plt.figure(figsize=(5,5))\n",
    "(demo.SINGLE_GENDER.value_counts() / demo.shape[0] * 100).plot(kind='pie',autopct='%.2f')\n",
    "plt.title('Single gender')\n",
    "plt.show()"
   ]
  },
  {
   "cell_type": "markdown",
   "metadata": {},
   "source": [
    "### Numerous family"
   ]
  },
  {
   "cell_type": "code",
   "execution_count": 167,
   "metadata": {},
   "outputs": [
    {
     "data": {
      "text/plain": [
       "0    91.385768\n",
       "1     8.614232\n",
       "Name: NUMEROUS_FAM, dtype: float64"
      ]
     },
     "execution_count": 167,
     "metadata": {},
     "output_type": "execute_result"
    }
   ],
   "source": [
    "demo.NUMEROUS_FAM.value_counts() / demo.shape[0] * 100"
   ]
  },
  {
   "cell_type": "code",
   "execution_count": 317,
   "metadata": {},
   "outputs": [
    {
     "data": {
      "image/png": "[encoded data removed]",
      "text/plain": [
       "<Figure size 360x360 with 1 Axes>"
      ]
     },
     "metadata": {},
     "output_type": "display_data"
    }
   ],
   "source": [
    "plt.figure(figsize=(5,5))\n",
    "(demo.NUMEROUS_FAM.value_counts() / demo.shape[0] * 100).plot(kind='pie',autopct='%.2f')\n",
    "plt.title('Numerous families')\n",
    "plt.show()"
   ]
  },
  {
   "cell_type": "markdown",
   "metadata": {},
   "source": [
    "### Adults"
   ]
  },
  {
   "cell_type": "code",
   "execution_count": 171,
   "metadata": {},
   "outputs": [
    {
     "data": {
      "text/plain": [
       "2    64.669164\n",
       "1    35.330836\n",
       "Name: ADULTS_NUM, dtype: float64"
      ]
     },
     "execution_count": 171,
     "metadata": {},
     "output_type": "execute_result"
    }
   ],
   "source": [
    "demo.ADULTS_NUM.value_counts() / demo.shape[0] * 100"
   ]
  },
  {
   "cell_type": "code",
   "execution_count": 318,
   "metadata": {},
   "outputs": [
    {
     "data": {
      "image/png": "[encoded data removed]",
      "text/plain": [
       "<Figure size 360x360 with 1 Axes>"
      ]
     },
     "metadata": {},
     "output_type": "display_data"
    }
   ],
   "source": [
    "plt.figure(figsize=(5,5))\n",
    "(demo.ADULTS_NUM.value_counts() / demo.shape[0] * 100).plot(kind='pie',autopct='%.2f')\n",
    "plt.title('Number of adults per nulear family')\n",
    "plt.show()"
   ]
  },
  {
   "cell_type": "markdown",
   "metadata": {},
   "source": [
    "-----------\n"
   ]
  },
  {
   "cell_type": "markdown",
   "metadata": {},
   "source": [
    "\n",
    "# <font color='blue'>Cleaning Campaign_table table</font>\n",
    "\n",
    "This table lists the campaigns received by each household in the study. Each household\n",
    "received a different set of campaigns.\n"
   ]
  },
  {
   "cell_type": "code",
   "execution_count": 403,
   "metadata": {},
   "outputs": [],
   "source": [
    "campaign_table = pd.read_csv('../../data_final_project/campaign_table.csv')\n"
   ]
  },
  {
   "cell_type": "code",
   "execution_count": 404,
   "metadata": {},
   "outputs": [
    {
     "data": {
      "text/html": [
       "<div>\n",
       "<style scoped>\n",
       "    .dataframe tbody tr th:only-of-type {\n",
       "        vertical-align: middle;\n",
       "    }\n",
       "\n",
       "    .dataframe tbody tr th {\n",
       "        vertical-align: top;\n",
       "    }\n",
       "\n",
       "    .dataframe thead th {\n",
       "        text-align: right;\n",
       "    }\n",
       "</style>\n",
       "<table border=\"1\" class=\"dataframe\">\n",
       "  <thead>\n",
       "    <tr style=\"text-align: right;\">\n",
       "      <th></th>\n",
       "      <th>DESCRIPTION</th>\n",
       "      <th>household_key</th>\n",
       "      <th>CAMPAIGN</th>\n",
       "    </tr>\n",
       "  </thead>\n",
       "  <tbody>\n",
       "    <tr>\n",
       "      <th>0</th>\n",
       "      <td>TypeA</td>\n",
       "      <td>17</td>\n",
       "      <td>26</td>\n",
       "    </tr>\n",
       "    <tr>\n",
       "      <th>1</th>\n",
       "      <td>TypeA</td>\n",
       "      <td>27</td>\n",
       "      <td>26</td>\n",
       "    </tr>\n",
       "    <tr>\n",
       "      <th>2</th>\n",
       "      <td>TypeA</td>\n",
       "      <td>212</td>\n",
       "      <td>26</td>\n",
       "    </tr>\n",
       "    <tr>\n",
       "      <th>3</th>\n",
       "      <td>TypeA</td>\n",
       "      <td>208</td>\n",
       "      <td>26</td>\n",
       "    </tr>\n",
       "    <tr>\n",
       "      <th>4</th>\n",
       "      <td>TypeA</td>\n",
       "      <td>192</td>\n",
       "      <td>26</td>\n",
       "    </tr>\n",
       "  </tbody>\n",
       "</table>\n",
       "</div>"
      ],
      "text/plain": [
       "  DESCRIPTION  household_key  CAMPAIGN\n",
       "0       TypeA             17        26\n",
       "1       TypeA             27        26\n",
       "2       TypeA            212        26\n",
       "3       TypeA            208        26\n",
       "4       TypeA            192        26"
      ]
     },
     "execution_count": 404,
     "metadata": {},
     "output_type": "execute_result"
    }
   ],
   "source": [
    "campaign_table.head()"
   ]
  },
  {
   "cell_type": "markdown",
   "metadata": {},
   "source": [
    "### Removing the DESCRIPTION since it is redundant. This column also appears in the Campaign description table."
   ]
  },
  {
   "cell_type": "code",
   "execution_count": 405,
   "metadata": {},
   "outputs": [],
   "source": [
    "campaign_table.drop('DESCRIPTION', axis=1, inplace=True)"
   ]
  },
  {
   "cell_type": "markdown",
   "metadata": {},
   "source": [
    "### Reordering the columns since one campaing can have multiple household_keys"
   ]
  },
  {
   "cell_type": "code",
   "execution_count": 406,
   "metadata": {},
   "outputs": [],
   "source": [
    "campaign_table = campaign_table[['CAMPAIGN', 'household_key']]"
   ]
  },
  {
   "cell_type": "markdown",
   "metadata": {},
   "source": [
    "### Changing the columns household_key to upper case for consistency."
   ]
  },
  {
   "cell_type": "code",
   "execution_count": 407,
   "metadata": {},
   "outputs": [],
   "source": [
    "campaign_table.rename(columns={'household_key':'HOUSEHOLD_KEY'}, inplace=True)"
   ]
  },
  {
   "cell_type": "code",
   "execution_count": 408,
   "metadata": {},
   "outputs": [
    {
     "data": {
      "text/html": [
       "<div>\n",
       "<style scoped>\n",
       "    .dataframe tbody tr th:only-of-type {\n",
       "        vertical-align: middle;\n",
       "    }\n",
       "\n",
       "    .dataframe tbody tr th {\n",
       "        vertical-align: top;\n",
       "    }\n",
       "\n",
       "    .dataframe thead th {\n",
       "        text-align: right;\n",
       "    }\n",
       "</style>\n",
       "<table border=\"1\" class=\"dataframe\">\n",
       "  <thead>\n",
       "    <tr style=\"text-align: right;\">\n",
       "      <th></th>\n",
       "      <th>CAMPAIGN</th>\n",
       "      <th>HOUSEHOLD_KEY</th>\n",
       "    </tr>\n",
       "  </thead>\n",
       "  <tbody>\n",
       "    <tr>\n",
       "      <th>0</th>\n",
       "      <td>26</td>\n",
       "      <td>17</td>\n",
       "    </tr>\n",
       "    <tr>\n",
       "      <th>1</th>\n",
       "      <td>26</td>\n",
       "      <td>27</td>\n",
       "    </tr>\n",
       "    <tr>\n",
       "      <th>2</th>\n",
       "      <td>26</td>\n",
       "      <td>212</td>\n",
       "    </tr>\n",
       "    <tr>\n",
       "      <th>3</th>\n",
       "      <td>26</td>\n",
       "      <td>208</td>\n",
       "    </tr>\n",
       "    <tr>\n",
       "      <th>4</th>\n",
       "      <td>26</td>\n",
       "      <td>192</td>\n",
       "    </tr>\n",
       "  </tbody>\n",
       "</table>\n",
       "</div>"
      ],
      "text/plain": [
       "   CAMPAIGN  HOUSEHOLD_KEY\n",
       "0        26             17\n",
       "1        26             27\n",
       "2        26            212\n",
       "3        26            208\n",
       "4        26            192"
      ]
     },
     "execution_count": 408,
     "metadata": {},
     "output_type": "execute_result"
    }
   ],
   "source": [
    "campaign_table.head()"
   ]
  },
  {
   "cell_type": "markdown",
   "metadata": {},
   "source": [
    "### Checking data types"
   ]
  },
  {
   "cell_type": "code",
   "execution_count": 409,
   "metadata": {},
   "outputs": [
    {
     "data": {
      "text/plain": [
       "CAMPAIGN         int64\n",
       "HOUSEHOLD_KEY    int64\n",
       "dtype: object"
      ]
     },
     "execution_count": 409,
     "metadata": {},
     "output_type": "execute_result"
    }
   ],
   "source": [
    "campaign_table.dtypes"
   ]
  },
  {
   "cell_type": "markdown",
   "metadata": {},
   "source": [
    "### Checking for missing values"
   ]
  },
  {
   "cell_type": "code",
   "execution_count": 410,
   "metadata": {},
   "outputs": [
    {
     "data": {
      "text/plain": [
       "CAMPAIGN         0\n",
       "HOUSEHOLD_KEY    0\n",
       "dtype: int64"
      ]
     },
     "execution_count": 410,
     "metadata": {},
     "output_type": "execute_result"
    }
   ],
   "source": [
    "campaign_table.isna().sum()"
   ]
  },
  {
   "cell_type": "markdown",
   "metadata": {},
   "source": [
    "### <font color='red'>Final table</font>"
   ]
  },
  {
   "cell_type": "code",
   "execution_count": 411,
   "metadata": {},
   "outputs": [
    {
     "data": {
      "text/html": [
       "<div>\n",
       "<style scoped>\n",
       "    .dataframe tbody tr th:only-of-type {\n",
       "        vertical-align: middle;\n",
       "    }\n",
       "\n",
       "    .dataframe tbody tr th {\n",
       "        vertical-align: top;\n",
       "    }\n",
       "\n",
       "    .dataframe thead th {\n",
       "        text-align: right;\n",
       "    }\n",
       "</style>\n",
       "<table border=\"1\" class=\"dataframe\">\n",
       "  <thead>\n",
       "    <tr style=\"text-align: right;\">\n",
       "      <th></th>\n",
       "      <th>CAMPAIGN</th>\n",
       "      <th>HOUSEHOLD_KEY</th>\n",
       "    </tr>\n",
       "  </thead>\n",
       "  <tbody>\n",
       "    <tr>\n",
       "      <th>0</th>\n",
       "      <td>26</td>\n",
       "      <td>17</td>\n",
       "    </tr>\n",
       "    <tr>\n",
       "      <th>1</th>\n",
       "      <td>26</td>\n",
       "      <td>27</td>\n",
       "    </tr>\n",
       "    <tr>\n",
       "      <th>2</th>\n",
       "      <td>26</td>\n",
       "      <td>212</td>\n",
       "    </tr>\n",
       "    <tr>\n",
       "      <th>3</th>\n",
       "      <td>26</td>\n",
       "      <td>208</td>\n",
       "    </tr>\n",
       "    <tr>\n",
       "      <th>4</th>\n",
       "      <td>26</td>\n",
       "      <td>192</td>\n",
       "    </tr>\n",
       "  </tbody>\n",
       "</table>\n",
       "</div>"
      ],
      "text/plain": [
       "   CAMPAIGN  HOUSEHOLD_KEY\n",
       "0        26             17\n",
       "1        26             27\n",
       "2        26            212\n",
       "3        26            208\n",
       "4        26            192"
      ]
     },
     "execution_count": 411,
     "metadata": {},
     "output_type": "execute_result"
    }
   ],
   "source": [
    "campaign_table.head()"
   ]
  },
  {
   "cell_type": "markdown",
   "metadata": {},
   "source": [
    "# <font color='blue'>Cleaning Campaign_desc table</font>\n",
    "\n",
    "This table gives the length of time for which a campaign runs. So, any coupons received as\n",
    "part of a campaign are valid within the dates contained in this table.\n"
   ]
  },
  {
   "cell_type": "code",
   "execution_count": 412,
   "metadata": {},
   "outputs": [],
   "source": [
    "campaign_desc = pd.read_csv('../../data_final_project/campaign_desc.csv')\n"
   ]
  },
  {
   "cell_type": "code",
   "execution_count": 413,
   "metadata": {},
   "outputs": [
    {
     "data": {
      "text/html": [
       "<div>\n",
       "<style scoped>\n",
       "    .dataframe tbody tr th:only-of-type {\n",
       "        vertical-align: middle;\n",
       "    }\n",
       "\n",
       "    .dataframe tbody tr th {\n",
       "        vertical-align: top;\n",
       "    }\n",
       "\n",
       "    .dataframe thead th {\n",
       "        text-align: right;\n",
       "    }\n",
       "</style>\n",
       "<table border=\"1\" class=\"dataframe\">\n",
       "  <thead>\n",
       "    <tr style=\"text-align: right;\">\n",
       "      <th></th>\n",
       "      <th>DESCRIPTION</th>\n",
       "      <th>CAMPAIGN</th>\n",
       "      <th>START_DAY</th>\n",
       "      <th>END_DAY</th>\n",
       "    </tr>\n",
       "  </thead>\n",
       "  <tbody>\n",
       "    <tr>\n",
       "      <th>0</th>\n",
       "      <td>TypeB</td>\n",
       "      <td>24</td>\n",
       "      <td>659</td>\n",
       "      <td>719</td>\n",
       "    </tr>\n",
       "    <tr>\n",
       "      <th>1</th>\n",
       "      <td>TypeC</td>\n",
       "      <td>15</td>\n",
       "      <td>547</td>\n",
       "      <td>708</td>\n",
       "    </tr>\n",
       "    <tr>\n",
       "      <th>2</th>\n",
       "      <td>TypeB</td>\n",
       "      <td>25</td>\n",
       "      <td>659</td>\n",
       "      <td>691</td>\n",
       "    </tr>\n",
       "    <tr>\n",
       "      <th>3</th>\n",
       "      <td>TypeC</td>\n",
       "      <td>20</td>\n",
       "      <td>615</td>\n",
       "      <td>685</td>\n",
       "    </tr>\n",
       "    <tr>\n",
       "      <th>4</th>\n",
       "      <td>TypeB</td>\n",
       "      <td>23</td>\n",
       "      <td>646</td>\n",
       "      <td>684</td>\n",
       "    </tr>\n",
       "  </tbody>\n",
       "</table>\n",
       "</div>"
      ],
      "text/plain": [
       "  DESCRIPTION  CAMPAIGN  START_DAY  END_DAY\n",
       "0       TypeB        24        659      719\n",
       "1       TypeC        15        547      708\n",
       "2       TypeB        25        659      691\n",
       "3       TypeC        20        615      685\n",
       "4       TypeB        23        646      684"
      ]
     },
     "execution_count": 413,
     "metadata": {},
     "output_type": "execute_result"
    }
   ],
   "source": [
    "campaign_desc.head()"
   ]
  },
  {
   "cell_type": "markdown",
   "metadata": {},
   "source": [
    "### Checking dtypes"
   ]
  },
  {
   "cell_type": "code",
   "execution_count": 414,
   "metadata": {},
   "outputs": [
    {
     "data": {
      "text/plain": [
       "DESCRIPTION    object\n",
       "CAMPAIGN        int64\n",
       "START_DAY       int64\n",
       "END_DAY         int64\n",
       "dtype: object"
      ]
     },
     "execution_count": 414,
     "metadata": {},
     "output_type": "execute_result"
    }
   ],
   "source": [
    "campaign_desc.dtypes"
   ]
  },
  {
   "cell_type": "markdown",
   "metadata": {},
   "source": [
    "### Checking missing values"
   ]
  },
  {
   "cell_type": "code",
   "execution_count": 415,
   "metadata": {},
   "outputs": [
    {
     "data": {
      "text/plain": [
       "DESCRIPTION    0\n",
       "CAMPAIGN       0\n",
       "START_DAY      0\n",
       "END_DAY        0\n",
       "dtype: int64"
      ]
     },
     "execution_count": 415,
     "metadata": {},
     "output_type": "execute_result"
    }
   ],
   "source": [
    "campaign_desc.isna().sum()"
   ]
  },
  {
   "cell_type": "markdown",
   "metadata": {},
   "source": [
    "### Changing the order of the columns for better interpretation"
   ]
  },
  {
   "cell_type": "code",
   "execution_count": 416,
   "metadata": {},
   "outputs": [],
   "source": [
    "campaign_desc = campaign_desc[['CAMPAIGN','DESCRIPTION','START_DAY','END_DAY']]"
   ]
  },
  {
   "cell_type": "markdown",
   "metadata": {},
   "source": [
    "### DESCRIPTION categories"
   ]
  },
  {
   "cell_type": "code",
   "execution_count": 417,
   "metadata": {},
   "outputs": [
    {
     "data": {
      "text/plain": [
       "TypeB    63.333333\n",
       "TypeC    20.000000\n",
       "TypeA    16.666667\n",
       "Name: DESCRIPTION, dtype: float64"
      ]
     },
     "execution_count": 417,
     "metadata": {},
     "output_type": "execute_result"
    }
   ],
   "source": [
    "campaign_desc.DESCRIPTION.value_counts() / campaign_desc.shape[0] * 100"
   ]
  },
  {
   "cell_type": "markdown",
   "metadata": {},
   "source": [
    "### Checking starting and ending day of the campaigns"
   ]
  },
  {
   "cell_type": "code",
   "execution_count": 418,
   "metadata": {},
   "outputs": [
    {
     "name": "stdout",
     "output_type": "stream",
     "text": [
      "Start day min value: 224 and max value: 659\n"
     ]
    }
   ],
   "source": [
    "print(f'Start day min value: {campaign_desc.START_DAY.min()} and max value: {campaign_desc.START_DAY.max()}')"
   ]
  },
  {
   "cell_type": "code",
   "execution_count": 419,
   "metadata": {},
   "outputs": [
    {
     "name": "stdout",
     "output_type": "stream",
     "text": [
      "End day min value: 264 and max value: 719\n"
     ]
    }
   ],
   "source": [
    "print(f'End day min value: {campaign_desc.END_DAY.min()} and max value: {campaign_desc.END_DAY.max()}')"
   ]
  },
  {
   "cell_type": "markdown",
   "metadata": {},
   "source": [
    "### <font color='red'>Final table</font>"
   ]
  },
  {
   "cell_type": "code",
   "execution_count": 420,
   "metadata": {},
   "outputs": [
    {
     "data": {
      "text/html": [
       "<div>\n",
       "<style scoped>\n",
       "    .dataframe tbody tr th:only-of-type {\n",
       "        vertical-align: middle;\n",
       "    }\n",
       "\n",
       "    .dataframe tbody tr th {\n",
       "        vertical-align: top;\n",
       "    }\n",
       "\n",
       "    .dataframe thead th {\n",
       "        text-align: right;\n",
       "    }\n",
       "</style>\n",
       "<table border=\"1\" class=\"dataframe\">\n",
       "  <thead>\n",
       "    <tr style=\"text-align: right;\">\n",
       "      <th></th>\n",
       "      <th>CAMPAIGN</th>\n",
       "      <th>DESCRIPTION</th>\n",
       "      <th>START_DAY</th>\n",
       "      <th>END_DAY</th>\n",
       "    </tr>\n",
       "  </thead>\n",
       "  <tbody>\n",
       "    <tr>\n",
       "      <th>0</th>\n",
       "      <td>24</td>\n",
       "      <td>TypeB</td>\n",
       "      <td>659</td>\n",
       "      <td>719</td>\n",
       "    </tr>\n",
       "    <tr>\n",
       "      <th>1</th>\n",
       "      <td>15</td>\n",
       "      <td>TypeC</td>\n",
       "      <td>547</td>\n",
       "      <td>708</td>\n",
       "    </tr>\n",
       "    <tr>\n",
       "      <th>2</th>\n",
       "      <td>25</td>\n",
       "      <td>TypeB</td>\n",
       "      <td>659</td>\n",
       "      <td>691</td>\n",
       "    </tr>\n",
       "    <tr>\n",
       "      <th>3</th>\n",
       "      <td>20</td>\n",
       "      <td>TypeC</td>\n",
       "      <td>615</td>\n",
       "      <td>685</td>\n",
       "    </tr>\n",
       "    <tr>\n",
       "      <th>4</th>\n",
       "      <td>23</td>\n",
       "      <td>TypeB</td>\n",
       "      <td>646</td>\n",
       "      <td>684</td>\n",
       "    </tr>\n",
       "  </tbody>\n",
       "</table>\n",
       "</div>"
      ],
      "text/plain": [
       "   CAMPAIGN DESCRIPTION  START_DAY  END_DAY\n",
       "0        24       TypeB        659      719\n",
       "1        15       TypeC        547      708\n",
       "2        25       TypeB        659      691\n",
       "3        20       TypeC        615      685\n",
       "4        23       TypeB        646      684"
      ]
     },
     "execution_count": 420,
     "metadata": {},
     "output_type": "execute_result"
    }
   ],
   "source": [
    "campaign_desc.head()"
   ]
  },
  {
   "cell_type": "code",
   "execution_count": null,
   "metadata": {},
   "outputs": [],
   "source": [
    "##Check the duration of each campaign "
   ]
  },
  {
   "cell_type": "markdown",
   "metadata": {},
   "source": [
    "# <font color='blue'>Coupon_redempt table</font>\n",
    "\n",
    "This table identifies the coupons that each household redeemed."
   ]
  },
  {
   "cell_type": "code",
   "execution_count": 421,
   "metadata": {},
   "outputs": [],
   "source": [
    "coupon_redempt = pd.read_csv('../../data_final_project/coupon_redempt.csv')\n"
   ]
  },
  {
   "cell_type": "code",
   "execution_count": 422,
   "metadata": {},
   "outputs": [
    {
     "data": {
      "text/html": [
       "<div>\n",
       "<style scoped>\n",
       "    .dataframe tbody tr th:only-of-type {\n",
       "        vertical-align: middle;\n",
       "    }\n",
       "\n",
       "    .dataframe tbody tr th {\n",
       "        vertical-align: top;\n",
       "    }\n",
       "\n",
       "    .dataframe thead th {\n",
       "        text-align: right;\n",
       "    }\n",
       "</style>\n",
       "<table border=\"1\" class=\"dataframe\">\n",
       "  <thead>\n",
       "    <tr style=\"text-align: right;\">\n",
       "      <th></th>\n",
       "      <th>household_key</th>\n",
       "      <th>DAY</th>\n",
       "      <th>COUPON_UPC</th>\n",
       "      <th>CAMPAIGN</th>\n",
       "    </tr>\n",
       "  </thead>\n",
       "  <tbody>\n",
       "    <tr>\n",
       "      <th>0</th>\n",
       "      <td>1</td>\n",
       "      <td>421</td>\n",
       "      <td>10000085364</td>\n",
       "      <td>8</td>\n",
       "    </tr>\n",
       "    <tr>\n",
       "      <th>1</th>\n",
       "      <td>1</td>\n",
       "      <td>421</td>\n",
       "      <td>51700010076</td>\n",
       "      <td>8</td>\n",
       "    </tr>\n",
       "    <tr>\n",
       "      <th>2</th>\n",
       "      <td>1</td>\n",
       "      <td>427</td>\n",
       "      <td>54200000033</td>\n",
       "      <td>8</td>\n",
       "    </tr>\n",
       "    <tr>\n",
       "      <th>3</th>\n",
       "      <td>1</td>\n",
       "      <td>597</td>\n",
       "      <td>10000085476</td>\n",
       "      <td>18</td>\n",
       "    </tr>\n",
       "    <tr>\n",
       "      <th>4</th>\n",
       "      <td>1</td>\n",
       "      <td>597</td>\n",
       "      <td>54200029176</td>\n",
       "      <td>18</td>\n",
       "    </tr>\n",
       "  </tbody>\n",
       "</table>\n",
       "</div>"
      ],
      "text/plain": [
       "   household_key  DAY   COUPON_UPC  CAMPAIGN\n",
       "0              1  421  10000085364         8\n",
       "1              1  421  51700010076         8\n",
       "2              1  427  54200000033         8\n",
       "3              1  597  10000085476        18\n",
       "4              1  597  54200029176        18"
      ]
     },
     "execution_count": 422,
     "metadata": {},
     "output_type": "execute_result"
    }
   ],
   "source": [
    "coupon_redempt.head()"
   ]
  },
  {
   "cell_type": "markdown",
   "metadata": {},
   "source": [
    "### Checking dtypes and missing values"
   ]
  },
  {
   "cell_type": "code",
   "execution_count": 423,
   "metadata": {},
   "outputs": [
    {
     "data": {
      "text/plain": [
       "household_key    int64\n",
       "DAY              int64\n",
       "COUPON_UPC       int64\n",
       "CAMPAIGN         int64\n",
       "dtype: object"
      ]
     },
     "execution_count": 423,
     "metadata": {},
     "output_type": "execute_result"
    }
   ],
   "source": [
    "coupon_redempt.dtypes"
   ]
  },
  {
   "cell_type": "code",
   "execution_count": 424,
   "metadata": {},
   "outputs": [
    {
     "data": {
      "text/plain": [
       "household_key    0\n",
       "DAY              0\n",
       "COUPON_UPC       0\n",
       "CAMPAIGN         0\n",
       "dtype: int64"
      ]
     },
     "execution_count": 424,
     "metadata": {},
     "output_type": "execute_result"
    }
   ],
   "source": [
    "coupon_redempt.isna().sum()"
   ]
  },
  {
   "cell_type": "markdown",
   "metadata": {},
   "source": [
    "### Reordering the order of the columns for better interpretation and renaming the column household to uppercase"
   ]
  },
  {
   "cell_type": "code",
   "execution_count": 425,
   "metadata": {},
   "outputs": [],
   "source": [
    "coupon_redempt = coupon_redempt[['COUPON_UPC', 'household_key','CAMPAIGN','DAY']]"
   ]
  },
  {
   "cell_type": "code",
   "execution_count": 426,
   "metadata": {},
   "outputs": [],
   "source": [
    "coupon_redempt.rename(columns={'household_key':'HOUSEHOLD_KEY'}, inplace=True)"
   ]
  },
  {
   "cell_type": "markdown",
   "metadata": {},
   "source": [
    "### Checking starting and ending day of the redemptions"
   ]
  },
  {
   "cell_type": "code",
   "execution_count": 427,
   "metadata": {},
   "outputs": [
    {
     "name": "stdout",
     "output_type": "stream",
     "text": [
      "DAY min value: 225 and max value: 704\n"
     ]
    }
   ],
   "source": [
    "print(f'DAY min value: {coupon_redempt.DAY.min()} and max value: {coupon_redempt.DAY.max()}')"
   ]
  },
  {
   "cell_type": "markdown",
   "metadata": {},
   "source": [
    "### <font color='red'>Final table</font>"
   ]
  },
  {
   "cell_type": "code",
   "execution_count": 428,
   "metadata": {},
   "outputs": [
    {
     "data": {
      "text/html": [
       "<div>\n",
       "<style scoped>\n",
       "    .dataframe tbody tr th:only-of-type {\n",
       "        vertical-align: middle;\n",
       "    }\n",
       "\n",
       "    .dataframe tbody tr th {\n",
       "        vertical-align: top;\n",
       "    }\n",
       "\n",
       "    .dataframe thead th {\n",
       "        text-align: right;\n",
       "    }\n",
       "</style>\n",
       "<table border=\"1\" class=\"dataframe\">\n",
       "  <thead>\n",
       "    <tr style=\"text-align: right;\">\n",
       "      <th></th>\n",
       "      <th>COUPON_UPC</th>\n",
       "      <th>HOUSEHOLD_KEY</th>\n",
       "      <th>CAMPAIGN</th>\n",
       "      <th>DAY</th>\n",
       "    </tr>\n",
       "  </thead>\n",
       "  <tbody>\n",
       "    <tr>\n",
       "      <th>0</th>\n",
       "      <td>10000085364</td>\n",
       "      <td>1</td>\n",
       "      <td>8</td>\n",
       "      <td>421</td>\n",
       "    </tr>\n",
       "    <tr>\n",
       "      <th>1</th>\n",
       "      <td>51700010076</td>\n",
       "      <td>1</td>\n",
       "      <td>8</td>\n",
       "      <td>421</td>\n",
       "    </tr>\n",
       "    <tr>\n",
       "      <th>2</th>\n",
       "      <td>54200000033</td>\n",
       "      <td>1</td>\n",
       "      <td>8</td>\n",
       "      <td>427</td>\n",
       "    </tr>\n",
       "    <tr>\n",
       "      <th>3</th>\n",
       "      <td>10000085476</td>\n",
       "      <td>1</td>\n",
       "      <td>18</td>\n",
       "      <td>597</td>\n",
       "    </tr>\n",
       "    <tr>\n",
       "      <th>4</th>\n",
       "      <td>54200029176</td>\n",
       "      <td>1</td>\n",
       "      <td>18</td>\n",
       "      <td>597</td>\n",
       "    </tr>\n",
       "  </tbody>\n",
       "</table>\n",
       "</div>"
      ],
      "text/plain": [
       "    COUPON_UPC  HOUSEHOLD_KEY  CAMPAIGN  DAY\n",
       "0  10000085364              1         8  421\n",
       "1  51700010076              1         8  421\n",
       "2  54200000033              1         8  427\n",
       "3  10000085476              1        18  597\n",
       "4  54200029176              1        18  597"
      ]
     },
     "execution_count": 428,
     "metadata": {},
     "output_type": "execute_result"
    }
   ],
   "source": [
    "coupon_redempt.head()"
   ]
  },
  {
   "cell_type": "markdown",
   "metadata": {},
   "source": [
    "# <font color='blue'>Coupon table</font>\n",
    "\n",
    "This table lists all the coupons sent to customers as part of a campaign, as well as the\n",
    "products for which each coupon is redeemable. Some coupons are redeemable for multiple\n",
    "products. One example is a coupon for any private label frozen vegetable. There are a large\n",
    "number of products where this coupon could be redeemed.\n"
   ]
  },
  {
   "cell_type": "code",
   "execution_count": 429,
   "metadata": {},
   "outputs": [],
   "source": [
    "coupon = pd.read_csv('../../data_final_project/coupon.csv')\n"
   ]
  },
  {
   "cell_type": "code",
   "execution_count": 430,
   "metadata": {},
   "outputs": [
    {
     "data": {
      "text/html": [
       "<div>\n",
       "<style scoped>\n",
       "    .dataframe tbody tr th:only-of-type {\n",
       "        vertical-align: middle;\n",
       "    }\n",
       "\n",
       "    .dataframe tbody tr th {\n",
       "        vertical-align: top;\n",
       "    }\n",
       "\n",
       "    .dataframe thead th {\n",
       "        text-align: right;\n",
       "    }\n",
       "</style>\n",
       "<table border=\"1\" class=\"dataframe\">\n",
       "  <thead>\n",
       "    <tr style=\"text-align: right;\">\n",
       "      <th></th>\n",
       "      <th>COUPON_UPC</th>\n",
       "      <th>PRODUCT_ID</th>\n",
       "      <th>CAMPAIGN</th>\n",
       "    </tr>\n",
       "  </thead>\n",
       "  <tbody>\n",
       "    <tr>\n",
       "      <th>0</th>\n",
       "      <td>10000089061</td>\n",
       "      <td>27160</td>\n",
       "      <td>4</td>\n",
       "    </tr>\n",
       "    <tr>\n",
       "      <th>1</th>\n",
       "      <td>10000089064</td>\n",
       "      <td>27754</td>\n",
       "      <td>9</td>\n",
       "    </tr>\n",
       "    <tr>\n",
       "      <th>2</th>\n",
       "      <td>10000089073</td>\n",
       "      <td>28897</td>\n",
       "      <td>12</td>\n",
       "    </tr>\n",
       "    <tr>\n",
       "      <th>3</th>\n",
       "      <td>51800009050</td>\n",
       "      <td>28919</td>\n",
       "      <td>28</td>\n",
       "    </tr>\n",
       "    <tr>\n",
       "      <th>4</th>\n",
       "      <td>52100000076</td>\n",
       "      <td>28929</td>\n",
       "      <td>25</td>\n",
       "    </tr>\n",
       "  </tbody>\n",
       "</table>\n",
       "</div>"
      ],
      "text/plain": [
       "    COUPON_UPC  PRODUCT_ID  CAMPAIGN\n",
       "0  10000089061       27160         4\n",
       "1  10000089064       27754         9\n",
       "2  10000089073       28897        12\n",
       "3  51800009050       28919        28\n",
       "4  52100000076       28929        25"
      ]
     },
     "execution_count": 430,
     "metadata": {},
     "output_type": "execute_result"
    }
   ],
   "source": [
    "coupon.head()"
   ]
  },
  {
   "cell_type": "code",
   "execution_count": 431,
   "metadata": {},
   "outputs": [
    {
     "data": {
      "text/plain": [
       "(124548, 3)"
      ]
     },
     "execution_count": 431,
     "metadata": {},
     "output_type": "execute_result"
    }
   ],
   "source": [
    "coupon.shape"
   ]
  },
  {
   "cell_type": "markdown",
   "metadata": {},
   "source": [
    "### Checking dtypes and missing values"
   ]
  },
  {
   "cell_type": "code",
   "execution_count": 432,
   "metadata": {},
   "outputs": [
    {
     "data": {
      "text/plain": [
       "COUPON_UPC    int64\n",
       "PRODUCT_ID    int64\n",
       "CAMPAIGN      int64\n",
       "dtype: object"
      ]
     },
     "execution_count": 432,
     "metadata": {},
     "output_type": "execute_result"
    }
   ],
   "source": [
    "coupon.dtypes"
   ]
  },
  {
   "cell_type": "code",
   "execution_count": 433,
   "metadata": {},
   "outputs": [
    {
     "data": {
      "text/plain": [
       "COUPON_UPC    0\n",
       "PRODUCT_ID    0\n",
       "CAMPAIGN      0\n",
       "dtype: int64"
      ]
     },
     "execution_count": 433,
     "metadata": {},
     "output_type": "execute_result"
    }
   ],
   "source": [
    "coupon.isna().sum()"
   ]
  },
  {
   "cell_type": "markdown",
   "metadata": {},
   "source": [
    "### Checking how many coupon are unique\n"
   ]
  },
  {
   "cell_type": "code",
   "execution_count": 434,
   "metadata": {},
   "outputs": [
    {
     "data": {
      "text/plain": [
       "1135"
      ]
     },
     "execution_count": 434,
     "metadata": {},
     "output_type": "execute_result"
    }
   ],
   "source": [
    "len(coupon.COUPON_UPC.unique())"
   ]
  },
  {
   "cell_type": "markdown",
   "metadata": {},
   "source": [
    "### Checking if a coupon can have multiple products"
   ]
  },
  {
   "cell_type": "code",
   "execution_count": 435,
   "metadata": {},
   "outputs": [
    {
     "data": {
      "text/html": [
       "<div>\n",
       "<style scoped>\n",
       "    .dataframe tbody tr th:only-of-type {\n",
       "        vertical-align: middle;\n",
       "    }\n",
       "\n",
       "    .dataframe tbody tr th {\n",
       "        vertical-align: top;\n",
       "    }\n",
       "\n",
       "    .dataframe thead th {\n",
       "        text-align: right;\n",
       "    }\n",
       "</style>\n",
       "<table border=\"1\" class=\"dataframe\">\n",
       "  <thead>\n",
       "    <tr style=\"text-align: right;\">\n",
       "      <th></th>\n",
       "      <th>COUPON_UPC</th>\n",
       "      <th>PRODUCT_ID</th>\n",
       "      <th>CAMPAIGN</th>\n",
       "    </tr>\n",
       "  </thead>\n",
       "  <tbody>\n",
       "    <tr>\n",
       "      <th>44829</th>\n",
       "      <td>10000085189</td>\n",
       "      <td>5638789</td>\n",
       "      <td>26</td>\n",
       "    </tr>\n",
       "    <tr>\n",
       "      <th>44828</th>\n",
       "      <td>10000085189</td>\n",
       "      <td>5569379</td>\n",
       "      <td>26</td>\n",
       "    </tr>\n",
       "    <tr>\n",
       "      <th>44827</th>\n",
       "      <td>10000085189</td>\n",
       "      <td>7098352</td>\n",
       "      <td>26</td>\n",
       "    </tr>\n",
       "    <tr>\n",
       "      <th>44718</th>\n",
       "      <td>10000085189</td>\n",
       "      <td>3758590</td>\n",
       "      <td>26</td>\n",
       "    </tr>\n",
       "    <tr>\n",
       "      <th>44717</th>\n",
       "      <td>10000085189</td>\n",
       "      <td>7098354</td>\n",
       "      <td>26</td>\n",
       "    </tr>\n",
       "  </tbody>\n",
       "</table>\n",
       "</div>"
      ],
      "text/plain": [
       "        COUPON_UPC  PRODUCT_ID  CAMPAIGN\n",
       "44829  10000085189     5638789        26\n",
       "44828  10000085189     5569379        26\n",
       "44827  10000085189     7098352        26\n",
       "44718  10000085189     3758590        26\n",
       "44717  10000085189     7098354        26"
      ]
     },
     "execution_count": 435,
     "metadata": {},
     "output_type": "execute_result"
    }
   ],
   "source": [
    "coupon.sort_values(by='COUPON_UPC').head()"
   ]
  },
  {
   "cell_type": "markdown",
   "metadata": {},
   "source": [
    "### <font color='red'>Final table</font>"
   ]
  },
  {
   "cell_type": "code",
   "execution_count": 436,
   "metadata": {},
   "outputs": [
    {
     "data": {
      "text/html": [
       "<div>\n",
       "<style scoped>\n",
       "    .dataframe tbody tr th:only-of-type {\n",
       "        vertical-align: middle;\n",
       "    }\n",
       "\n",
       "    .dataframe tbody tr th {\n",
       "        vertical-align: top;\n",
       "    }\n",
       "\n",
       "    .dataframe thead th {\n",
       "        text-align: right;\n",
       "    }\n",
       "</style>\n",
       "<table border=\"1\" class=\"dataframe\">\n",
       "  <thead>\n",
       "    <tr style=\"text-align: right;\">\n",
       "      <th></th>\n",
       "      <th>COUPON_UPC</th>\n",
       "      <th>PRODUCT_ID</th>\n",
       "      <th>CAMPAIGN</th>\n",
       "    </tr>\n",
       "  </thead>\n",
       "  <tbody>\n",
       "    <tr>\n",
       "      <th>0</th>\n",
       "      <td>10000089061</td>\n",
       "      <td>27160</td>\n",
       "      <td>4</td>\n",
       "    </tr>\n",
       "    <tr>\n",
       "      <th>1</th>\n",
       "      <td>10000089064</td>\n",
       "      <td>27754</td>\n",
       "      <td>9</td>\n",
       "    </tr>\n",
       "    <tr>\n",
       "      <th>2</th>\n",
       "      <td>10000089073</td>\n",
       "      <td>28897</td>\n",
       "      <td>12</td>\n",
       "    </tr>\n",
       "    <tr>\n",
       "      <th>3</th>\n",
       "      <td>51800009050</td>\n",
       "      <td>28919</td>\n",
       "      <td>28</td>\n",
       "    </tr>\n",
       "    <tr>\n",
       "      <th>4</th>\n",
       "      <td>52100000076</td>\n",
       "      <td>28929</td>\n",
       "      <td>25</td>\n",
       "    </tr>\n",
       "  </tbody>\n",
       "</table>\n",
       "</div>"
      ],
      "text/plain": [
       "    COUPON_UPC  PRODUCT_ID  CAMPAIGN\n",
       "0  10000089061       27160         4\n",
       "1  10000089064       27754         9\n",
       "2  10000089073       28897        12\n",
       "3  51800009050       28919        28\n",
       "4  52100000076       28929        25"
      ]
     },
     "execution_count": 436,
     "metadata": {},
     "output_type": "execute_result"
    }
   ],
   "source": [
    "coupon.head()"
   ]
  },
  {
   "cell_type": "markdown",
   "metadata": {},
   "source": [
    "# <font color='blue'>Cleaning Causal_data table</font>\n",
    "\n",
    "This table signifies whether a given product was featured in the weekly mailer or was part of\n",
    "an in-store display (other than regular product placement)."
   ]
  },
  {
   "cell_type": "code",
   "execution_count": 437,
   "metadata": {},
   "outputs": [],
   "source": [
    "causal = pd.read_csv('../../data_final_project/causal_data.csv')"
   ]
  },
  {
   "cell_type": "code",
   "execution_count": 438,
   "metadata": {},
   "outputs": [
    {
     "data": {
      "text/html": [
       "<div>\n",
       "<style scoped>\n",
       "    .dataframe tbody tr th:only-of-type {\n",
       "        vertical-align: middle;\n",
       "    }\n",
       "\n",
       "    .dataframe tbody tr th {\n",
       "        vertical-align: top;\n",
       "    }\n",
       "\n",
       "    .dataframe thead th {\n",
       "        text-align: right;\n",
       "    }\n",
       "</style>\n",
       "<table border=\"1\" class=\"dataframe\">\n",
       "  <thead>\n",
       "    <tr style=\"text-align: right;\">\n",
       "      <th></th>\n",
       "      <th>PRODUCT_ID</th>\n",
       "      <th>STORE_ID</th>\n",
       "      <th>WEEK_NO</th>\n",
       "      <th>display</th>\n",
       "      <th>mailer</th>\n",
       "    </tr>\n",
       "  </thead>\n",
       "  <tbody>\n",
       "    <tr>\n",
       "      <th>0</th>\n",
       "      <td>26190</td>\n",
       "      <td>286</td>\n",
       "      <td>70</td>\n",
       "      <td>0</td>\n",
       "      <td>A</td>\n",
       "    </tr>\n",
       "    <tr>\n",
       "      <th>1</th>\n",
       "      <td>26190</td>\n",
       "      <td>288</td>\n",
       "      <td>70</td>\n",
       "      <td>0</td>\n",
       "      <td>A</td>\n",
       "    </tr>\n",
       "    <tr>\n",
       "      <th>2</th>\n",
       "      <td>26190</td>\n",
       "      <td>289</td>\n",
       "      <td>70</td>\n",
       "      <td>0</td>\n",
       "      <td>A</td>\n",
       "    </tr>\n",
       "    <tr>\n",
       "      <th>3</th>\n",
       "      <td>26190</td>\n",
       "      <td>292</td>\n",
       "      <td>70</td>\n",
       "      <td>0</td>\n",
       "      <td>A</td>\n",
       "    </tr>\n",
       "    <tr>\n",
       "      <th>4</th>\n",
       "      <td>26190</td>\n",
       "      <td>293</td>\n",
       "      <td>70</td>\n",
       "      <td>0</td>\n",
       "      <td>A</td>\n",
       "    </tr>\n",
       "  </tbody>\n",
       "</table>\n",
       "</div>"
      ],
      "text/plain": [
       "   PRODUCT_ID  STORE_ID  WEEK_NO display mailer\n",
       "0       26190       286       70       0      A\n",
       "1       26190       288       70       0      A\n",
       "2       26190       289       70       0      A\n",
       "3       26190       292       70       0      A\n",
       "4       26190       293       70       0      A"
      ]
     },
     "execution_count": 438,
     "metadata": {},
     "output_type": "execute_result"
    }
   ],
   "source": [
    "causal.head()"
   ]
  },
  {
   "cell_type": "markdown",
   "metadata": {},
   "source": [
    "### Checking shape, dtypes and missing values"
   ]
  },
  {
   "cell_type": "code",
   "execution_count": 439,
   "metadata": {},
   "outputs": [
    {
     "data": {
      "text/plain": [
       "(36786524, 5)"
      ]
     },
     "execution_count": 439,
     "metadata": {},
     "output_type": "execute_result"
    }
   ],
   "source": [
    "causal.shape"
   ]
  },
  {
   "cell_type": "code",
   "execution_count": 440,
   "metadata": {},
   "outputs": [
    {
     "data": {
      "text/plain": [
       "PRODUCT_ID     int64\n",
       "STORE_ID       int64\n",
       "WEEK_NO        int64\n",
       "display       object\n",
       "mailer        object\n",
       "dtype: object"
      ]
     },
     "execution_count": 440,
     "metadata": {},
     "output_type": "execute_result"
    }
   ],
   "source": [
    "causal.dtypes"
   ]
  },
  {
   "cell_type": "code",
   "execution_count": 441,
   "metadata": {},
   "outputs": [
    {
     "data": {
      "text/plain": [
       "PRODUCT_ID    0\n",
       "STORE_ID      0\n",
       "WEEK_NO       0\n",
       "display       0\n",
       "mailer        0\n",
       "dtype: int64"
      ]
     },
     "execution_count": 441,
     "metadata": {},
     "output_type": "execute_result"
    }
   ],
   "source": [
    "causal.isna().sum()"
   ]
  },
  {
   "cell_type": "markdown",
   "metadata": {},
   "source": [
    "### Checking for unique values count"
   ]
  },
  {
   "cell_type": "code",
   "execution_count": 442,
   "metadata": {},
   "outputs": [
    {
     "data": {
      "text/plain": [
       "PRODUCT_ID    68377\n",
       "STORE_ID        115\n",
       "WEEK_NO          93\n",
       "display          10\n",
       "mailer           11\n",
       "dtype: int64"
      ]
     },
     "execution_count": 442,
     "metadata": {},
     "output_type": "execute_result"
    }
   ],
   "source": [
    "causal.nunique()"
   ]
  },
  {
   "cell_type": "markdown",
   "metadata": {},
   "source": [
    "### Display"
   ]
  },
  {
   "cell_type": "code",
   "execution_count": 443,
   "metadata": {},
   "outputs": [
    {
     "data": {
      "text/plain": [
       "0    21038745\n",
       "9     2699467\n",
       "5     2575289\n",
       "7     2362118\n",
       "3     2073738\n",
       "6     1816021\n",
       "2     1812840\n",
       "1     1102141\n",
       "A      713180\n",
       "4      592985\n",
       "Name: display, dtype: int64"
      ]
     },
     "execution_count": 443,
     "metadata": {},
     "output_type": "execute_result"
    }
   ],
   "source": [
    "causal.display.value_counts()"
   ]
  },
  {
   "cell_type": "code",
   "execution_count": 444,
   "metadata": {},
   "outputs": [
    {
     "data": {
      "text/plain": [
       "A    17106789\n",
       "0    11534183\n",
       "D     4467453\n",
       "H     1560395\n",
       "F     1077549\n",
       "J      306924\n",
       "L      301327\n",
       "C      291059\n",
       "X      120823\n",
       "Z       19453\n",
       "P         569\n",
       "Name: mailer, dtype: int64"
      ]
     },
     "execution_count": 444,
     "metadata": {},
     "output_type": "execute_result"
    }
   ],
   "source": [
    "causal.mailer.value_counts()"
   ]
  },
  {
   "cell_type": "markdown",
   "metadata": {},
   "source": [
    "### Creating two dummy columns. If a product has been kept in the same place as usual then 'display' = 0 and 1 if it has been moved. \n",
    "\n",
    "### Same logic with 'mailer', if the product is not part of an ad then 0, if yes =1."
   ]
  },
  {
   "cell_type": "code",
   "execution_count": 445,
   "metadata": {},
   "outputs": [],
   "source": [
    "causal['mailer_dummy'] = causal.mailer.apply(lambda x: np.where(x == 0, 0, 1))"
   ]
  },
  {
   "cell_type": "code",
   "execution_count": 446,
   "metadata": {},
   "outputs": [],
   "source": [
    "causal['display_dummy'] = causal.display.apply(lambda x: np.where(x == 0, 0, 1))"
   ]
  },
  {
   "cell_type": "code",
   "execution_count": 447,
   "metadata": {},
   "outputs": [
    {
     "data": {
      "text/html": [
       "<div>\n",
       "<style scoped>\n",
       "    .dataframe tbody tr th:only-of-type {\n",
       "        vertical-align: middle;\n",
       "    }\n",
       "\n",
       "    .dataframe tbody tr th {\n",
       "        vertical-align: top;\n",
       "    }\n",
       "\n",
       "    .dataframe thead th {\n",
       "        text-align: right;\n",
       "    }\n",
       "</style>\n",
       "<table border=\"1\" class=\"dataframe\">\n",
       "  <thead>\n",
       "    <tr style=\"text-align: right;\">\n",
       "      <th></th>\n",
       "      <th>PRODUCT_ID</th>\n",
       "      <th>STORE_ID</th>\n",
       "      <th>WEEK_NO</th>\n",
       "      <th>display</th>\n",
       "      <th>mailer</th>\n",
       "      <th>mailer_dummy</th>\n",
       "      <th>display_dummy</th>\n",
       "    </tr>\n",
       "  </thead>\n",
       "  <tbody>\n",
       "    <tr>\n",
       "      <th>0</th>\n",
       "      <td>26190</td>\n",
       "      <td>286</td>\n",
       "      <td>70</td>\n",
       "      <td>0</td>\n",
       "      <td>A</td>\n",
       "      <td>1</td>\n",
       "      <td>1</td>\n",
       "    </tr>\n",
       "    <tr>\n",
       "      <th>1</th>\n",
       "      <td>26190</td>\n",
       "      <td>288</td>\n",
       "      <td>70</td>\n",
       "      <td>0</td>\n",
       "      <td>A</td>\n",
       "      <td>1</td>\n",
       "      <td>1</td>\n",
       "    </tr>\n",
       "    <tr>\n",
       "      <th>2</th>\n",
       "      <td>26190</td>\n",
       "      <td>289</td>\n",
       "      <td>70</td>\n",
       "      <td>0</td>\n",
       "      <td>A</td>\n",
       "      <td>1</td>\n",
       "      <td>1</td>\n",
       "    </tr>\n",
       "    <tr>\n",
       "      <th>3</th>\n",
       "      <td>26190</td>\n",
       "      <td>292</td>\n",
       "      <td>70</td>\n",
       "      <td>0</td>\n",
       "      <td>A</td>\n",
       "      <td>1</td>\n",
       "      <td>1</td>\n",
       "    </tr>\n",
       "    <tr>\n",
       "      <th>4</th>\n",
       "      <td>26190</td>\n",
       "      <td>293</td>\n",
       "      <td>70</td>\n",
       "      <td>0</td>\n",
       "      <td>A</td>\n",
       "      <td>1</td>\n",
       "      <td>1</td>\n",
       "    </tr>\n",
       "  </tbody>\n",
       "</table>\n",
       "</div>"
      ],
      "text/plain": [
       "   PRODUCT_ID  STORE_ID  WEEK_NO display mailer  mailer_dummy  display_dummy\n",
       "0       26190       286       70       0      A             1              1\n",
       "1       26190       288       70       0      A             1              1\n",
       "2       26190       289       70       0      A             1              1\n",
       "3       26190       292       70       0      A             1              1\n",
       "4       26190       293       70       0      A             1              1"
      ]
     },
     "execution_count": 447,
     "metadata": {},
     "output_type": "execute_result"
    }
   ],
   "source": [
    "causal.head()"
   ]
  },
  {
   "cell_type": "markdown",
   "metadata": {},
   "source": [
    "### The min and max value of the weeks were products were place in a new location in the store or if it was part of a mailer promotion"
   ]
  },
  {
   "cell_type": "code",
   "execution_count": 448,
   "metadata": {},
   "outputs": [
    {
     "name": "stdout",
     "output_type": "stream",
     "text": [
      "WEEK min value: 9 and max value: 101\n"
     ]
    }
   ],
   "source": [
    "print(f'WEEK min value: {causal.WEEK_NO.min()} and max value: {causal.WEEK_NO.max()}')"
   ]
  },
  {
   "cell_type": "markdown",
   "metadata": {},
   "source": [
    "### <font color='red'>Final table</font>"
   ]
  },
  {
   "cell_type": "code",
   "execution_count": 449,
   "metadata": {},
   "outputs": [
    {
     "data": {
      "text/html": [
       "<div>\n",
       "<style scoped>\n",
       "    .dataframe tbody tr th:only-of-type {\n",
       "        vertical-align: middle;\n",
       "    }\n",
       "\n",
       "    .dataframe tbody tr th {\n",
       "        vertical-align: top;\n",
       "    }\n",
       "\n",
       "    .dataframe thead th {\n",
       "        text-align: right;\n",
       "    }\n",
       "</style>\n",
       "<table border=\"1\" class=\"dataframe\">\n",
       "  <thead>\n",
       "    <tr style=\"text-align: right;\">\n",
       "      <th></th>\n",
       "      <th>PRODUCT_ID</th>\n",
       "      <th>STORE_ID</th>\n",
       "      <th>WEEK_NO</th>\n",
       "      <th>display</th>\n",
       "      <th>mailer</th>\n",
       "      <th>mailer_dummy</th>\n",
       "      <th>display_dummy</th>\n",
       "    </tr>\n",
       "  </thead>\n",
       "  <tbody>\n",
       "    <tr>\n",
       "      <th>0</th>\n",
       "      <td>26190</td>\n",
       "      <td>286</td>\n",
       "      <td>70</td>\n",
       "      <td>0</td>\n",
       "      <td>A</td>\n",
       "      <td>1</td>\n",
       "      <td>1</td>\n",
       "    </tr>\n",
       "    <tr>\n",
       "      <th>1</th>\n",
       "      <td>26190</td>\n",
       "      <td>288</td>\n",
       "      <td>70</td>\n",
       "      <td>0</td>\n",
       "      <td>A</td>\n",
       "      <td>1</td>\n",
       "      <td>1</td>\n",
       "    </tr>\n",
       "    <tr>\n",
       "      <th>2</th>\n",
       "      <td>26190</td>\n",
       "      <td>289</td>\n",
       "      <td>70</td>\n",
       "      <td>0</td>\n",
       "      <td>A</td>\n",
       "      <td>1</td>\n",
       "      <td>1</td>\n",
       "    </tr>\n",
       "    <tr>\n",
       "      <th>3</th>\n",
       "      <td>26190</td>\n",
       "      <td>292</td>\n",
       "      <td>70</td>\n",
       "      <td>0</td>\n",
       "      <td>A</td>\n",
       "      <td>1</td>\n",
       "      <td>1</td>\n",
       "    </tr>\n",
       "    <tr>\n",
       "      <th>4</th>\n",
       "      <td>26190</td>\n",
       "      <td>293</td>\n",
       "      <td>70</td>\n",
       "      <td>0</td>\n",
       "      <td>A</td>\n",
       "      <td>1</td>\n",
       "      <td>1</td>\n",
       "    </tr>\n",
       "  </tbody>\n",
       "</table>\n",
       "</div>"
      ],
      "text/plain": [
       "   PRODUCT_ID  STORE_ID  WEEK_NO display mailer  mailer_dummy  display_dummy\n",
       "0       26190       286       70       0      A             1              1\n",
       "1       26190       288       70       0      A             1              1\n",
       "2       26190       289       70       0      A             1              1\n",
       "3       26190       292       70       0      A             1              1\n",
       "4       26190       293       70       0      A             1              1"
      ]
     },
     "execution_count": 449,
     "metadata": {},
     "output_type": "execute_result"
    }
   ],
   "source": [
    "causal.head()"
   ]
  },
  {
   "cell_type": "markdown",
   "metadata": {},
   "source": [
    "# <font color='blue'>Cleaning Product table</font>\n",
    "\n",
    "This table contains information on each product sold such as type of product, national or\n",
    "private label and a brand identifier.\n"
   ]
  },
  {
   "cell_type": "code",
   "execution_count": 252,
   "metadata": {},
   "outputs": [],
   "source": [
    "products = pd.read_csv('../../data_final_project/product.csv')\n"
   ]
  },
  {
   "cell_type": "code",
   "execution_count": 253,
   "metadata": {
    "scrolled": true
   },
   "outputs": [
    {
     "data": {
      "text/html": [
       "<div>\n",
       "<style scoped>\n",
       "    .dataframe tbody tr th:only-of-type {\n",
       "        vertical-align: middle;\n",
       "    }\n",
       "\n",
       "    .dataframe tbody tr th {\n",
       "        vertical-align: top;\n",
       "    }\n",
       "\n",
       "    .dataframe thead th {\n",
       "        text-align: right;\n",
       "    }\n",
       "</style>\n",
       "<table border=\"1\" class=\"dataframe\">\n",
       "  <thead>\n",
       "    <tr style=\"text-align: right;\">\n",
       "      <th></th>\n",
       "      <th>PRODUCT_ID</th>\n",
       "      <th>MANUFACTURER</th>\n",
       "      <th>DEPARTMENT</th>\n",
       "      <th>BRAND</th>\n",
       "      <th>COMMODITY_DESC</th>\n",
       "      <th>SUB_COMMODITY_DESC</th>\n",
       "      <th>CURR_SIZE_OF_PRODUCT</th>\n",
       "    </tr>\n",
       "  </thead>\n",
       "  <tbody>\n",
       "    <tr>\n",
       "      <th>0</th>\n",
       "      <td>25671</td>\n",
       "      <td>2</td>\n",
       "      <td>GROCERY</td>\n",
       "      <td>National</td>\n",
       "      <td>FRZN ICE</td>\n",
       "      <td>ICE - CRUSHED/CUBED</td>\n",
       "      <td>22 LB</td>\n",
       "    </tr>\n",
       "    <tr>\n",
       "      <th>1</th>\n",
       "      <td>26081</td>\n",
       "      <td>2</td>\n",
       "      <td>MISC. TRANS.</td>\n",
       "      <td>National</td>\n",
       "      <td>NO COMMODITY DESCRIPTION</td>\n",
       "      <td>NO SUBCOMMODITY DESCRIPTION</td>\n",
       "      <td></td>\n",
       "    </tr>\n",
       "    <tr>\n",
       "      <th>2</th>\n",
       "      <td>26093</td>\n",
       "      <td>69</td>\n",
       "      <td>PASTRY</td>\n",
       "      <td>Private</td>\n",
       "      <td>BREAD</td>\n",
       "      <td>BREAD:ITALIAN/FRENCH</td>\n",
       "      <td></td>\n",
       "    </tr>\n",
       "    <tr>\n",
       "      <th>3</th>\n",
       "      <td>26190</td>\n",
       "      <td>69</td>\n",
       "      <td>GROCERY</td>\n",
       "      <td>Private</td>\n",
       "      <td>FRUIT - SHELF STABLE</td>\n",
       "      <td>APPLE SAUCE</td>\n",
       "      <td>50 OZ</td>\n",
       "    </tr>\n",
       "    <tr>\n",
       "      <th>4</th>\n",
       "      <td>26355</td>\n",
       "      <td>69</td>\n",
       "      <td>GROCERY</td>\n",
       "      <td>Private</td>\n",
       "      <td>COOKIES/CONES</td>\n",
       "      <td>SPECIALTY COOKIES</td>\n",
       "      <td>14 OZ</td>\n",
       "    </tr>\n",
       "  </tbody>\n",
       "</table>\n",
       "</div>"
      ],
      "text/plain": [
       "   PRODUCT_ID  MANUFACTURER    DEPARTMENT     BRAND            COMMODITY_DESC  \\\n",
       "0       25671             2       GROCERY  National                  FRZN ICE   \n",
       "1       26081             2  MISC. TRANS.  National  NO COMMODITY DESCRIPTION   \n",
       "2       26093            69        PASTRY   Private                     BREAD   \n",
       "3       26190            69       GROCERY   Private      FRUIT - SHELF STABLE   \n",
       "4       26355            69       GROCERY   Private             COOKIES/CONES   \n",
       "\n",
       "            SUB_COMMODITY_DESC CURR_SIZE_OF_PRODUCT  \n",
       "0          ICE - CRUSHED/CUBED                22 LB  \n",
       "1  NO SUBCOMMODITY DESCRIPTION                       \n",
       "2         BREAD:ITALIAN/FRENCH                       \n",
       "3                  APPLE SAUCE                50 OZ  \n",
       "4            SPECIALTY COOKIES                14 OZ  "
      ]
     },
     "execution_count": 253,
     "metadata": {},
     "output_type": "execute_result"
    }
   ],
   "source": [
    "products.head()"
   ]
  },
  {
   "cell_type": "markdown",
   "metadata": {},
   "source": [
    "### Removing the column  CURR_SIZE_OF_PRODUCT as it wont be needed"
   ]
  },
  {
   "cell_type": "code",
   "execution_count": 254,
   "metadata": {},
   "outputs": [],
   "source": [
    "products.drop('CURR_SIZE_OF_PRODUCT', axis=1, inplace=True)"
   ]
  },
  {
   "cell_type": "markdown",
   "metadata": {},
   "source": [
    "### Checking dtypes"
   ]
  },
  {
   "cell_type": "code",
   "execution_count": 255,
   "metadata": {},
   "outputs": [
    {
     "data": {
      "text/plain": [
       "PRODUCT_ID             int64\n",
       "MANUFACTURER           int64\n",
       "DEPARTMENT            object\n",
       "BRAND                 object\n",
       "COMMODITY_DESC        object\n",
       "SUB_COMMODITY_DESC    object\n",
       "dtype: object"
      ]
     },
     "execution_count": 255,
     "metadata": {},
     "output_type": "execute_result"
    }
   ],
   "source": [
    "products.dtypes"
   ]
  },
  {
   "cell_type": "markdown",
   "metadata": {},
   "source": [
    "###  Checking missing values"
   ]
  },
  {
   "cell_type": "code",
   "execution_count": 256,
   "metadata": {},
   "outputs": [
    {
     "data": {
      "text/plain": [
       "PRODUCT_ID            0\n",
       "MANUFACTURER          0\n",
       "DEPARTMENT            0\n",
       "BRAND                 0\n",
       "COMMODITY_DESC        0\n",
       "SUB_COMMODITY_DESC    0\n",
       "dtype: int64"
      ]
     },
     "execution_count": 256,
     "metadata": {},
     "output_type": "execute_result"
    }
   ],
   "source": [
    "products.isna().sum()"
   ]
  },
  {
   "cell_type": "markdown",
   "metadata": {},
   "source": [
    "### Checking for unique values"
   ]
  },
  {
   "cell_type": "code",
   "execution_count": 257,
   "metadata": {},
   "outputs": [
    {
     "data": {
      "text/plain": [
       "PRODUCT_ID            92353\n",
       "MANUFACTURER           6476\n",
       "DEPARTMENT               44\n",
       "BRAND                     2\n",
       "COMMODITY_DESC          308\n",
       "SUB_COMMODITY_DESC     2383\n",
       "dtype: int64"
      ]
     },
     "execution_count": 257,
     "metadata": {},
     "output_type": "execute_result"
    }
   ],
   "source": [
    "products.nunique()"
   ]
  },
  {
   "cell_type": "markdown",
   "metadata": {},
   "source": [
    "### Checking DEPARTMENTS categories"
   ]
  },
  {
   "cell_type": "code",
   "execution_count": 258,
   "metadata": {},
   "outputs": [
    {
     "data": {
      "text/plain": [
       "GROCERY       42.252011\n",
       "DRUG GM       34.139660\n",
       "PRODUCE        3.376176\n",
       "COSMETICS      3.260316\n",
       "NUTRITION      3.155285\n",
       "MEAT           2.754648\n",
       "MEAT-PCKGD     2.627960\n",
       "DELI           2.548916\n",
       "PASTRY         2.326941\n",
       "FLORAL         1.015668\n",
       "Name: DEPARTMENT, dtype: float64"
      ]
     },
     "execution_count": 258,
     "metadata": {},
     "output_type": "execute_result"
    }
   ],
   "source": [
    "(products.DEPARTMENT.value_counts() / products.shape[0] * 100).head(10)"
   ]
  },
  {
   "cell_type": "code",
   "execution_count": 259,
   "metadata": {},
   "outputs": [
    {
     "data": {
      "text/plain": [
       "array(['GROCERY', 'MISC. TRANS.', 'PASTRY', 'DRUG GM', 'MEAT-PCKGD',\n",
       "       'SEAFOOD-PCKGD', 'PRODUCE', 'NUTRITION', 'DELI', 'COSMETICS',\n",
       "       'MEAT', 'FLORAL', 'TRAVEL & LEISUR', 'SEAFOOD', 'MISC SALES TRAN',\n",
       "       'SALAD BAR', 'KIOSK-GAS', 'ELECT &PLUMBING', 'GRO BAKERY',\n",
       "       'GM MERCH EXP', 'FROZEN GROCERY', 'COUP/STR & MFG', 'SPIRITS',\n",
       "       'GARDEN CENTER', 'TOYS', 'CHARITABLE CONT', 'RESTAURANT', 'RX',\n",
       "       'PROD-WHS SALES', 'MEAT-WHSE', 'DAIRY DELI', 'CHEF SHOPPE', 'HBC',\n",
       "       'DELI/SNACK BAR', 'PORK', 'AUTOMOTIVE', 'VIDEO RENTAL', ' ',\n",
       "       'CNTRL/STORE SUP', 'HOUSEWARES', 'POSTAL CENTER', 'PHOTO', 'VIDEO',\n",
       "       'PHARMACY SUPPLY'], dtype=object)"
      ]
     },
     "execution_count": 259,
     "metadata": {},
     "output_type": "execute_result"
    }
   ],
   "source": [
    "products.DEPARTMENT.unique()"
   ]
  },
  {
   "cell_type": "markdown",
   "metadata": {},
   "source": [
    "In products departments, there are similar categories that can be bundle together like the different types of meat.\n",
    "\n",
    "Moreover, the data does not have any typo that needs to be fix."
   ]
  },
  {
   "cell_type": "markdown",
   "metadata": {},
   "source": [
    "### Checking COMMODITY_DESC categories"
   ]
  },
  {
   "cell_type": "code",
   "execution_count": 260,
   "metadata": {},
   "outputs": [
    {
     "data": {
      "text/plain": [
       "GREETING CARDS/WRAP/PARTY SPLY    3.015603\n",
       "CANDY - PACKAGED                  2.679935\n",
       "MAKEUP AND TREATMENT              2.671272\n",
       "HAIR CARE PRODUCTS                1.888406\n",
       "SOFT DRINKS                       1.845094\n",
       "BAG SNACKS                        1.649107\n",
       "HISPANIC                          1.580891\n",
       "FRZN MEAT/MEAT DINNERS            1.372993\n",
       "STATIONERY & SCHOOL SUPPLIES      1.365413\n",
       "MAGAZINE                          1.325349\n",
       "Name: COMMODITY_DESC, dtype: float64"
      ]
     },
     "execution_count": 260,
     "metadata": {},
     "output_type": "execute_result"
    }
   ],
   "source": [
    "(products.COMMODITY_DESC.value_counts() / products.shape[0] * 100).head(10)"
   ]
  },
  {
   "cell_type": "markdown",
   "metadata": {},
   "source": [
    "### Checking SUB_COMMODITY_DESC categories"
   ]
  },
  {
   "cell_type": "code",
   "execution_count": 261,
   "metadata": {},
   "outputs": [
    {
     "data": {
      "text/plain": [
       "CARDS EVERYDAY            1.088216\n",
       "BEERALEMALT LIQUORS       0.901974\n",
       "SPICES & SEASONINGS       0.681082\n",
       "GIFT-WRAP EVERYDAY        0.592293\n",
       "POTATO CHIPS              0.574968\n",
       "MAYBELLINE                0.568471\n",
       "SHAMPOO                   0.560891\n",
       "COVERGIRL                 0.559809\n",
       "YOGURT NOT MULTI-PACKS    0.554395\n",
       "PREMIUM                   0.535987\n",
       "Name: SUB_COMMODITY_DESC, dtype: float64"
      ]
     },
     "execution_count": 261,
     "metadata": {},
     "output_type": "execute_result"
    }
   ],
   "source": [
    "(products.SUB_COMMODITY_DESC.value_counts() / products.shape[0] * 100).head(10)"
   ]
  },
  {
   "cell_type": "markdown",
   "metadata": {},
   "source": [
    "### Checking BRAND categories"
   ]
  },
  {
   "cell_type": "code",
   "execution_count": 262,
   "metadata": {},
   "outputs": [
    {
     "data": {
      "text/plain": [
       "National    85.04001\n",
       "Private     14.95999\n",
       "Name: BRAND, dtype: float64"
      ]
     },
     "execution_count": 262,
     "metadata": {},
     "output_type": "execute_result"
    }
   ],
   "source": [
    "(products.BRAND.value_counts() / products.shape[0] * 100)"
   ]
  },
  {
   "cell_type": "code",
   "execution_count": 263,
   "metadata": {},
   "outputs": [
    {
     "data": {
      "image/png": "[encoded data removed]",
      "text/plain": [
       "<Figure size 432x288 with 1 Axes>"
      ]
     },
     "metadata": {},
     "output_type": "display_data"
    }
   ],
   "source": [
    "(products.BRAND.value_counts() / products.shape[0] * 100).plot(kind='pie',autopct='%.2f')\n",
    "plt.title('Brand proportions')\n",
    "plt.show()"
   ]
  },
  {
   "cell_type": "markdown",
   "metadata": {},
   "source": [
    "\n",
    "# <font color='green'>Cleaning the department column</font>\n"
   ]
  },
  {
   "cell_type": "code",
   "execution_count": 264,
   "metadata": {},
   "outputs": [
    {
     "data": {
      "text/plain": [
       "GREETING CARDS/WRAP/PARTY SPLY    2785\n",
       "CANDY - PACKAGED                  2473\n",
       "HAIR CARE PRODUCTS                1744\n",
       "STATIONERY & SCHOOL SUPPLIES      1261\n",
       "MAGAZINE                          1224\n",
       "Name: COMMODITY_DESC, dtype: int64"
      ]
     },
     "execution_count": 264,
     "metadata": {},
     "output_type": "execute_result"
    }
   ],
   "source": [
    "products[products[\"DEPARTMENT\"]==\"DRUG GM\"][\"COMMODITY_DESC\"].value_counts().head()"
   ]
  },
  {
   "cell_type": "code",
   "execution_count": 265,
   "metadata": {},
   "outputs": [],
   "source": [
    "PERSONAL_CARE = [\"HAIR CARE PRODUCTS\", \"DEODORANTS\", \"ORAL HYGIENE PRODUCTS\", \"HAND/BODY/FACIAL PRODUCTS\",\n",
    "                 \"SOAP - LIQUID & BAR\", \"SHAVING CARE PRODUCTS\", \"FEMININE HYGIENE\", \"HAIR CARE ACCESSORIES\",\n",
    "                \"ETHNIC PERSONAL CARE\", \"PERSONAL CARE APPLIANCES\", \"SUNTAN\"]"
   ]
  },
  {
   "cell_type": "code",
   "execution_count": 266,
   "metadata": {},
   "outputs": [],
   "source": [
    "DRUGSTORE = [\"VITAMINS\", \"COLD AND FLU\", \"ANALGESICS\", \"FIRST AID PRODUCTS\", \"DIETARY AID PRODUCTS\", \"ANTACIDS\",\n",
    "             \"SINUS AND ALLERGY\", \"EYE AND EAR CARE PRODUCTS\", \"LAXATIVES\", \"FOOT CARE PRODUCTS\", \"GLASSES/VISION AIDS\",\n",
    "            \"ADULT INCONTINENCE\", \"HOME HEALTH CARE\", \"NATURAL HBC\"]"
   ]
  },
  {
   "cell_type": "code",
   "execution_count": 267,
   "metadata": {},
   "outputs": [],
   "source": [
    "SMOKING = [\"CIGARETTES\", \"TOBACCO OTHER\", \"TOBACCO\", \"CIGARS\", \"SMOKING CESSATIONS\"]"
   ]
  },
  {
   "cell_type": "code",
   "execution_count": 268,
   "metadata": {},
   "outputs": [],
   "source": [
    "BABY_CARE = [\"BABY FOODS\", \"BABY HBC\", \"INFANT CARE PRODUCTS\", \"DIAPERS & DISPOSABLES\", \"INFANT FORMULA\",\n",
    "            \"INFANT FORMULA\", \"FAMILY PLANNING\"]"
   ]
  },
  {
   "cell_type": "code",
   "execution_count": 269,
   "metadata": {},
   "outputs": [],
   "source": [
    "HOME = [\"CANDLES/ACCESSORIES\", \"DOMESTIC GOODS\", \"HOME FURNISHINGS\", \"SEWING\",\n",
    "             \"HOME FREEZING & CANNING SUPPLY\"]"
   ]
  },
  {
   "cell_type": "code",
   "execution_count": 270,
   "metadata": {},
   "outputs": [],
   "source": [
    "GARDEN_CENTER = [\"LAWN AND GARDEN SHOP\", \"INSECTICIDES\", \"PROPANE\"]"
   ]
  },
  {
   "cell_type": "code",
   "execution_count": 271,
   "metadata": {},
   "outputs": [],
   "source": [
    "SEASONS = [\"CHRISTMAS  SEASONAL\", \"SPRING/SUMMER SEASONAL\", \"EASTER\", \"HALLOWEEN\", \"FALL AND WINTER SEASONAL\",\n",
    "           \"FIREWORKS\", \"VALENTINE\"]"
   ]
  },
  {
   "cell_type": "code",
   "execution_count": 272,
   "metadata": {},
   "outputs": [],
   "source": [
    "KIOSK = [\"GREETING CARDS/WRAP/PARTY SPLY\", \"MAGAZINE\", \"BOOKSTORE\", \"NEWSPAPER\", \"TICKETS\"]"
   ]
  },
  {
   "cell_type": "code",
   "execution_count": 273,
   "metadata": {},
   "outputs": [],
   "source": [
    "SPORTS_MISC = [\"J-HOOKS\", \"CHARCOAL AND LIGHTER FLUID\", \"OVERNIGHT PHOTOFINISHING\", \"IN-STORE PHOTOFINISHING\",\n",
    "         \"SPORTS MEMORABLILIA\"]"
   ]
  },
  {
   "cell_type": "code",
   "execution_count": 274,
   "metadata": {},
   "outputs": [],
   "source": [
    "FASHION = [\"HOSIERY/SOCKS\", \"APPAREL\", \"SHOE CARE\"]"
   ]
  },
  {
   "cell_type": "code",
   "execution_count": 275,
   "metadata": {},
   "outputs": [],
   "source": [
    "KIDS = [\"CANDY - PACKAGED\", \"STATIONERY & SCHOOL SUPPLIES\", \"TOYS AND GAMES\", \"CANDY - CHECKLANE\"]"
   ]
  },
  {
   "cell_type": "code",
   "execution_count": 276,
   "metadata": {},
   "outputs": [],
   "source": [
    "ELECTRONICS = [\"AUDIO/VIDEO PRODUCTS\", \"HARDWARE SUPPLIES\", \"FILM AND CAMERA PRODUCTS\", \"PREPAID WIRELESS&ACCESSORIES\",\n",
    "               \"WATCHES/CALCULATORS/LOBBY\", \"LONG DISTANCE CALLING CARDS\"]"
   ]
  },
  {
   "cell_type": "code",
   "execution_count": 277,
   "metadata": {},
   "outputs": [],
   "source": [
    "ELECTRIC = [\"PORTABLE ELECTRIC APPLIANCES\", \"ELECTRICAL SUPPPLIES\", \"BATTERIES\"]"
   ]
  },
  {
   "cell_type": "code",
   "execution_count": 278,
   "metadata": {},
   "outputs": [],
   "source": [
    "MISCELLANEOUS = [\"DOLLAR VALUE PRODUCTS\", \"COUPON/MISC ITEMS\", \"MISCELLANEOUS HBC\", \"CONTINUITIES\"]"
   ]
  },
  {
   "cell_type": "code",
   "execution_count": 279,
   "metadata": {},
   "outputs": [],
   "source": [
    "AUTOMOTIVE = [\"AUTOMOTIVE PRODUCTS\"]"
   ]
  },
  {
   "cell_type": "code",
   "execution_count": 280,
   "metadata": {},
   "outputs": [],
   "source": [
    "COSMETICS = [\"MAKEUP AND TREATMENT\", \"FRAGRANCES\", \"COSMETIC ACCESSORIES\"]"
   ]
  },
  {
   "cell_type": "code",
   "execution_count": 281,
   "metadata": {},
   "outputs": [],
   "source": [
    "products.loc[products[\"COMMODITY_DESC\"].isin(PERSONAL_CARE), \"DEPARTMENT\"] = \"PERSONAL_CARE\"\n",
    "products.loc[products[\"COMMODITY_DESC\"].isin(DRUGSTORE), \"DEPARTMENT\"] = \"DRUGSTORE\"\n",
    "products.loc[products[\"COMMODITY_DESC\"].isin(SMOKING), \"DEPARTMENT\"] = \"SMOKING\"\n",
    "products.loc[products[\"COMMODITY_DESC\"].isin(BABY_CARE), \"DEPARTMENT\"] = \"BABY_CARE\"\n",
    "products.loc[products[\"COMMODITY_DESC\"].isin(HOME), \"DEPARTMENT\"] = \"HOME\"\n",
    "products.loc[products[\"COMMODITY_DESC\"].isin(SEASONS), \"DEPARTMENT\"] = \"SEASONS\"\n",
    "products.loc[products[\"COMMODITY_DESC\"].isin(KIOSK), \"DEPARTMENT\"] = \"KIOSK\"\n",
    "products.loc[products[\"COMMODITY_DESC\"].isin(SPORTS_MISC), \"DEPARTMENT\"] = \"SPORTS_MISC\"\n",
    "products.loc[products[\"COMMODITY_DESC\"].isin(FASHION), \"DEPARTMENT\"] = \"APPAREL\"\n",
    "products.loc[products[\"COMMODITY_DESC\"].isin(ELECTRONICS), \"DEPARTMENT\"] = \"ELECTRONICS\"\n",
    "products.loc[products[\"COMMODITY_DESC\"].isin(ELECTRIC), \"DEPARTMENT\"] = \"ELECTRIC\"\n",
    "products.loc[products[\"COMMODITY_DESC\"].isin(KIDS), \"DEPARTMENT\"] = \"KIDS\"\n",
    "products.loc[products[\"COMMODITY_DESC\"].isin(MISCELLANEOUS), \"DEPARTMENT\"] = \"MISCELLANEOUS\"\n",
    "products.loc[products[\"COMMODITY_DESC\"].isin(AUTOMOTIVE), \"DEPARTMENT\"] = \"AUTOMOTIVE\"\n",
    "products.loc[products[\"COMMODITY_DESC\"].isin(COSMETICS), \"DEPARTMENT\"] = \"COSMETICS\"\n",
    "products.loc[products[\"COMMODITY_DESC\"].isin(GARDEN_CENTER), \"DEPARTMENT\"] = \"GARDEN_CENTER\""
   ]
  },
  {
   "cell_type": "markdown",
   "metadata": {},
   "source": [
    "### Modifying the department 'GROCERY'  into subcategories and removing the commodities that does not belong to this department, thus creating a new department for thoose commodities"
   ]
  },
  {
   "cell_type": "code",
   "execution_count": 282,
   "metadata": {
    "scrolled": false
   },
   "outputs": [
    {
     "data": {
      "text/plain": [
       "SOFT DRINKS               1704\n",
       "BAG SNACKS                1523\n",
       "HISPANIC                  1460\n",
       "FRZN MEAT/MEAT DINNERS    1268\n",
       "BAKED BREAD/BUNS/ROLLS    1169\n",
       "Name: COMMODITY_DESC, dtype: int64"
      ]
     },
     "execution_count": 282,
     "metadata": {},
     "output_type": "execute_result"
    }
   ],
   "source": [
    "products[products['DEPARTMENT'] == 'GROCERY']['COMMODITY_DESC'].value_counts().head()"
   ]
  },
  {
   "cell_type": "code",
   "execution_count": 283,
   "metadata": {
    "scrolled": false
   },
   "outputs": [],
   "source": [
    "SNACKS = ['BAG SNACKS','COOKIES/CONES','PNT BTR/JELLY/JAMS','SNACK NUTS','WAREHOUSE SNACKS','OLIVES',\\\n",
    "         'CHIPS&SNACKS','COOKIES','SWEET GOODS & SNACKS']"
   ]
  },
  {
   "cell_type": "code",
   "execution_count": 284,
   "metadata": {},
   "outputs": [],
   "source": [
    "LIQUOUR = ['BEERS/ALES','IMPORTED WINE','DOMESTIC WINE','MISC WINE','LIQUOR']"
   ]
  },
  {
   "cell_type": "code",
   "execution_count": 285,
   "metadata": {},
   "outputs": [],
   "source": [
    "PETS_SUPPLIES = ['PET CARE SUPPLIES','DOG FOODS','CAT FOOD','CAT LITTER','BIRD SEED']"
   ]
  },
  {
   "cell_type": "code",
   "execution_count": 286,
   "metadata": {},
   "outputs": [],
   "source": [
    "DAIRY = ['CHEESE','ICE CREAM/MILK/SHERBTS','YOGURT','FLUID MILK PRODUCTS','MILK BY-PRODUCTS','MISC. DAIRY',\\\n",
    "        'CANNED MILK']"
   ]
  },
  {
   "cell_type": "code",
   "execution_count": 287,
   "metadata": {},
   "outputs": [],
   "source": [
    "BREAKFAST = ['COLD CEREAL','CONVENIENT BRKFST/WHLSM SNACKS','MOLASSES/SYRUP/PANCAKE MIXS',\\\n",
    "'HOT CEREAL','SYRUPS/TOPPINGS','CRACKERS/MISC BKD FD','EGGS','BREAKFAST SWEETS']"
   ]
  },
  {
   "cell_type": "code",
   "execution_count": 288,
   "metadata": {},
   "outputs": [],
   "source": [
    "BAKED = ['BAKED BREAD/BUNS/ROLLS','BAKED SWEET GOODS','BAKING NEEDS','BAKING MIXES','BREAD','CAKES','ROLLS',\\\n",
    "        'PIES','BAKERY PARTY TRAYS']"
   ]
  },
  {
   "cell_type": "code",
   "execution_count": 289,
   "metadata": {},
   "outputs": [],
   "source": [
    "DRINKS_JUICES = ['SOFT DRINKS','ISOTONIC DRINKS','REFRGRATD JUICES/DRNKS','PWDR/CRYSTL DRNK MX','CANNED JUICES',\\\n",
    "                'WATER - CARBONATED/FLVRD DRINK','TEAS','BOTTLE DEPOSITS','COFFEE']"
   ]
  },
  {
   "cell_type": "code",
   "execution_count": 290,
   "metadata": {},
   "outputs": [],
   "source": [
    "FROZEN_GROCERY = ['FRZN MEAT/MEAT DINNERS','FROZEN PIZZA','FRZN NOVELTIES/WTR ICE ','FROZEN PIE/DESSERTS',\\\n",
    "                  'FRZN BREAKFAST FOODS','FRZN POTATOES','FROZEN BREAD/DOUGH','FRZN JCE CONC/DRNKS',\\\n",
    "                 'FRZN FRUITS','FRZN ICE','FROZEN CHICKEN','FRZN SEAFOOD','MISCELLANEOUS CROUTONS','FRZN VEGETABLE/VEG DSH'\\\n",
    "                 ,'FRZN NOVELTIES/WTR ICE']"
   ]
  },
  {
   "cell_type": "code",
   "execution_count": 291,
   "metadata": {},
   "outputs": [],
   "source": [
    "CLEANING_PROD = ['BLEACH','DISHWASH DETERGENTS','LAUNDRY ADDITIVES','HOUSEHOLD CLEANG NEEDS','BROOMS AND MOPS',\\\n",
    "                'IRONING AND CHEMICALS','LAUNDRY DETERGENTS']"
   ]
  },
  {
   "cell_type": "code",
   "execution_count": 292,
   "metadata": {},
   "outputs": [],
   "source": [
    "CONDIMENTS = ['SPICES & EXTRACTS','CONDIMENTS/SAUCES','BUTTER','MARGARINES','SHORTENING/OIL','SUGARS/SWEETNERS',\\\n",
    "             'DRY SAUCES/GRAVY','PASTA SAUCE','SALD DRSNG/SNDWCH SPRD']"
   ]
  },
  {
   "cell_type": "code",
   "execution_count": 293,
   "metadata": {},
   "outputs": [],
   "source": [
    "HOUSEWARES = ['BATH TISSUES','FACIAL TISS/DNR NAPKIN','PAPER HOUSEWARES','PAPER TOWELS','AIR CARE',\\\n",
    "              'FD WRAPS/BAGS/TRSH BG', 'KITCHEN GADGETS', 'PLASTIC HOUSEWARES','COFFEE FILTERS',\\\n",
    "             'GLASSWARE & DINNERWARE','DISPOSIBLE FOILWARE','COOKWARE & BAKEWARE']"
   ]
  },
  {
   "cell_type": "code",
   "execution_count": 294,
   "metadata": {},
   "outputs": [],
   "source": [
    "GRAINS_PASTA_SIDES = ['SOUP','DRY BN/VEG/POTATO/RICE',\\\n",
    "        'DINNER MXS:DRY','DRY NOODLES/PASTA','BEANS - CANNED GLASS & MW',\\\n",
    "            'FLOUR & MEALS','POTATOES','POPCORN',\\\n",
    "                'REFRGRATD DOUGH PRODUCTS','DRY MIX DESSERTS','COCOA MIXES','NEW AGE','UNKNOWN','COUPON',\\\n",
    "                'DELI SUPPLIES']"
   ]
  },
  {
   "cell_type": "code",
   "execution_count": 295,
   "metadata": {},
   "outputs": [],
   "source": [
    "HISPANIC_FOOD = ['HISPANIC']"
   ]
  },
  {
   "cell_type": "code",
   "execution_count": 296,
   "metadata": {},
   "outputs": [],
   "source": [
    "lst_sub_departments = ['SNACKS','LIQUOUR','PETS_SUPPLIES','DAIRY','BREAKFAST','BAKED','DRINKS_JUICES',\\\n",
    "                      'FROZEN_GROCERY','CONDIMENTS','MARKET_OTHERS']"
   ]
  },
  {
   "cell_type": "markdown",
   "metadata": {},
   "source": [
    "#### Getting all the commodities for the PRODUCE department into one sub department of groceries called 'FRUITS_VEG'"
   ]
  },
  {
   "cell_type": "code",
   "execution_count": 297,
   "metadata": {},
   "outputs": [
    {
     "data": {
      "text/plain": [
       "array(['POTATOES', 'POPCORN', 'ORGANICS FRUIT & VEGETABLES', 'PROCESSED',\n",
       "       'SALAD MIX', 'STONE FRUIT', 'MELONS', 'BERRIES', 'GRAPES',\n",
       "       'CARROTS', 'APPLES', 'HERBS', 'SQUASH', 'VEGETABLES - ALL OTHERS',\n",
       "       'CORN', 'CITRUS', 'NUTS', 'TROPICAL FRUIT', 'BROCCOLI/CAULIFLOWER',\n",
       "       'MUSHROOMS', 'ONIONS', 'PEPPERS-ALL', 'VEGETABLES SALAD',\n",
       "       'VALUE ADDED VEGETABLES', 'TOMATOES', 'PEARS', 'VALUE ADDED FRUIT',\n",
       "       'PROD SUPPLIES', 'SALAD BAR', 'SEASONAL', 'DRIED FRUIT',\n",
       "       'MISCELLANEOUS(CORP USE ONLY)'], dtype=object)"
      ]
     },
     "execution_count": 297,
     "metadata": {},
     "output_type": "execute_result"
    }
   ],
   "source": [
    "products[products['DEPARTMENT'] == 'PRODUCE']['COMMODITY_DESC'].unique()"
   ]
  },
  {
   "cell_type": "code",
   "execution_count": 298,
   "metadata": {},
   "outputs": [],
   "source": [
    "FRUITS_VEG = ['ORGANICS FRUIT & VEGETABLES', 'PROCESSED',\n",
    "       'SALAD MIX', 'STONE FRUIT', 'MELONS', 'BERRIES', 'GRAPES',\n",
    "       'CARROTS', 'APPLES', 'HERBS', 'SQUASH', 'VEGETABLES - ALL OTHERS',\n",
    "       'CORN', 'CITRUS', 'NUTS', 'TROPICAL FRUIT', 'BROCCOLI/CAULIFLOWER',\n",
    "       'MUSHROOMS', 'ONIONS', 'PEPPERS-ALL', 'VEGETABLES SALAD',\n",
    "       'VALUE ADDED VEGETABLES', 'TOMATOES', 'PEARS', 'VALUE ADDED FRUIT',\n",
    "       'PROD SUPPLIES', 'SALAD BAR', 'SEASONAL', 'DRIED FRUIT',\n",
    "       'MISCELLANEOUS(CORP USE ONLY)','PICKLE/RELISH/PKLD VEG','FRUIT - SHELF STABLE','VEGETABLES - SHELF STABLE']"
   ]
  },
  {
   "cell_type": "markdown",
   "metadata": {},
   "source": [
    "#### Getting all the commodities for the meat and related departments into one sub department of groceries called 'MEAT'"
   ]
  },
  {
   "cell_type": "code",
   "execution_count": 299,
   "metadata": {},
   "outputs": [
    {
     "data": {
      "text/plain": [
       "array(['DINNER SAUSAGE', 'FROZEN MEAT', 'MEAT - MISC', 'LUNCHMEAT',\n",
       "       'BREAKFAST SAUSAGE/SANDWICHES', 'BACON', 'HOT DOGS', 'HEAT/SERVE',\n",
       "       'MISCELLANEOUS', 'FROZEN PACKAGE MEAT'], dtype=object)"
      ]
     },
     "execution_count": 299,
     "metadata": {},
     "output_type": "execute_result"
    }
   ],
   "source": [
    "products[products['DEPARTMENT'] == 'MEAT-PCKGD']['COMMODITY_DESC'].unique()"
   ]
  },
  {
   "cell_type": "code",
   "execution_count": 300,
   "metadata": {},
   "outputs": [
    {
     "data": {
      "text/plain": [
       "array(['CHICKEN', 'BEEF', 'TURKEY', 'SMOKED MEATS', 'PORK',\n",
       "       '(CORP USE ONLY)', 'LAMB', 'VEAL', 'MISCELLANEOUS',\n",
       "       'RW FRESH PROCESSED MEAT', 'EXOTIC GAME/FOWL', 'BACON',\n",
       "       'MEAT - MISC', 'MEAT SUPPLIES', 'LUNCHMEAT'], dtype=object)"
      ]
     },
     "execution_count": 300,
     "metadata": {},
     "output_type": "execute_result"
    }
   ],
   "source": [
    "products[products['DEPARTMENT'] == 'MEAT']['COMMODITY_DESC'].unique()"
   ]
  },
  {
   "cell_type": "code",
   "execution_count": 301,
   "metadata": {},
   "outputs": [
    {
     "data": {
      "text/plain": [
       "DELI SUPPLIES    2\n",
       "Name: COMMODITY_DESC, dtype: int64"
      ]
     },
     "execution_count": 301,
     "metadata": {},
     "output_type": "execute_result"
    }
   ],
   "source": [
    "products[products['DEPARTMENT'] == 'DELI/SNACK BAR']['COMMODITY_DESC'].value_counts()"
   ]
  },
  {
   "cell_type": "code",
   "execution_count": 302,
   "metadata": {},
   "outputs": [
    {
     "data": {
      "text/plain": [
       "PORK    1\n",
       "Name: COMMODITY_DESC, dtype: int64"
      ]
     },
     "execution_count": 302,
     "metadata": {},
     "output_type": "execute_result"
    }
   ],
   "source": [
    "products[products['DEPARTMENT'] == 'PORK']['COMMODITY_DESC'].value_counts()"
   ]
  },
  {
   "cell_type": "code",
   "execution_count": 303,
   "metadata": {},
   "outputs": [],
   "source": [
    "MEAT = ['DINNER SAUSAGE', 'FROZEN MEAT', 'MEAT - MISC', 'LUNCHMEAT',\n",
    "       'BREAKFAST SAUSAGE/SANDWICHES', 'BACON', 'HOT DOGS', 'HEAT/SERVE',\n",
    "       'MISCELLANEOUS', 'FROZEN PACKAGE MEAT','CHICKEN', 'BEEF', 'TURKEY', 'SMOKED MEATS', 'PORK',\n",
    "       '(CORP USE ONLY)', 'LAMB', 'VEAL', 'MISCELLANEOUS',\n",
    "       'RW FRESH PROCESSED MEAT', 'EXOTIC GAME/FOWL', 'BACON',\n",
    "       'MEAT - MISC', 'MEAT SUPPLIES', 'LUNCHMEAT','PORK','MEAT - SHELF STABLE']"
   ]
  },
  {
   "cell_type": "markdown",
   "metadata": {},
   "source": [
    "#### Getting all the commodities for the seafood and related departments into one sub department of groceries called 'seafood'"
   ]
  },
  {
   "cell_type": "code",
   "execution_count": 304,
   "metadata": {},
   "outputs": [
    {
     "data": {
      "text/plain": [
       "array(['SEAFOOD - FROZEN', 'SEAFOOD-FRESH', 'SEAFOOD - MISC',\n",
       "       'FROZEN - BOXED(GROCERY)', 'PKG.SEAFOOD MISC'], dtype=object)"
      ]
     },
     "execution_count": 304,
     "metadata": {},
     "output_type": "execute_result"
    }
   ],
   "source": [
    "products[products['DEPARTMENT'] == 'SEAFOOD-PCKGD']['COMMODITY_DESC'].unique()"
   ]
  },
  {
   "cell_type": "code",
   "execution_count": 305,
   "metadata": {},
   "outputs": [
    {
     "data": {
      "text/plain": [
       "array(['SEAFOOD-FRESH', 'SEAFOOD - FROZEN', 'MEAT SUPPLIES',\n",
       "       'SEAFOOD - MISC'], dtype=object)"
      ]
     },
     "execution_count": 305,
     "metadata": {},
     "output_type": "execute_result"
    }
   ],
   "source": [
    "products[products['DEPARTMENT'] == 'SEAFOOD']['COMMODITY_DESC'].unique()"
   ]
  },
  {
   "cell_type": "code",
   "execution_count": 306,
   "metadata": {},
   "outputs": [],
   "source": [
    "SEAFOOD = ['SEAFOOD - FROZEN', 'SEAFOOD-FRESH', 'SEAFOOD - MISC',\n",
    "       'FROZEN - BOXED(GROCERY)', 'PKG.SEAFOOD MISC','SEAFOOD-FRESH', 'SEAFOOD - FROZEN', 'MEAT SUPPLIES',\n",
    "       'SEAFOOD - MISC','SEAFOOD - SHELF STABLE']"
   ]
  },
  {
   "cell_type": "code",
   "execution_count": 307,
   "metadata": {},
   "outputs": [
    {
     "data": {
      "text/plain": [
       "array(['NON-DAIRY BEVERAGES', 'CHIPS&SNACKS', 'JUICE', 'DRIED FRUIT',\n",
       "       'FROZEN', 'WATER', 'CEREAL/BREAKFAST', 'REFRIGERATED',\n",
       "       'SNKS/CKYS/CRKR/CNDY', 'FITNESS&DIET', 'CONDIMENTS', 'BEVERAGE',\n",
       "       'RICE CAKES', 'PREPARED/PKGD FOODS', 'PACKAGED NATURAL SNACKS',\n",
       "       'SOUP', 'BAKING', 'BABYFOOD', 'DRY TEA/COFFEE/COCO MIX',\n",
       "       'NATURAL VITAMINS', 'NDAIRY/TEAS/JUICE/SOD', 'BULK FOODS',\n",
       "       'NON EDIBLE PRODUCTS', 'ORGANICS FRUIT & VEGETABLES', 'BREAD'],\n",
       "      dtype=object)"
      ]
     },
     "execution_count": 307,
     "metadata": {},
     "output_type": "execute_result"
    }
   ],
   "source": [
    "products[products['DEPARTMENT'] == 'NUTRITION']['COMMODITY_DESC'].unique()"
   ]
  },
  {
   "cell_type": "code",
   "execution_count": 308,
   "metadata": {},
   "outputs": [
    {
     "data": {
      "text/html": [
       "<div>\n",
       "<style scoped>\n",
       "    .dataframe tbody tr th:only-of-type {\n",
       "        vertical-align: middle;\n",
       "    }\n",
       "\n",
       "    .dataframe tbody tr th {\n",
       "        vertical-align: top;\n",
       "    }\n",
       "\n",
       "    .dataframe thead th {\n",
       "        text-align: right;\n",
       "    }\n",
       "</style>\n",
       "<table border=\"1\" class=\"dataframe\">\n",
       "  <thead>\n",
       "    <tr style=\"text-align: right;\">\n",
       "      <th></th>\n",
       "      <th>PRODUCT_ID</th>\n",
       "      <th>MANUFACTURER</th>\n",
       "      <th>DEPARTMENT</th>\n",
       "      <th>BRAND</th>\n",
       "      <th>COMMODITY_DESC</th>\n",
       "      <th>SUB_COMMODITY_DESC</th>\n",
       "    </tr>\n",
       "  </thead>\n",
       "  <tbody>\n",
       "    <tr>\n",
       "      <th>0</th>\n",
       "      <td>25671</td>\n",
       "      <td>2</td>\n",
       "      <td>GROCERY</td>\n",
       "      <td>National</td>\n",
       "      <td>FRZN ICE</td>\n",
       "      <td>ICE - CRUSHED/CUBED</td>\n",
       "    </tr>\n",
       "    <tr>\n",
       "      <th>1</th>\n",
       "      <td>26081</td>\n",
       "      <td>2</td>\n",
       "      <td>MISC. TRANS.</td>\n",
       "      <td>National</td>\n",
       "      <td>NO COMMODITY DESCRIPTION</td>\n",
       "      <td>NO SUBCOMMODITY DESCRIPTION</td>\n",
       "    </tr>\n",
       "    <tr>\n",
       "      <th>2</th>\n",
       "      <td>26093</td>\n",
       "      <td>69</td>\n",
       "      <td>PASTRY</td>\n",
       "      <td>Private</td>\n",
       "      <td>BREAD</td>\n",
       "      <td>BREAD:ITALIAN/FRENCH</td>\n",
       "    </tr>\n",
       "    <tr>\n",
       "      <th>3</th>\n",
       "      <td>26190</td>\n",
       "      <td>69</td>\n",
       "      <td>GROCERY</td>\n",
       "      <td>Private</td>\n",
       "      <td>FRUIT - SHELF STABLE</td>\n",
       "      <td>APPLE SAUCE</td>\n",
       "    </tr>\n",
       "    <tr>\n",
       "      <th>4</th>\n",
       "      <td>26355</td>\n",
       "      <td>69</td>\n",
       "      <td>GROCERY</td>\n",
       "      <td>Private</td>\n",
       "      <td>COOKIES/CONES</td>\n",
       "      <td>SPECIALTY COOKIES</td>\n",
       "    </tr>\n",
       "  </tbody>\n",
       "</table>\n",
       "</div>"
      ],
      "text/plain": [
       "   PRODUCT_ID  MANUFACTURER    DEPARTMENT     BRAND            COMMODITY_DESC  \\\n",
       "0       25671             2       GROCERY  National                  FRZN ICE   \n",
       "1       26081             2  MISC. TRANS.  National  NO COMMODITY DESCRIPTION   \n",
       "2       26093            69        PASTRY   Private                     BREAD   \n",
       "3       26190            69       GROCERY   Private      FRUIT - SHELF STABLE   \n",
       "4       26355            69       GROCERY   Private             COOKIES/CONES   \n",
       "\n",
       "            SUB_COMMODITY_DESC  \n",
       "0          ICE - CRUSHED/CUBED  \n",
       "1  NO SUBCOMMODITY DESCRIPTION  \n",
       "2         BREAD:ITALIAN/FRENCH  \n",
       "3                  APPLE SAUCE  \n",
       "4            SPECIALTY COOKIES  "
      ]
     },
     "execution_count": 308,
     "metadata": {},
     "output_type": "execute_result"
    }
   ],
   "source": [
    "products.head()"
   ]
  },
  {
   "cell_type": "markdown",
   "metadata": {},
   "source": [
    "### Changing the commodities that are cleaning products that were belonging to the grocery department into a new department called 'CLEANING_PROD'"
   ]
  },
  {
   "cell_type": "code",
   "execution_count": 309,
   "metadata": {},
   "outputs": [],
   "source": [
    "products.loc[products[\"COMMODITY_DESC\"].isin(CLEANING_PROD), \"DEPARTMENT\"] = \"CLEANING_PROD\""
   ]
  },
  {
   "cell_type": "markdown",
   "metadata": {},
   "source": [
    "### Same with housewares"
   ]
  },
  {
   "cell_type": "code",
   "execution_count": 310,
   "metadata": {},
   "outputs": [],
   "source": [
    "products.loc[products[\"COMMODITY_DESC\"].isin(HOUSEWARES), \"DEPARTMENT\"] = \"HOUSEWARES\""
   ]
  },
  {
   "cell_type": "markdown",
   "metadata": {},
   "source": [
    "### Chaging the name of the department 'Nutrition' to 'Eco'"
   ]
  },
  {
   "cell_type": "code",
   "execution_count": 311,
   "metadata": {},
   "outputs": [],
   "source": [
    "products.DEPARTMENT = products.DEPARTMENT.apply(lambda x:'ECO'if x=='NUTRITION' else x)"
   ]
  },
  {
   "cell_type": "code",
   "execution_count": 312,
   "metadata": {},
   "outputs": [],
   "source": [
    "products.loc[products[\"COMMODITY_DESC\"].str.match(\"RESTRICTED DIET\"), \"DEPARTMENT\"] = \"ECO\"\n",
    "products.loc[products[\"COMMODITY_DESC\"].str.match(\"RESTRICTED DIET\"), \"SUB_DEPARTMENT\"] = \"ECO\""
   ]
  },
  {
   "cell_type": "markdown",
   "metadata": {},
   "source": [
    "### Changing the department for PRODUCE, MEAT, MEAT-PCKD and more into the GROCERY department"
   ]
  },
  {
   "cell_type": "code",
   "execution_count": 313,
   "metadata": {},
   "outputs": [],
   "source": [
    "lst_grocery = ['MEAT-PCKGD','SEAFOOD-PCKGD', 'PRODUCE','MEAT','SEAFOOD', 'FROZEN GROCERY',\\\n",
    "              'MEAT-WHSE','DAIRY DELI','PORK','PASTRY']"
   ]
  },
  {
   "cell_type": "code",
   "execution_count": 314,
   "metadata": {},
   "outputs": [],
   "source": [
    "products.DEPARTMENT = products.DEPARTMENT.apply(lambda x: 'GROCERY' if x in lst_grocery else x)"
   ]
  },
  {
   "cell_type": "code",
   "execution_count": 315,
   "metadata": {},
   "outputs": [],
   "source": [
    "products[\"SUB_DEPARTMENT\"] = products[\"DEPARTMENT\"]"
   ]
  },
  {
   "cell_type": "code",
   "execution_count": 316,
   "metadata": {},
   "outputs": [
    {
     "data": {
      "text/plain": [
       "['SNACKS',\n",
       " 'LIQUOUR',\n",
       " 'PETS_SUPPLIES',\n",
       " 'DAIRY',\n",
       " 'BREAKFAST',\n",
       " 'BAKED',\n",
       " 'DRINKS_JUICES',\n",
       " 'FROZEN_GROCERY',\n",
       " 'CONDIMENTS',\n",
       " 'MARKET_OTHERS']"
      ]
     },
     "execution_count": 316,
     "metadata": {},
     "output_type": "execute_result"
    }
   ],
   "source": [
    "lst_sub_departments"
   ]
  },
  {
   "cell_type": "code",
   "execution_count": 317,
   "metadata": {},
   "outputs": [],
   "source": [
    "products.loc[products[\"COMMODITY_DESC\"].isin(PETS_SUPPLIES), \"SUB_DEPARTMENT\"] = \"PETS_SUPPLIES\"\n",
    "products.loc[products[\"COMMODITY_DESC\"].isin(LIQUOUR), \"SUB_DEPARTMENT\"] = \"LIQUOUR\"\n",
    "products.loc[products[\"COMMODITY_DESC\"].isin(SNACKS), \"SUB_DEPARTMENT\"] = \"SNACKS\"\n",
    "products.loc[products[\"COMMODITY_DESC\"].isin(DAIRY), \"SUB_DEPARTMENT\"] = \"DAIRY\"\n",
    "products.loc[products[\"COMMODITY_DESC\"].isin(BREAKFAST), \"SUB_DEPARTMENT\"] = \"BREAKFAST\"\n",
    "products.loc[products[\"COMMODITY_DESC\"].isin(BAKED), \"SUB_DEPARTMENT\"] = \"BAKED\"\n",
    "products.loc[products[\"COMMODITY_DESC\"].isin(DRINKS_JUICES), \"SUB_DEPARTMENT\"] = \"DRINKS_JUICES\"\n",
    "products.loc[products[\"COMMODITY_DESC\"].isin(FROZEN_GROCERY), \"SUB_DEPARTMENT\"] = \"FROZEN_GROCERY\"\n",
    "products.loc[products[\"COMMODITY_DESC\"].isin(CONDIMENTS), \"SUB_DEPARTMENT\"] = \"CONDIMENTS\"\n",
    "products.loc[products[\"COMMODITY_DESC\"].isin(GRAINS_PASTA_SIDES), \"SUB_DEPARTMENT\"] = \"GRAINS_PASTA_SIDES\"\n",
    "products.loc[products[\"COMMODITY_DESC\"].isin(MEAT), \"SUB_DEPARTMENT\"] = \"MEAT\"\n",
    "products.loc[products[\"COMMODITY_DESC\"].isin(SEAFOOD), \"SUB_DEPARTMENT\"] = \"SEAFOOD\"\n",
    "products.loc[products[\"COMMODITY_DESC\"].isin(FRUITS_VEG), \"SUB_DEPARTMENT\"] = \"FRUITS_VEGETABLES\"\n",
    "products.loc[products[\"COMMODITY_DESC\"].isin(HISPANIC_FOOD), \"SUB_DEPARTMENT\"] = \"HISPANIC_FOOD\""
   ]
  },
  {
   "cell_type": "code",
   "execution_count": 318,
   "metadata": {},
   "outputs": [
    {
     "data": {
      "text/plain": [
       "array(['GROCERY', 'MISC. TRANS.', 'DRUGSTORE', 'KIOSK', 'HOUSEWARES',\n",
       "       'CLEANING_PROD', 'KIDS', 'BABY_CARE', 'PERSONAL_CARE', 'ECO',\n",
       "       'DELI', 'GARDEN_CENTER', 'ELECTRIC', 'COSMETICS', 'APPAREL',\n",
       "       'SEASONS', 'SPORTS_MISC', 'ELECTRONICS', 'SMOKING', 'FLORAL',\n",
       "       'HOME', 'TRAVEL & LEISUR', 'AUTOMOTIVE', 'MISCELLANEOUS',\n",
       "       'SALAD BAR', 'KIOSK-GAS', 'ELECT &PLUMBING', 'GRO BAKERY',\n",
       "       'GM MERCH EXP', 'COUP/STR & MFG', 'SPIRITS', 'GARDEN CENTER',\n",
       "       'TOYS', 'CHARITABLE CONT', 'RESTAURANT', 'RX', 'PROD-WHS SALES',\n",
       "       'CHEF SHOPPE', 'DELI/SNACK BAR', 'VIDEO RENTAL', ' ', 'PHOTO',\n",
       "       'VIDEO'], dtype=object)"
      ]
     },
     "execution_count": 318,
     "metadata": {},
     "output_type": "execute_result"
    }
   ],
   "source": [
    "products.DEPARTMENT.unique()"
   ]
  },
  {
   "cell_type": "code",
   "execution_count": 319,
   "metadata": {},
   "outputs": [
    {
     "data": {
      "text/plain": [
       "array(['FROZEN_GROCERY', 'MISC. TRANS.', 'BAKED', 'FRUITS_VEGETABLES',\n",
       "       'SNACKS', 'CONDIMENTS', 'DRUGSTORE', 'BREAKFAST', 'DAIRY', 'KIOSK',\n",
       "       'HOUSEWARES', 'DRINKS_JUICES', 'HISPANIC_FOOD',\n",
       "       'GRAINS_PASTA_SIDES', 'MEAT', 'SEAFOOD', 'CLEANING_PROD', 'KIDS',\n",
       "       'BABY_CARE', 'PERSONAL_CARE', 'ECO', 'DELI', 'GARDEN_CENTER',\n",
       "       'ELECTRIC', 'COSMETICS', 'APPAREL', 'PETS_SUPPLIES', 'SEASONS',\n",
       "       'SPORTS_MISC', 'LIQUOUR', 'ELECTRONICS', 'SMOKING', 'FLORAL',\n",
       "       'HOME', 'AUTOMOTIVE', 'MISCELLANEOUS', 'KIOSK-GAS',\n",
       "       'COUP/STR & MFG', 'GARDEN CENTER', 'TOYS', 'RESTAURANT', 'RX', ' '],\n",
       "      dtype=object)"
      ]
     },
     "execution_count": 319,
     "metadata": {},
     "output_type": "execute_result"
    }
   ],
   "source": [
    "products.SUB_DEPARTMENT.unique()"
   ]
  },
  {
   "cell_type": "markdown",
   "metadata": {},
   "source": [
    "### Dropping products that don't belong to any category"
   ]
  },
  {
   "cell_type": "code",
   "execution_count": 320,
   "metadata": {},
   "outputs": [],
   "source": [
    "products = products.drop(products[products['SUB_DEPARTMENT'] == \" \"].index)"
   ]
  },
  {
   "cell_type": "markdown",
   "metadata": {},
   "source": [
    "### Bundling under same category the \"leftover\" sub-departments"
   ]
  },
  {
   "cell_type": "code",
   "execution_count": 323,
   "metadata": {},
   "outputs": [],
   "source": [
    "OTHERS = [\"KIOSK-GAS\", \"RX\", \"TOYS\", \"COUP/STR & MFG\"]"
   ]
  },
  {
   "cell_type": "code",
   "execution_count": 332,
   "metadata": {},
   "outputs": [],
   "source": [
    "products.loc[products[\"SUB_DEPARTMENT\"].isin(OTHERS), \"SUB_DEPARTMENT\"] = \"OTHERS\"\n",
    "products.loc[products[\"SUB_DEPARTMENT\"].str.match(\"MISC. TRANS.\"), \"SUB_DEPARTMENT\"] = \"MISCELLANEOUS\""
   ]
  },
  {
   "cell_type": "code",
   "execution_count": 333,
   "metadata": {},
   "outputs": [
    {
     "data": {
      "text/plain": [
       "PERSONAL_CARE    6072\n",
       "MEAT             5370\n",
       "KIOSK            5216\n",
       "KIDS             5131\n",
       "DRINKS_JUICES    4648\n",
       "Name: SUB_DEPARTMENT, dtype: int64"
      ]
     },
     "execution_count": 333,
     "metadata": {},
     "output_type": "execute_result"
    }
   ],
   "source": [
    "products['SUB_DEPARTMENT'].value_counts().head()"
   ]
  },
  {
   "cell_type": "markdown",
   "metadata": {},
   "source": [
    "### Reordering the order of the columns"
   ]
  },
  {
   "cell_type": "code",
   "execution_count": 334,
   "metadata": {},
   "outputs": [],
   "source": [
    "products = products[['PRODUCT_ID', 'MANUFACTURER','BRAND','DEPARTMENT','SUB_DEPARTMENT', 'COMMODITY_DESC','SUB_COMMODITY_DESC']]"
   ]
  },
  {
   "cell_type": "markdown",
   "metadata": {},
   "source": [
    "### <font color='red'>Final table</font>"
   ]
  },
  {
   "cell_type": "code",
   "execution_count": 335,
   "metadata": {},
   "outputs": [
    {
     "data": {
      "text/html": [
       "<div>\n",
       "<style scoped>\n",
       "    .dataframe tbody tr th:only-of-type {\n",
       "        vertical-align: middle;\n",
       "    }\n",
       "\n",
       "    .dataframe tbody tr th {\n",
       "        vertical-align: top;\n",
       "    }\n",
       "\n",
       "    .dataframe thead th {\n",
       "        text-align: right;\n",
       "    }\n",
       "</style>\n",
       "<table border=\"1\" class=\"dataframe\">\n",
       "  <thead>\n",
       "    <tr style=\"text-align: right;\">\n",
       "      <th></th>\n",
       "      <th>PRODUCT_ID</th>\n",
       "      <th>MANUFACTURER</th>\n",
       "      <th>BRAND</th>\n",
       "      <th>DEPARTMENT</th>\n",
       "      <th>SUB_DEPARTMENT</th>\n",
       "      <th>COMMODITY_DESC</th>\n",
       "      <th>SUB_COMMODITY_DESC</th>\n",
       "    </tr>\n",
       "  </thead>\n",
       "  <tbody>\n",
       "    <tr>\n",
       "      <th>0</th>\n",
       "      <td>25671</td>\n",
       "      <td>2</td>\n",
       "      <td>National</td>\n",
       "      <td>GROCERY</td>\n",
       "      <td>FROZEN_GROCERY</td>\n",
       "      <td>FRZN ICE</td>\n",
       "      <td>ICE - CRUSHED/CUBED</td>\n",
       "    </tr>\n",
       "    <tr>\n",
       "      <th>1</th>\n",
       "      <td>26081</td>\n",
       "      <td>2</td>\n",
       "      <td>National</td>\n",
       "      <td>MISC. TRANS.</td>\n",
       "      <td>MISCELLANEOUS</td>\n",
       "      <td>NO COMMODITY DESCRIPTION</td>\n",
       "      <td>NO SUBCOMMODITY DESCRIPTION</td>\n",
       "    </tr>\n",
       "    <tr>\n",
       "      <th>2</th>\n",
       "      <td>26093</td>\n",
       "      <td>69</td>\n",
       "      <td>Private</td>\n",
       "      <td>GROCERY</td>\n",
       "      <td>BAKED</td>\n",
       "      <td>BREAD</td>\n",
       "      <td>BREAD:ITALIAN/FRENCH</td>\n",
       "    </tr>\n",
       "    <tr>\n",
       "      <th>3</th>\n",
       "      <td>26190</td>\n",
       "      <td>69</td>\n",
       "      <td>Private</td>\n",
       "      <td>GROCERY</td>\n",
       "      <td>FRUITS_VEGETABLES</td>\n",
       "      <td>FRUIT - SHELF STABLE</td>\n",
       "      <td>APPLE SAUCE</td>\n",
       "    </tr>\n",
       "    <tr>\n",
       "      <th>4</th>\n",
       "      <td>26355</td>\n",
       "      <td>69</td>\n",
       "      <td>Private</td>\n",
       "      <td>GROCERY</td>\n",
       "      <td>SNACKS</td>\n",
       "      <td>COOKIES/CONES</td>\n",
       "      <td>SPECIALTY COOKIES</td>\n",
       "    </tr>\n",
       "  </tbody>\n",
       "</table>\n",
       "</div>"
      ],
      "text/plain": [
       "   PRODUCT_ID  MANUFACTURER     BRAND    DEPARTMENT     SUB_DEPARTMENT  \\\n",
       "0       25671             2  National       GROCERY     FROZEN_GROCERY   \n",
       "1       26081             2  National  MISC. TRANS.      MISCELLANEOUS   \n",
       "2       26093            69   Private       GROCERY              BAKED   \n",
       "3       26190            69   Private       GROCERY  FRUITS_VEGETABLES   \n",
       "4       26355            69   Private       GROCERY             SNACKS   \n",
       "\n",
       "             COMMODITY_DESC           SUB_COMMODITY_DESC  \n",
       "0                  FRZN ICE          ICE - CRUSHED/CUBED  \n",
       "1  NO COMMODITY DESCRIPTION  NO SUBCOMMODITY DESCRIPTION  \n",
       "2                     BREAD         BREAD:ITALIAN/FRENCH  \n",
       "3      FRUIT - SHELF STABLE                  APPLE SAUCE  \n",
       "4             COOKIES/CONES            SPECIALTY COOKIES  "
      ]
     },
     "execution_count": 335,
     "metadata": {},
     "output_type": "execute_result"
    }
   ],
   "source": [
    "products.head()"
   ]
  },
  {
   "cell_type": "code",
   "execution_count": 336,
   "metadata": {},
   "outputs": [],
   "source": [
    "products.to_csv(\"../../data_final_project/products_data.csv\", index= False)"
   ]
  },
  {
   "cell_type": "markdown",
   "metadata": {},
   "source": [
    "### Uploading the datasets into the database "
   ]
  },
  {
   "cell_type": "code",
   "execution_count": 1092,
   "metadata": {},
   "outputs": [],
   "source": [
    "campaign_table.to_sql('campaign_table',engine, index=False)"
   ]
  },
  {
   "cell_type": "code",
   "execution_count": 1093,
   "metadata": {},
   "outputs": [],
   "source": [
    "campaign_desc.to_sql('campaign_desc',engine, index=False)"
   ]
  },
  {
   "cell_type": "code",
   "execution_count": 1094,
   "metadata": {},
   "outputs": [],
   "source": [
    "products.to_sql('products',engine, index=False)"
   ]
  },
  {
   "cell_type": "code",
   "execution_count": 1095,
   "metadata": {},
   "outputs": [],
   "source": [
    "demo.to_sql('demographics',engine, index=False)"
   ]
  },
  {
   "cell_type": "code",
   "execution_count": 1096,
   "metadata": {},
   "outputs": [],
   "source": [
    "coupon.to_sql('coupon',engine, index=False)"
   ]
  },
  {
   "cell_type": "code",
   "execution_count": 1097,
   "metadata": {},
   "outputs": [],
   "source": [
    "coupon_redempt.to_sql('coupon_redempt',engine, index=False)"
   ]
  },
  {
   "cell_type": "code",
   "execution_count": null,
   "metadata": {},
   "outputs": [],
   "source": [
    "causal.to_sql('causal_data',engine, index=False)"
   ]
  }
 ],
 "metadata": {
  "kernelspec": {
   "display_name": "Python 3",
   "language": "python",
   "name": "python3"
  },
  "language_info": {
   "codemirror_mode": {
    "name": "ipython",
    "version": 3
   },
   "file_extension": ".py",
   "mimetype": "text/x-python",
   "name": "python",
   "nbconvert_exporter": "python",
   "pygments_lexer": "ipython3",
   "version": "3.7.3"
  }
 },
 "nbformat": 4,
 "nbformat_minor": 2
}
