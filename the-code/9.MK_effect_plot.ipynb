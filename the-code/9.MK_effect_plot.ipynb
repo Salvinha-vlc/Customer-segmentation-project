{
 "cells": [
  {
   "cell_type": "markdown",
   "metadata": {},
   "source": [
    "## Marketing effects \n",
    "\n",
    "In this notebook, we wanted to visualize the average effects of the marketing campaigns in terms of expenditures when a customer is part of a campaign as to compared to when it is not part of it."
   ]
  },
  {
   "cell_type": "markdown",
   "metadata": {},
   "source": [
    "### Importing the relevant libraries and datasets"
   ]
  },
  {
   "cell_type": "code",
   "execution_count": 2,
   "metadata": {},
   "outputs": [],
   "source": [
    "import pandas as pd\n",
    "import numpy as np\n",
    "import seaborn as sns\n",
    "import matplotlib.pyplot as plt"
   ]
  },
  {
   "cell_type": "code",
   "execution_count": 3,
   "metadata": {},
   "outputs": [],
   "source": [
    "avg_spend_trips = pd.read_csv('../../data_final_project/avg_spend_trips.csv')"
   ]
  },
  {
   "cell_type": "code",
   "execution_count": 4,
   "metadata": {},
   "outputs": [
    {
     "data": {
      "text/html": [
       "<div>\n",
       "<style scoped>\n",
       "    .dataframe tbody tr th:only-of-type {\n",
       "        vertical-align: middle;\n",
       "    }\n",
       "\n",
       "    .dataframe tbody tr th {\n",
       "        vertical-align: top;\n",
       "    }\n",
       "\n",
       "    .dataframe thead th {\n",
       "        text-align: right;\n",
       "    }\n",
       "</style>\n",
       "<table border=\"1\" class=\"dataframe\">\n",
       "  <thead>\n",
       "    <tr style=\"text-align: right;\">\n",
       "      <th></th>\n",
       "      <th>HOUSEHOLD_KEY</th>\n",
       "      <th>cluster</th>\n",
       "      <th>avg_trips_not_in</th>\n",
       "      <th>avg_spend_not_in</th>\n",
       "      <th>avg_trips_in</th>\n",
       "      <th>avg_spend_in</th>\n",
       "      <th>campaigns</th>\n",
       "      <th>sensitivity_mk</th>\n",
       "    </tr>\n",
       "  </thead>\n",
       "  <tbody>\n",
       "    <tr>\n",
       "      <th>0</th>\n",
       "      <td>1</td>\n",
       "      <td>3</td>\n",
       "      <td>0.6484</td>\n",
       "      <td>35.572818</td>\n",
       "      <td>0.9233</td>\n",
       "      <td>45.402034</td>\n",
       "      <td>8</td>\n",
       "      <td>0.276313</td>\n",
       "    </tr>\n",
       "    <tr>\n",
       "      <th>1</th>\n",
       "      <td>7</td>\n",
       "      <td>2</td>\n",
       "      <td>0.4348</td>\n",
       "      <td>23.534944</td>\n",
       "      <td>0.7637</td>\n",
       "      <td>46.265632</td>\n",
       "      <td>4</td>\n",
       "      <td>0.965827</td>\n",
       "    </tr>\n",
       "    <tr>\n",
       "      <th>2</th>\n",
       "      <td>20</td>\n",
       "      <td>2</td>\n",
       "      <td>2.6011</td>\n",
       "      <td>49.620914</td>\n",
       "      <td>4.9257</td>\n",
       "      <td>98.995329</td>\n",
       "      <td>7</td>\n",
       "      <td>0.995032</td>\n",
       "    </tr>\n",
       "    <tr>\n",
       "      <th>3</th>\n",
       "      <td>25</td>\n",
       "      <td>2</td>\n",
       "      <td>0.7158</td>\n",
       "      <td>24.433189</td>\n",
       "      <td>1.0535</td>\n",
       "      <td>34.944387</td>\n",
       "      <td>4</td>\n",
       "      <td>0.430202</td>\n",
       "    </tr>\n",
       "    <tr>\n",
       "      <th>4</th>\n",
       "      <td>27</td>\n",
       "      <td>4</td>\n",
       "      <td>1.3438</td>\n",
       "      <td>8.926562</td>\n",
       "      <td>5.0278</td>\n",
       "      <td>75.702639</td>\n",
       "      <td>7</td>\n",
       "      <td>7.480604</td>\n",
       "    </tr>\n",
       "  </tbody>\n",
       "</table>\n",
       "</div>"
      ],
      "text/plain": [
       "   HOUSEHOLD_KEY  cluster  avg_trips_not_in  avg_spend_not_in  avg_trips_in  \\\n",
       "0              1        3            0.6484         35.572818        0.9233   \n",
       "1              7        2            0.4348         23.534944        0.7637   \n",
       "2             20        2            2.6011         49.620914        4.9257   \n",
       "3             25        2            0.7158         24.433189        1.0535   \n",
       "4             27        4            1.3438          8.926562        5.0278   \n",
       "\n",
       "   avg_spend_in  campaigns  sensitivity_mk  \n",
       "0     45.402034          8        0.276313  \n",
       "1     46.265632          4        0.965827  \n",
       "2     98.995329          7        0.995032  \n",
       "3     34.944387          4        0.430202  \n",
       "4     75.702639          7        7.480604  "
      ]
     },
     "execution_count": 4,
     "metadata": {},
     "output_type": "execute_result"
    }
   ],
   "source": [
    "avg_spend_trips.head()"
   ]
  },
  {
   "cell_type": "markdown",
   "metadata": {},
   "source": [
    "### Slicing the relevant viriables for the analysis,\n",
    "\n",
    "As we are comparing average expenditures of a household when they are part of a marketing campaign and when they are not, we only need their averages expenditures in both cases."
   ]
  },
  {
   "cell_type": "code",
   "execution_count": 9,
   "metadata": {},
   "outputs": [],
   "source": [
    "avg_spend = avg_spend_trips.loc[:,['HOUSEHOLD_KEY','avg_spend_not_in','avg_spend_in']]"
   ]
  },
  {
   "cell_type": "code",
   "execution_count": 10,
   "metadata": {},
   "outputs": [],
   "source": [
    "avg_spend.index = np.arange(1, len(avg_spend) + 1)"
   ]
  },
  {
   "cell_type": "code",
   "execution_count": 11,
   "metadata": {},
   "outputs": [],
   "source": [
    "avg_spend.reset_index(drop=False, inplace=True)"
   ]
  },
  {
   "cell_type": "code",
   "execution_count": 12,
   "metadata": {},
   "outputs": [],
   "source": [
    "avg_spend.rename(columns = {'index': 'Day'}, inplace=True)"
   ]
  },
  {
   "cell_type": "code",
   "execution_count": 13,
   "metadata": {},
   "outputs": [
    {
     "data": {
      "text/html": [
       "<div>\n",
       "<style scoped>\n",
       "    .dataframe tbody tr th:only-of-type {\n",
       "        vertical-align: middle;\n",
       "    }\n",
       "\n",
       "    .dataframe tbody tr th {\n",
       "        vertical-align: top;\n",
       "    }\n",
       "\n",
       "    .dataframe thead th {\n",
       "        text-align: right;\n",
       "    }\n",
       "</style>\n",
       "<table border=\"1\" class=\"dataframe\">\n",
       "  <thead>\n",
       "    <tr style=\"text-align: right;\">\n",
       "      <th></th>\n",
       "      <th>Day</th>\n",
       "      <th>HOUSEHOLD_KEY</th>\n",
       "      <th>avg_spend_not_in</th>\n",
       "      <th>avg_spend_in</th>\n",
       "    </tr>\n",
       "  </thead>\n",
       "  <tbody>\n",
       "    <tr>\n",
       "      <th>0</th>\n",
       "      <td>1</td>\n",
       "      <td>1</td>\n",
       "      <td>35.572818</td>\n",
       "      <td>45.402034</td>\n",
       "    </tr>\n",
       "    <tr>\n",
       "      <th>1</th>\n",
       "      <td>2</td>\n",
       "      <td>7</td>\n",
       "      <td>23.534944</td>\n",
       "      <td>46.265632</td>\n",
       "    </tr>\n",
       "    <tr>\n",
       "      <th>2</th>\n",
       "      <td>3</td>\n",
       "      <td>20</td>\n",
       "      <td>49.620914</td>\n",
       "      <td>98.995329</td>\n",
       "    </tr>\n",
       "    <tr>\n",
       "      <th>3</th>\n",
       "      <td>4</td>\n",
       "      <td>25</td>\n",
       "      <td>24.433189</td>\n",
       "      <td>34.944387</td>\n",
       "    </tr>\n",
       "    <tr>\n",
       "      <th>4</th>\n",
       "      <td>5</td>\n",
       "      <td>27</td>\n",
       "      <td>8.926562</td>\n",
       "      <td>75.702639</td>\n",
       "    </tr>\n",
       "  </tbody>\n",
       "</table>\n",
       "</div>"
      ],
      "text/plain": [
       "   Day  HOUSEHOLD_KEY  avg_spend_not_in  avg_spend_in\n",
       "0    1              1         35.572818     45.402034\n",
       "1    2              7         23.534944     46.265632\n",
       "2    3             20         49.620914     98.995329\n",
       "3    4             25         24.433189     34.944387\n",
       "4    5             27          8.926562     75.702639"
      ]
     },
     "execution_count": 13,
     "metadata": {},
     "output_type": "execute_result"
    }
   ],
   "source": [
    "avg_spend.head()"
   ]
  },
  {
   "cell_type": "markdown",
   "metadata": {},
   "source": [
    "### In terms of presenting the insights, we wanted to visually represent a sample of the data"
   ]
  },
  {
   "cell_type": "code",
   "execution_count": 21,
   "metadata": {},
   "outputs": [],
   "source": [
    "avg_spend_in_campaigns = avg_spend[avg_spend['Day'] > 200]"
   ]
  },
  {
   "cell_type": "code",
   "execution_count": 22,
   "metadata": {},
   "outputs": [
    {
     "data": {
      "text/html": [
       "<div>\n",
       "<style scoped>\n",
       "    .dataframe tbody tr th:only-of-type {\n",
       "        vertical-align: middle;\n",
       "    }\n",
       "\n",
       "    .dataframe tbody tr th {\n",
       "        vertical-align: top;\n",
       "    }\n",
       "\n",
       "    .dataframe thead th {\n",
       "        text-align: right;\n",
       "    }\n",
       "</style>\n",
       "<table border=\"1\" class=\"dataframe\">\n",
       "  <thead>\n",
       "    <tr style=\"text-align: right;\">\n",
       "      <th></th>\n",
       "      <th>Day</th>\n",
       "      <th>HOUSEHOLD_KEY</th>\n",
       "      <th>avg_spend_not_in</th>\n",
       "      <th>avg_spend_in</th>\n",
       "    </tr>\n",
       "  </thead>\n",
       "  <tbody>\n",
       "    <tr>\n",
       "      <th>200</th>\n",
       "      <td>201</td>\n",
       "      <td>1226</td>\n",
       "      <td>46.110357</td>\n",
       "      <td>78.083370</td>\n",
       "    </tr>\n",
       "    <tr>\n",
       "      <th>201</th>\n",
       "      <td>202</td>\n",
       "      <td>1234</td>\n",
       "      <td>34.966085</td>\n",
       "      <td>64.877778</td>\n",
       "    </tr>\n",
       "    <tr>\n",
       "      <th>202</th>\n",
       "      <td>203</td>\n",
       "      <td>1236</td>\n",
       "      <td>47.644143</td>\n",
       "      <td>26.314191</td>\n",
       "    </tr>\n",
       "    <tr>\n",
       "      <th>203</th>\n",
       "      <td>204</td>\n",
       "      <td>1247</td>\n",
       "      <td>44.746633</td>\n",
       "      <td>75.753365</td>\n",
       "    </tr>\n",
       "    <tr>\n",
       "      <th>204</th>\n",
       "      <td>205</td>\n",
       "      <td>1263</td>\n",
       "      <td>41.550000</td>\n",
       "      <td>54.553333</td>\n",
       "    </tr>\n",
       "  </tbody>\n",
       "</table>\n",
       "</div>"
      ],
      "text/plain": [
       "     Day  HOUSEHOLD_KEY  avg_spend_not_in  avg_spend_in\n",
       "200  201           1226         46.110357     78.083370\n",
       "201  202           1234         34.966085     64.877778\n",
       "202  203           1236         47.644143     26.314191\n",
       "203  204           1247         44.746633     75.753365\n",
       "204  205           1263         41.550000     54.553333"
      ]
     },
     "execution_count": 22,
     "metadata": {},
     "output_type": "execute_result"
    }
   ],
   "source": [
    "avg_spend_in_campaigns.head()"
   ]
  },
  {
   "cell_type": "code",
   "execution_count": 23,
   "metadata": {},
   "outputs": [
    {
     "data": {
      "text/plain": [
       "<matplotlib.axes._subplots.AxesSubplot at 0x108703860>"
      ]
     },
     "execution_count": 23,
     "metadata": {},
     "output_type": "execute_result"
    },
    {
     "data": {
      "image/png": "[encoded data removed]",
      "text/plain": [
       "<Figure size 576x576 with 1 Axes>"
      ]
     },
     "metadata": {
      "needs_background": "light"
     },
     "output_type": "display_data"
    }
   ],
   "source": [
    "plt.figure(figsize=(8,8))\n",
    "\n",
    "plt.suptitle('Avg expenditure \\n in and off mk campaigns', fontsize=20)\n",
    "sns.regplot('Day', 'avg_spend_not_in', data=avg_spend_in_campaigns)\n",
    "sns.regplot('Day', 'avg_spend_in', data=avg_spend_in_campaigns, color='r')\n",
    "# \"r\" as for color red which represents the expenditure from customers that were buying products subject object of\n",
    "# a mk campaign at that particular time."
   ]
  },
  {
   "cell_type": "markdown",
   "metadata": {},
   "source": [
    "#### Comments:\n",
    "\n"
   ]
  },
  {
   "cell_type": "markdown",
   "metadata": {},
   "source": [
    "The graph above shows that on average the expenditure of customers whenever they where buying products object of a mk campaign, was higher. Note that a particular customer can carry out a purchase that belong either to the group represented by color red or to the one represented by the color blue, and that is because the non-customized mk campaigns were rotating the products that were part of them. Besides the customers that were eligible for the campaigns were also rotating and changing the specific mk campaigns they were offered."
   ]
  },
  {
   "cell_type": "markdown",
   "metadata": {},
   "source": [
    "#### Repeating it for a larger time window"
   ]
  },
  {
   "cell_type": "code",
   "execution_count": 60,
   "metadata": {},
   "outputs": [],
   "source": [
    "avg_in_mk = pd.read_csv(\"../../data_final_project/avg_after_mk.csv\")"
   ]
  },
  {
   "cell_type": "code",
   "execution_count": 61,
   "metadata": {},
   "outputs": [],
   "source": [
    "avg_off_mk = pd.read_csv(\"../../data_final_project/avg_before_mk.csv\")"
   ]
  },
  {
   "cell_type": "code",
   "execution_count": 62,
   "metadata": {},
   "outputs": [],
   "source": [
    "avg_off_mk = avg_off_mk.reset_index(drop=False).rename(columns={'index': 'Day'})"
   ]
  },
  {
   "cell_type": "code",
   "execution_count": 63,
   "metadata": {},
   "outputs": [],
   "source": [
    "avg_in_mk = avg_in_mk.reset_index(drop=False).rename(columns={'index': 'Day'})"
   ]
  },
  {
   "cell_type": "code",
   "execution_count": 64,
   "metadata": {
    "scrolled": true
   },
   "outputs": [
    {
     "data": {
      "text/html": [
       "<div>\n",
       "<style scoped>\n",
       "    .dataframe tbody tr th:only-of-type {\n",
       "        vertical-align: middle;\n",
       "    }\n",
       "\n",
       "    .dataframe tbody tr th {\n",
       "        vertical-align: top;\n",
       "    }\n",
       "\n",
       "    .dataframe thead th {\n",
       "        text-align: right;\n",
       "    }\n",
       "</style>\n",
       "<table border=\"1\" class=\"dataframe\">\n",
       "  <thead>\n",
       "    <tr style=\"text-align: right;\">\n",
       "      <th></th>\n",
       "      <th>Day</th>\n",
       "      <th>household_key</th>\n",
       "      <th>avg_trips</th>\n",
       "      <th>avg_spend</th>\n",
       "      <th>campaigns</th>\n",
       "    </tr>\n",
       "  </thead>\n",
       "  <tbody>\n",
       "    <tr>\n",
       "      <th>0</th>\n",
       "      <td>0</td>\n",
       "      <td>1</td>\n",
       "      <td>0.9233</td>\n",
       "      <td>45.402034</td>\n",
       "      <td>8</td>\n",
       "    </tr>\n",
       "    <tr>\n",
       "      <th>1</th>\n",
       "      <td>1</td>\n",
       "      <td>2</td>\n",
       "      <td>0.2985</td>\n",
       "      <td>16.554726</td>\n",
       "      <td>1</td>\n",
       "    </tr>\n",
       "    <tr>\n",
       "      <th>2</th>\n",
       "      <td>2</td>\n",
       "      <td>3</td>\n",
       "      <td>0.3104</td>\n",
       "      <td>10.918182</td>\n",
       "      <td>3</td>\n",
       "    </tr>\n",
       "    <tr>\n",
       "      <th>3</th>\n",
       "      <td>3</td>\n",
       "      <td>4</td>\n",
       "      <td>0.1552</td>\n",
       "      <td>4.654767</td>\n",
       "      <td>1</td>\n",
       "    </tr>\n",
       "    <tr>\n",
       "      <th>4</th>\n",
       "      <td>4</td>\n",
       "      <td>6</td>\n",
       "      <td>2.7601</td>\n",
       "      <td>58.187473</td>\n",
       "      <td>4</td>\n",
       "    </tr>\n",
       "  </tbody>\n",
       "</table>\n",
       "</div>"
      ],
      "text/plain": [
       "   Day  household_key  avg_trips  avg_spend  campaigns\n",
       "0    0              1     0.9233  45.402034          8\n",
       "1    1              2     0.2985  16.554726          1\n",
       "2    2              3     0.3104  10.918182          3\n",
       "3    3              4     0.1552   4.654767          1\n",
       "4    4              6     2.7601  58.187473          4"
      ]
     },
     "execution_count": 64,
     "metadata": {},
     "output_type": "execute_result"
    }
   ],
   "source": [
    "avg_in_mk.head()"
   ]
  },
  {
   "cell_type": "code",
   "execution_count": 65,
   "metadata": {},
   "outputs": [],
   "source": [
    "avg_off_mk = avg_off_mk[np.logical_and(avg_off_mk['Day']<500, avg_off_mk['Day']>200)]"
   ]
  },
  {
   "cell_type": "code",
   "execution_count": 66,
   "metadata": {},
   "outputs": [
    {
     "data": {
      "text/html": [
       "<div>\n",
       "<style scoped>\n",
       "    .dataframe tbody tr th:only-of-type {\n",
       "        vertical-align: middle;\n",
       "    }\n",
       "\n",
       "    .dataframe tbody tr th {\n",
       "        vertical-align: top;\n",
       "    }\n",
       "\n",
       "    .dataframe thead th {\n",
       "        text-align: right;\n",
       "    }\n",
       "</style>\n",
       "<table border=\"1\" class=\"dataframe\">\n",
       "  <thead>\n",
       "    <tr style=\"text-align: right;\">\n",
       "      <th></th>\n",
       "      <th>Day</th>\n",
       "      <th>household_key</th>\n",
       "      <th>avg_trips</th>\n",
       "      <th>avg_spend</th>\n",
       "    </tr>\n",
       "  </thead>\n",
       "  <tbody>\n",
       "    <tr>\n",
       "      <th>201</th>\n",
       "      <td>201</td>\n",
       "      <td>317</td>\n",
       "      <td>0.6074</td>\n",
       "      <td>53.660738</td>\n",
       "    </tr>\n",
       "    <tr>\n",
       "      <th>202</th>\n",
       "      <td>202</td>\n",
       "      <td>318</td>\n",
       "      <td>0.8243</td>\n",
       "      <td>11.501302</td>\n",
       "    </tr>\n",
       "    <tr>\n",
       "      <th>203</th>\n",
       "      <td>203</td>\n",
       "      <td>319</td>\n",
       "      <td>1.2500</td>\n",
       "      <td>36.490313</td>\n",
       "    </tr>\n",
       "    <tr>\n",
       "      <th>204</th>\n",
       "      <td>204</td>\n",
       "      <td>321</td>\n",
       "      <td>0.9981</td>\n",
       "      <td>57.627684</td>\n",
       "    </tr>\n",
       "    <tr>\n",
       "      <th>205</th>\n",
       "      <td>205</td>\n",
       "      <td>322</td>\n",
       "      <td>0.6961</td>\n",
       "      <td>26.811715</td>\n",
       "    </tr>\n",
       "  </tbody>\n",
       "</table>\n",
       "</div>"
      ],
      "text/plain": [
       "     Day  household_key  avg_trips  avg_spend\n",
       "201  201            317     0.6074  53.660738\n",
       "202  202            318     0.8243  11.501302\n",
       "203  203            319     1.2500  36.490313\n",
       "204  204            321     0.9981  57.627684\n",
       "205  205            322     0.6961  26.811715"
      ]
     },
     "execution_count": 66,
     "metadata": {},
     "output_type": "execute_result"
    }
   ],
   "source": [
    "avg_off_mk.head()"
   ]
  },
  {
   "cell_type": "code",
   "execution_count": 67,
   "metadata": {},
   "outputs": [],
   "source": [
    "avg_in_mk = avg_in_mk[np.logical_and(avg_in_mk['Day']<500, avg_in_mk['Day']>200)]"
   ]
  },
  {
   "cell_type": "code",
   "execution_count": 68,
   "metadata": {},
   "outputs": [
    {
     "data": {
      "text/plain": [
       "<matplotlib.axes._subplots.AxesSubplot at 0x1a1d5549e8>"
      ]
     },
     "execution_count": 68,
     "metadata": {},
     "output_type": "execute_result"
    },
    {
     "data": {
      "image/png": "[encoded data removed]",
      "text/plain": [
       "<Figure size 1080x576 with 1 Axes>"
      ]
     },
     "metadata": {
      "needs_background": "light"
     },
     "output_type": "display_data"
    }
   ],
   "source": [
    "plt.figure(figsize=(15,8))\n",
    "\n",
    "plt.suptitle('Avg expenditure \\n in and off mk campaigns', fontsize=20)\n",
    "sns.regplot('Day', 'avg_spend', data=avg_in_mk, color='r')\n",
    "sns.regplot('Day', 'avg_spend', data=avg_off_mk, color='b')"
   ]
  }
 ],
 "metadata": {
  "kernelspec": {
   "display_name": "Python 3",
   "language": "python",
   "name": "python3"
  },
  "language_info": {
   "codemirror_mode": {
    "name": "ipython",
    "version": 3
   },
   "file_extension": ".py",
   "mimetype": "text/x-python",
   "name": "python",
   "nbconvert_exporter": "python",
   "pygments_lexer": "ipython3",
   "version": "3.7.3"
  }
 },
 "nbformat": 4,
 "nbformat_minor": 2
}
