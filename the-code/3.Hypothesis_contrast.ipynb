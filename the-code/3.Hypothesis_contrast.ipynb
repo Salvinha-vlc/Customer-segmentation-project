{
 "cells": [
  {
   "cell_type": "code",
   "execution_count": 1,
   "metadata": {},
   "outputs": [],
   "source": [
    "import pandas as pd\n",
    "pd.set_option('display.max_columns', 50)\n",
    "import numpy as np\n",
    "import matplotlib.pyplot as plt\n",
    "import seaborn as sns\n",
    "from sqlalchemy import create_engine\n",
    "import scipy\n",
    "from scipy import stats\n",
    "import math as m"
   ]
  },
  {
   "cell_type": "markdown",
   "metadata": {},
   "source": [
    "### Importing the table mk_effect.\n",
    "\n",
    "This dataset contains the differences in average expenditures when a customer in part of a marketing campaign and when he is not. The purpose of this table is to do a Hypothesis contrast to see if there is any evidence to suggest that in fact customers are spending and visiting more when they are offered with a promotion, mailing, etc.\n",
    "\n",
    "- H0: There is no differences in avg number of trips and avg expenditures when applying maketing campaigns. \n",
    "- HA: There is differences in avg number of trips and avg expenditures when the supermarket performs marketing campaigns."
   ]
  },
  {
   "cell_type": "code",
   "execution_count": 2,
   "metadata": {},
   "outputs": [],
   "source": [
    "mk_effect = pd.read_csv(\"../../data_final_project/mk_effect.csv\")"
   ]
  },
  {
   "cell_type": "code",
   "execution_count": 3,
   "metadata": {},
   "outputs": [
    {
     "data": {
      "text/html": [
       "<div>\n",
       "<style scoped>\n",
       "    .dataframe tbody tr th:only-of-type {\n",
       "        vertical-align: middle;\n",
       "    }\n",
       "\n",
       "    .dataframe tbody tr th {\n",
       "        vertical-align: top;\n",
       "    }\n",
       "\n",
       "    .dataframe thead th {\n",
       "        text-align: right;\n",
       "    }\n",
       "</style>\n",
       "<table border=\"1\" class=\"dataframe\">\n",
       "  <thead>\n",
       "    <tr style=\"text-align: right;\">\n",
       "      <th></th>\n",
       "      <th>household_key</th>\n",
       "      <th>diff_avg_trips</th>\n",
       "      <th>diff_avg_spend</th>\n",
       "      <th>campaigns</th>\n",
       "    </tr>\n",
       "  </thead>\n",
       "  <tbody>\n",
       "    <tr>\n",
       "      <th>0</th>\n",
       "      <td>1</td>\n",
       "      <td>0.2749</td>\n",
       "      <td>9.829216</td>\n",
       "      <td>8</td>\n",
       "    </tr>\n",
       "    <tr>\n",
       "      <th>1</th>\n",
       "      <td>2</td>\n",
       "      <td>-0.1663</td>\n",
       "      <td>-2.743128</td>\n",
       "      <td>1</td>\n",
       "    </tr>\n",
       "    <tr>\n",
       "      <th>2</th>\n",
       "      <td>3</td>\n",
       "      <td>-0.2499</td>\n",
       "      <td>-25.708983</td>\n",
       "      <td>3</td>\n",
       "    </tr>\n",
       "    <tr>\n",
       "      <th>3</th>\n",
       "      <td>4</td>\n",
       "      <td>-0.2353</td>\n",
       "      <td>-12.156438</td>\n",
       "      <td>1</td>\n",
       "    </tr>\n",
       "    <tr>\n",
       "      <th>4</th>\n",
       "      <td>6</td>\n",
       "      <td>0.6687</td>\n",
       "      <td>0.972535</td>\n",
       "      <td>4</td>\n",
       "    </tr>\n",
       "  </tbody>\n",
       "</table>\n",
       "</div>"
      ],
      "text/plain": [
       "   household_key  diff_avg_trips  diff_avg_spend  campaigns\n",
       "0              1          0.2749        9.829216          8\n",
       "1              2         -0.1663       -2.743128          1\n",
       "2              3         -0.2499      -25.708983          3\n",
       "3              4         -0.2353      -12.156438          1\n",
       "4              6          0.6687        0.972535          4"
      ]
     },
     "execution_count": 3,
     "metadata": {},
     "output_type": "execute_result"
    }
   ],
   "source": [
    "mk_effect.head()"
   ]
  },
  {
   "cell_type": "code",
   "execution_count": 4,
   "metadata": {},
   "outputs": [
    {
     "data": {
      "text/plain": [
       "(1581, 4)"
      ]
     },
     "execution_count": 4,
     "metadata": {},
     "output_type": "execute_result"
    }
   ],
   "source": [
    "mk_effect.shape"
   ]
  },
  {
   "cell_type": "markdown",
   "metadata": {},
   "source": [
    "### Selecting the columns of interest to perfom the analysis.\n",
    "\n",
    "- Difference in average trips or visits.\n",
    "- Differences in average expenditures."
   ]
  },
  {
   "cell_type": "code",
   "execution_count": 5,
   "metadata": {},
   "outputs": [],
   "source": [
    "diff_avg_trips = list(mk_effect[\"diff_avg_trips\"])\n",
    "diff_avg_spend = list(mk_effect[\"diff_avg_spend\"])"
   ]
  },
  {
   "cell_type": "markdown",
   "metadata": {},
   "source": [
    "### Performing the confidence interval analysis on average trips."
   ]
  },
  {
   "cell_type": "code",
   "execution_count": 6,
   "metadata": {},
   "outputs": [
    {
     "name": "stdout",
     "output_type": "stream",
     "text": [
      "We are 95% confident that the population mean lies between (0.10223519158681858, 0.1914246439603035)\n"
     ]
    }
   ],
   "source": [
    "n=len(diff_avg_trips)\n",
    "ci = 0.95 \n",
    "sample_std = np.std(diff_avg_trips)\n",
    "quasi_std = sample_std*(m.sqrt(n/(n-1)))\n",
    "sample_meam = np.mean(diff_avg_trips)\n",
    "\n",
    "scipy.stats.t.interval(ci, n-1, loc=sample_meam, scale=quasi_std/m.sqrt(n))\n",
    "\n",
    "print(f\"We are 95% confident that the population mean lies between \\\n",
    "{scipy.stats.t.interval(ci, n-1, loc=sample_meam, scale=quasi_std/m.sqrt(n))}\")"
   ]
  },
  {
   "cell_type": "markdown",
   "metadata": {},
   "source": [
    "### Performing the confidence interval analysis on average expenditures. "
   ]
  },
  {
   "cell_type": "code",
   "execution_count": 7,
   "metadata": {},
   "outputs": [
    {
     "name": "stdout",
     "output_type": "stream",
     "text": [
      "We are 95% confident that the population mean lies between (5.673286683987849, 8.06836434812643)\n"
     ]
    }
   ],
   "source": [
    "n=len(diff_avg_spend)\n",
    "ci = 0.95 \n",
    "sample_std = np.std(diff_avg_spend)\n",
    "quasi_std = sample_std*(m.sqrt(n/(n-1)))\n",
    "sample_meam = np.mean(diff_avg_spend)\n",
    "\n",
    "scipy.stats.t.interval(ci, n-1, loc=sample_meam, scale=quasi_std/m.sqrt(n))\n",
    "\n",
    "print(f\"We are 95% confident that the population mean lies between \\\n",
    "{scipy.stats.t.interval(ci, n-1, loc=sample_meam, scale=quasi_std/m.sqrt(n))}\")"
   ]
  },
  {
   "cell_type": "markdown",
   "metadata": {},
   "source": [
    "#### Comments on the results:\n",
    "\n",
    "In both cases, we can see that in 95% of the cases, the confidence intervals  do not include the 0. Based on this results, we can claim that there is statistical evidence to suggest that there is actually a differences when customers are offered a marketing campaign and when they are not. This step gives us evidence that in fact marketing efforts are effective in making the customers spend more and visiting more the supermarket."
   ]
  },
  {
   "cell_type": "markdown",
   "metadata": {},
   "source": [
    "## Getting the coefficient of variation to actual measure the effect in expenditures when customers are part of a campaign and when they are not. "
   ]
  },
  {
   "cell_type": "code",
   "execution_count": 12,
   "metadata": {},
   "outputs": [],
   "source": [
    "avg_in_mk = pd.read_csv(\"../../data_final_project/avg_after_mk.csv\")"
   ]
  },
  {
   "cell_type": "code",
   "execution_count": 13,
   "metadata": {},
   "outputs": [],
   "source": [
    "avg_off_mk = pd.read_csv(\"../../data_final_project/avg_before_mk.csv\")"
   ]
  },
  {
   "cell_type": "markdown",
   "metadata": {},
   "source": [
    "### Calculating the average expenditure when a customer is not part of a marketing campaign."
   ]
  },
  {
   "cell_type": "code",
   "execution_count": 15,
   "metadata": {},
   "outputs": [
    {
     "data": {
      "text/plain": [
       "40.2072265900052"
      ]
     },
     "execution_count": 15,
     "metadata": {},
     "output_type": "execute_result"
    }
   ],
   "source": [
    "avg_off_mk.avg_spend.mean()"
   ]
  },
  {
   "cell_type": "markdown",
   "metadata": {},
   "source": [
    "### Calculating the average expenditure when a customer is part of a marketing campaign."
   ]
  },
  {
   "cell_type": "code",
   "execution_count": 14,
   "metadata": {},
   "outputs": [
    {
     "data": {
      "text/plain": [
       "47.10912781848704"
      ]
     },
     "execution_count": 14,
     "metadata": {},
     "output_type": "execute_result"
    }
   ],
   "source": [
    "avg_in_mk.avg_spend.mean()\n"
   ]
  },
  {
   "cell_type": "markdown",
   "metadata": {},
   "source": [
    "### Calcualting the coefficient of variation to measure the effect of marketing campaigns."
   ]
  },
  {
   "cell_type": "code",
   "execution_count": 10,
   "metadata": {},
   "outputs": [
    {
     "data": {
      "text/plain": [
       "17.165822698642753"
      ]
     },
     "execution_count": 10,
     "metadata": {},
     "output_type": "execute_result"
    }
   ],
   "source": [
    "((avg_in_mk.avg_spend.mean() / avg_off_mk.avg_spend.mean()) -1) *100"
   ]
  },
  {
   "cell_type": "markdown",
   "metadata": {},
   "source": [
    "#### Comments on the results:\n",
    "\n",
    "The results indicate that on average, customers spend 17% more when they are part of a marketing campaign than when they are not.\n",
    "\n",
    "This give us a starting point to improve their marketing efforts by using data analytics techniques to leverage on data in order to perform customize campaigns thus, driving up revenues for the supermarket.  "
   ]
  },
  {
   "cell_type": "code",
   "execution_count": null,
   "metadata": {},
   "outputs": [],
   "source": []
  }
 ],
 "metadata": {
  "kernelspec": {
   "display_name": "Python 3",
   "language": "python",
   "name": "python3"
  },
  "language_info": {
   "codemirror_mode": {
    "name": "ipython",
    "version": 3
   },
   "file_extension": ".py",
   "mimetype": "text/x-python",
   "name": "python",
   "nbconvert_exporter": "python",
   "pygments_lexer": "ipython3",
   "version": "3.7.3"
  }
 },
 "nbformat": 4,
 "nbformat_minor": 2
}
