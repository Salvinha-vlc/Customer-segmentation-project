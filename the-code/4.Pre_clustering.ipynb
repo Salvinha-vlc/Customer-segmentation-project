{
 "cells": [
  {
   "cell_type": "code",
   "execution_count": 1,
   "metadata": {},
   "outputs": [],
   "source": [
    "import pandas as pd\n",
    "pd.set_option('display.max_columns', 50)\n",
    "import numpy as np\n",
    "import matplotlib.pyplot as plt\n",
    "import seaborn as sns\n",
    "from sqlalchemy import create_engine"
   ]
  },
  {
   "cell_type": "markdown",
   "metadata": {},
   "source": [
    "### Importing transactions table"
   ]
  },
  {
   "cell_type": "code",
   "execution_count": 6,
   "metadata": {},
   "outputs": [],
   "source": [
    "driver = 'mysql+pymysql:'\n",
    "user = 'lordchava'\n",
    "password = '19693903'\n",
    "ip = '104.155.143.225'\n",
    "database = 'final_project'"
   ]
  },
  {
   "cell_type": "code",
   "execution_count": 7,
   "metadata": {},
   "outputs": [],
   "source": [
    "connection_string = f'{driver}//{user}:{password}@{ip}/{database}'\n",
    "engine = create_engine(connection_string)"
   ]
  },
  {
   "cell_type": "code",
   "execution_count": 4,
   "metadata": {},
   "outputs": [],
   "source": [
    "transactions_df = pd.read_csv(\"../../data_final_project/transactions_clean.csv\")"
   ]
  },
  {
   "cell_type": "markdown",
   "metadata": {},
   "source": [
    "### Reordering columns"
   ]
  },
  {
   "cell_type": "code",
   "execution_count": 3,
   "metadata": {},
   "outputs": [
    {
     "data": {
      "text/plain": [
       "Index(['HOUSEHOLD_KEY', 'BASKET_ID', 'WEEK_NO', 'DAY', 'TRANS_TIME',\n",
       "       'STORE_ID', 'PRODUCT_ID', 'QUANTITY', 'SALES_VALUE', 'RETAIL_DISC',\n",
       "       'COUPON_DISC', 'COUPON_MATCH_DISC', 'SHELF_PRICE', 'CLIENT_PRICE',\n",
       "       '%_TOTAL_DISCOUNT', '%_LOYALTY_DISCOUNT', '%_COUPON_DISCOUNT'],\n",
       "      dtype='object')"
      ]
     },
     "execution_count": 3,
     "metadata": {},
     "output_type": "execute_result"
    }
   ],
   "source": [
    "transactions_df.columns"
   ]
  },
  {
   "cell_type": "code",
   "execution_count": 4,
   "metadata": {},
   "outputs": [],
   "source": [
    "transactions_columns = ['HOUSEHOLD_KEY', 'BASKET_ID', 'WEEK_NO', 'DAY', 'TRANS_TIME',\n",
    "       'STORE_ID', 'PRODUCT_ID', 'QUANTITY', 'SHELF_PRICE', 'SALES_VALUE', 'RETAIL_DISC',\n",
    "       'COUPON_DISC', 'COUPON_MATCH_DISC', 'CLIENT_PRICE',\n",
    "       '%_TOTAL_DISCOUNT', '%_LOYALTY_DISCOUNT', '%_COUPON_DISCOUNT']"
   ]
  },
  {
   "cell_type": "code",
   "execution_count": 5,
   "metadata": {},
   "outputs": [],
   "source": [
    "transactions_df = transactions_df[transactions_columns]"
   ]
  },
  {
   "cell_type": "markdown",
   "metadata": {},
   "source": [
    "### Checking column types"
   ]
  },
  {
   "cell_type": "code",
   "execution_count": 6,
   "metadata": {},
   "outputs": [
    {
     "data": {
      "text/plain": [
       "HOUSEHOLD_KEY           int64\n",
       "BASKET_ID               int64\n",
       "WEEK_NO                 int64\n",
       "DAY                     int64\n",
       "TRANS_TIME              int64\n",
       "STORE_ID                int64\n",
       "PRODUCT_ID              int64\n",
       "QUANTITY                int64\n",
       "SHELF_PRICE           float64\n",
       "SALES_VALUE           float64\n",
       "RETAIL_DISC           float64\n",
       "COUPON_DISC           float64\n",
       "COUPON_MATCH_DISC     float64\n",
       "CLIENT_PRICE          float64\n",
       "%_TOTAL_DISCOUNT      float64\n",
       "%_LOYALTY_DISCOUNT    float64\n",
       "%_COUPON_DISCOUNT     float64\n",
       "dtype: object"
      ]
     },
     "execution_count": 6,
     "metadata": {},
     "output_type": "execute_result"
    }
   ],
   "source": [
    "transactions_df.dtypes"
   ]
  },
  {
   "cell_type": "markdown",
   "metadata": {},
   "source": [
    "### Creating a synthetic basket identifier called \"PURCHASE_ID\" to complement the existing identifier"
   ]
  },
  {
   "cell_type": "code",
   "execution_count": 7,
   "metadata": {},
   "outputs": [],
   "source": [
    "transactions_df[\"PURCHASE_ID\"] = transactions_df[[\"DAY\", \"TRANS_TIME\", \"HOUSEHOLD_KEY\"]].apply(lambda x: int(\"\".join(map(str, x))), axis=1)"
   ]
  },
  {
   "cell_type": "code",
   "execution_count": 8,
   "metadata": {},
   "outputs": [
    {
     "data": {
      "text/html": [
       "<div>\n",
       "<style scoped>\n",
       "    .dataframe tbody tr th:only-of-type {\n",
       "        vertical-align: middle;\n",
       "    }\n",
       "\n",
       "    .dataframe tbody tr th {\n",
       "        vertical-align: top;\n",
       "    }\n",
       "\n",
       "    .dataframe thead th {\n",
       "        text-align: right;\n",
       "    }\n",
       "</style>\n",
       "<table border=\"1\" class=\"dataframe\">\n",
       "  <thead>\n",
       "    <tr style=\"text-align: right;\">\n",
       "      <th></th>\n",
       "      <th>HOUSEHOLD_KEY</th>\n",
       "      <th>BASKET_ID</th>\n",
       "      <th>WEEK_NO</th>\n",
       "      <th>DAY</th>\n",
       "      <th>TRANS_TIME</th>\n",
       "      <th>STORE_ID</th>\n",
       "      <th>PRODUCT_ID</th>\n",
       "      <th>QUANTITY</th>\n",
       "      <th>SHELF_PRICE</th>\n",
       "      <th>SALES_VALUE</th>\n",
       "      <th>RETAIL_DISC</th>\n",
       "      <th>COUPON_DISC</th>\n",
       "      <th>COUPON_MATCH_DISC</th>\n",
       "      <th>CLIENT_PRICE</th>\n",
       "      <th>%_TOTAL_DISCOUNT</th>\n",
       "      <th>%_LOYALTY_DISCOUNT</th>\n",
       "      <th>%_COUPON_DISCOUNT</th>\n",
       "      <th>PURCHASE_ID</th>\n",
       "    </tr>\n",
       "  </thead>\n",
       "  <tbody>\n",
       "    <tr>\n",
       "      <th>0</th>\n",
       "      <td>2375</td>\n",
       "      <td>26984851472</td>\n",
       "      <td>1</td>\n",
       "      <td>1</td>\n",
       "      <td>1631</td>\n",
       "      <td>364</td>\n",
       "      <td>1004906</td>\n",
       "      <td>1</td>\n",
       "      <td>1.99</td>\n",
       "      <td>1.39</td>\n",
       "      <td>-0.60</td>\n",
       "      <td>0.0</td>\n",
       "      <td>0.0</td>\n",
       "      <td>1.39</td>\n",
       "      <td>0.301508</td>\n",
       "      <td>0.301508</td>\n",
       "      <td>0.0</td>\n",
       "      <td>116312375</td>\n",
       "    </tr>\n",
       "    <tr>\n",
       "      <th>1</th>\n",
       "      <td>2375</td>\n",
       "      <td>26984851472</td>\n",
       "      <td>1</td>\n",
       "      <td>1</td>\n",
       "      <td>1631</td>\n",
       "      <td>364</td>\n",
       "      <td>1033142</td>\n",
       "      <td>1</td>\n",
       "      <td>0.82</td>\n",
       "      <td>0.82</td>\n",
       "      <td>0.00</td>\n",
       "      <td>0.0</td>\n",
       "      <td>0.0</td>\n",
       "      <td>0.82</td>\n",
       "      <td>0.000000</td>\n",
       "      <td>0.000000</td>\n",
       "      <td>0.0</td>\n",
       "      <td>116312375</td>\n",
       "    </tr>\n",
       "    <tr>\n",
       "      <th>2</th>\n",
       "      <td>2375</td>\n",
       "      <td>26984851472</td>\n",
       "      <td>1</td>\n",
       "      <td>1</td>\n",
       "      <td>1631</td>\n",
       "      <td>364</td>\n",
       "      <td>1036325</td>\n",
       "      <td>1</td>\n",
       "      <td>1.29</td>\n",
       "      <td>0.99</td>\n",
       "      <td>-0.30</td>\n",
       "      <td>0.0</td>\n",
       "      <td>0.0</td>\n",
       "      <td>0.99</td>\n",
       "      <td>0.232558</td>\n",
       "      <td>0.232558</td>\n",
       "      <td>0.0</td>\n",
       "      <td>116312375</td>\n",
       "    </tr>\n",
       "    <tr>\n",
       "      <th>3</th>\n",
       "      <td>2375</td>\n",
       "      <td>26984851472</td>\n",
       "      <td>1</td>\n",
       "      <td>1</td>\n",
       "      <td>1631</td>\n",
       "      <td>364</td>\n",
       "      <td>1082185</td>\n",
       "      <td>1</td>\n",
       "      <td>1.21</td>\n",
       "      <td>1.21</td>\n",
       "      <td>0.00</td>\n",
       "      <td>0.0</td>\n",
       "      <td>0.0</td>\n",
       "      <td>1.21</td>\n",
       "      <td>0.000000</td>\n",
       "      <td>0.000000</td>\n",
       "      <td>0.0</td>\n",
       "      <td>116312375</td>\n",
       "    </tr>\n",
       "    <tr>\n",
       "      <th>4</th>\n",
       "      <td>2375</td>\n",
       "      <td>26984851472</td>\n",
       "      <td>1</td>\n",
       "      <td>1</td>\n",
       "      <td>1631</td>\n",
       "      <td>364</td>\n",
       "      <td>8160430</td>\n",
       "      <td>1</td>\n",
       "      <td>1.89</td>\n",
       "      <td>1.50</td>\n",
       "      <td>-0.39</td>\n",
       "      <td>0.0</td>\n",
       "      <td>0.0</td>\n",
       "      <td>1.50</td>\n",
       "      <td>0.206349</td>\n",
       "      <td>0.206349</td>\n",
       "      <td>0.0</td>\n",
       "      <td>116312375</td>\n",
       "    </tr>\n",
       "  </tbody>\n",
       "</table>\n",
       "</div>"
      ],
      "text/plain": [
       "   HOUSEHOLD_KEY    BASKET_ID  WEEK_NO  DAY  TRANS_TIME  STORE_ID  PRODUCT_ID  \\\n",
       "0           2375  26984851472        1    1        1631       364     1004906   \n",
       "1           2375  26984851472        1    1        1631       364     1033142   \n",
       "2           2375  26984851472        1    1        1631       364     1036325   \n",
       "3           2375  26984851472        1    1        1631       364     1082185   \n",
       "4           2375  26984851472        1    1        1631       364     8160430   \n",
       "\n",
       "   QUANTITY  SHELF_PRICE  SALES_VALUE  RETAIL_DISC  COUPON_DISC  \\\n",
       "0         1         1.99         1.39        -0.60          0.0   \n",
       "1         1         0.82         0.82         0.00          0.0   \n",
       "2         1         1.29         0.99        -0.30          0.0   \n",
       "3         1         1.21         1.21         0.00          0.0   \n",
       "4         1         1.89         1.50        -0.39          0.0   \n",
       "\n",
       "   COUPON_MATCH_DISC  CLIENT_PRICE  %_TOTAL_DISCOUNT  %_LOYALTY_DISCOUNT  \\\n",
       "0                0.0          1.39          0.301508            0.301508   \n",
       "1                0.0          0.82          0.000000            0.000000   \n",
       "2                0.0          0.99          0.232558            0.232558   \n",
       "3                0.0          1.21          0.000000            0.000000   \n",
       "4                0.0          1.50          0.206349            0.206349   \n",
       "\n",
       "   %_COUPON_DISCOUNT  PURCHASE_ID  \n",
       "0                0.0    116312375  \n",
       "1                0.0    116312375  \n",
       "2                0.0    116312375  \n",
       "3                0.0    116312375  \n",
       "4                0.0    116312375  "
      ]
     },
     "execution_count": 8,
     "metadata": {},
     "output_type": "execute_result"
    }
   ],
   "source": [
    "transactions_df.head()"
   ]
  },
  {
   "cell_type": "markdown",
   "metadata": {},
   "source": [
    "### Importing demographics table"
   ]
  },
  {
   "cell_type": "markdown",
   "metadata": {},
   "source": [
    "It is needed because some transactions are carried out by customers for whom we do not have demographics data. Since demographics will be used to interpret the clusters, we decide to remove all those transactions and just focus on the customers for whom we have demographic data about."
   ]
  },
  {
   "cell_type": "code",
   "execution_count": 8,
   "metadata": {},
   "outputs": [],
   "source": [
    "demo = pd.read_sql(\"demographics\", engine)"
   ]
  },
  {
   "cell_type": "markdown",
   "metadata": {},
   "source": [
    "### Creating and populating clustering dataframe"
   ]
  },
  {
   "cell_type": "code",
   "execution_count": 9,
   "metadata": {},
   "outputs": [],
   "source": [
    "clusters_df_base = demo.merge(transactions_df, how=\"left\", on=\"HOUSEHOLD_KEY\")"
   ]
  },
  {
   "cell_type": "markdown",
   "metadata": {},
   "source": [
    "With a left join we get to just focus on the customer's transactions for whom we have demographics data about"
   ]
  },
  {
   "cell_type": "code",
   "execution_count": 10,
   "metadata": {},
   "outputs": [],
   "source": [
    "clusters_df_base = clusters_df_base.drop(['AGE_DESC', 'INCOME_DESC', 'ADULTS_NUM', 'KIDS_NUM','NUMEROUS_FAM', 'SINGLE_GENDER'], axis=1)"
   ]
  },
  {
   "cell_type": "markdown",
   "metadata": {},
   "source": [
    "Creating again the synthetic identifier that will later be used to calculate some columns on"
   ]
  },
  {
   "cell_type": "code",
   "execution_count": 11,
   "metadata": {},
   "outputs": [],
   "source": [
    "clusters_df_base[\"PURCHASE_ID\"] = clusters_df_base[[\"DAY\", \"TRANS_TIME\", \"HOUSEHOLD_KEY\"]].apply(lambda x: int(\"\".join(map(str, x))), axis=1)"
   ]
  },
  {
   "cell_type": "markdown",
   "metadata": {},
   "source": [
    "### Checking in an exploratory manner for potential outliers"
   ]
  },
  {
   "cell_type": "markdown",
   "metadata": {},
   "source": [
    "This table below shows the top 10 customers with the greater number of unique products per basket"
   ]
  },
  {
   "cell_type": "code",
   "execution_count": 12,
   "metadata": {},
   "outputs": [
    {
     "data": {
      "text/html": [
       "<div>\n",
       "<style scoped>\n",
       "    .dataframe tbody tr th:only-of-type {\n",
       "        vertical-align: middle;\n",
       "    }\n",
       "\n",
       "    .dataframe tbody tr th {\n",
       "        vertical-align: top;\n",
       "    }\n",
       "\n",
       "    .dataframe thead th {\n",
       "        text-align: right;\n",
       "    }\n",
       "</style>\n",
       "<table border=\"1\" class=\"dataframe\">\n",
       "  <thead>\n",
       "    <tr style=\"text-align: right;\">\n",
       "      <th></th>\n",
       "      <th>PRODUCT_ID</th>\n",
       "    </tr>\n",
       "    <tr>\n",
       "      <th>PURCHASE_ID</th>\n",
       "      <th></th>\n",
       "    </tr>\n",
       "  </thead>\n",
       "  <tbody>\n",
       "    <tr>\n",
       "      <th>26717552294</th>\n",
       "      <td>167</td>\n",
       "    </tr>\n",
       "    <tr>\n",
       "      <th>43211191899</th>\n",
       "      <td>161</td>\n",
       "    </tr>\n",
       "    <tr>\n",
       "      <th>28719552208</th>\n",
       "      <td>153</td>\n",
       "    </tr>\n",
       "    <tr>\n",
       "      <th>6562047248</th>\n",
       "      <td>147</td>\n",
       "    </tr>\n",
       "    <tr>\n",
       "      <th>691017300</th>\n",
       "      <td>144</td>\n",
       "    </tr>\n",
       "    <tr>\n",
       "      <th>5672050248</th>\n",
       "      <td>138</td>\n",
       "    </tr>\n",
       "    <tr>\n",
       "      <th>4012102973</th>\n",
       "      <td>135</td>\n",
       "    </tr>\n",
       "    <tr>\n",
       "      <th>26013012294</th>\n",
       "      <td>134</td>\n",
       "    </tr>\n",
       "    <tr>\n",
       "      <th>64911011899</th>\n",
       "      <td>134</td>\n",
       "    </tr>\n",
       "    <tr>\n",
       "      <th>30711472489</th>\n",
       "      <td>133</td>\n",
       "    </tr>\n",
       "  </tbody>\n",
       "</table>\n",
       "</div>"
      ],
      "text/plain": [
       "             PRODUCT_ID\n",
       "PURCHASE_ID            \n",
       "26717552294         167\n",
       "43211191899         161\n",
       "28719552208         153\n",
       "6562047248          147\n",
       "691017300           144\n",
       "5672050248          138\n",
       "4012102973          135\n",
       "26013012294         134\n",
       "64911011899         134\n",
       "30711472489         133"
      ]
     },
     "execution_count": 12,
     "metadata": {},
     "output_type": "execute_result"
    }
   ],
   "source": [
    "clusters_df_base.groupby([\"PURCHASE_ID\"])[\"PRODUCT_ID\"].nunique().sort_values(ascending=False).to_frame().head(10)"
   ]
  },
  {
   "cell_type": "markdown",
   "metadata": {},
   "source": [
    "We decide to get rid of the articles lower than 1$ since we observed that they are creating noise in our calculated fields"
   ]
  },
  {
   "cell_type": "code",
   "execution_count": 13,
   "metadata": {},
   "outputs": [],
   "source": [
    "clusters_df_base=clusters_df_base[clusters_df_base[\"SHELF_PRICE\"]>=1]"
   ]
  },
  {
   "cell_type": "code",
   "execution_count": 16,
   "metadata": {},
   "outputs": [
    {
     "data": {
      "text/plain": [
       "(1271178, 18)"
      ]
     },
     "execution_count": 16,
     "metadata": {},
     "output_type": "execute_result"
    }
   ],
   "source": [
    "clusters_df_base.shape"
   ]
  },
  {
   "cell_type": "code",
   "execution_count": null,
   "metadata": {},
   "outputs": [],
   "source": [
    "clusters_df_base.to_csv(\"../../data_final_project/pre_macro_cluster.csv\", index=False)"
   ]
  },
  {
   "cell_type": "markdown",
   "metadata": {},
   "source": [
    "### Uploading the data to our database"
   ]
  },
  {
   "cell_type": "markdown",
   "metadata": {},
   "source": [
    "Since we were having issues to upload it to the Google database, we performed this operation in our localhost"
   ]
  },
  {
   "cell_type": "code",
   "execution_count": 25,
   "metadata": {},
   "outputs": [],
   "source": [
    "driver = 'mysql+pymysql:'\n",
    "user = 'root'\n",
    "password = 'xxxxxx'\n",
    "ip = '127.0.0.1'\n",
    "database = 'proyecto_final'"
   ]
  },
  {
   "cell_type": "code",
   "execution_count": null,
   "metadata": {},
   "outputs": [],
   "source": [
    "connection_string = f'{driver}//{user}:{password}@{ip}/{database}'\n",
    "engine = create_engine(connection_string)"
   ]
  },
  {
   "cell_type": "code",
   "execution_count": 27,
   "metadata": {
    "scrolled": false
   },
   "outputs": [],
   "source": [
    "clusters_df_base.to_sql('cluster_df_based',engine, index=False)"
   ]
  }
 ],
 "metadata": {
  "kernelspec": {
   "display_name": "ironhack",
   "language": "python",
   "name": "ironhack"
  },
  "language_info": {
   "codemirror_mode": {
    "name": "ipython",
    "version": 3
   },
   "file_extension": ".py",
   "mimetype": "text/x-python",
   "name": "python",
   "nbconvert_exporter": "python",
   "pygments_lexer": "ipython3",
   "version": "3.7.3"
  }
 },
 "nbformat": 4,
 "nbformat_minor": 2
}
